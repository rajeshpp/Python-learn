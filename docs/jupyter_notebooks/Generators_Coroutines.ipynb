{
 "cells": [
  {
   "cell_type": "code",
   "execution_count": 11,
   "metadata": {},
   "outputs": [
    {
     "name": "stdout",
     "output_type": "stream",
     "text": [
      "1\n",
      "2\n",
      "3\n"
     ]
    },
    {
     "ename": "StopIteration",
     "evalue": "",
     "output_type": "error",
     "traceback": [
      "\u001b[1;31m---------------------------------------------------------------------------\u001b[0m",
      "\u001b[1;31mStopIteration\u001b[0m                             Traceback (most recent call last)",
      "\u001b[1;32m<ipython-input-11-a68eb1f323e3>\u001b[0m in \u001b[0;36m<module>\u001b[1;34m\u001b[0m\n\u001b[0;32m     10\u001b[0m \u001b[0mprint\u001b[0m\u001b[1;33m(\u001b[0m\u001b[0mnext\u001b[0m\u001b[1;33m(\u001b[0m\u001b[0mf\u001b[0m\u001b[1;33m)\u001b[0m\u001b[1;33m)\u001b[0m\u001b[1;33m\u001b[0m\u001b[1;33m\u001b[0m\u001b[0m\n\u001b[0;32m     11\u001b[0m \u001b[0mprint\u001b[0m\u001b[1;33m(\u001b[0m\u001b[0mnext\u001b[0m\u001b[1;33m(\u001b[0m\u001b[0mf\u001b[0m\u001b[1;33m)\u001b[0m\u001b[1;33m)\u001b[0m\u001b[1;33m\u001b[0m\u001b[1;33m\u001b[0m\u001b[0m\n\u001b[1;32m---> 12\u001b[1;33m \u001b[0mprint\u001b[0m\u001b[1;33m(\u001b[0m\u001b[0mnext\u001b[0m\u001b[1;33m(\u001b[0m\u001b[0mf\u001b[0m\u001b[1;33m)\u001b[0m\u001b[1;33m)\u001b[0m\u001b[1;33m\u001b[0m\u001b[1;33m\u001b[0m\u001b[0m\n\u001b[0m",
      "\u001b[1;31mStopIteration\u001b[0m: "
     ]
    }
   ],
   "source": [
    "#Both of the styles below are same.\n",
    "#Style 1\n",
    "a=[1,2,3]\n",
    "def fun1():\n",
    "    for i in a:\n",
    "        yield i\n",
    "        \n",
    "f = fun1()\n",
    "print(next(f))\n",
    "print(next(f))\n",
    "print(next(f))\n",
    "print(next(f))"
   ]
  },
  {
   "cell_type": "code",
   "execution_count": 12,
   "metadata": {},
   "outputs": [
    {
     "name": "stdout",
     "output_type": "stream",
     "text": [
      "1\n",
      "2\n",
      "3\n"
     ]
    },
    {
     "ename": "StopIteration",
     "evalue": "",
     "output_type": "error",
     "traceback": [
      "\u001b[1;31m---------------------------------------------------------------------------\u001b[0m",
      "\u001b[1;31mStopIteration\u001b[0m                             Traceback (most recent call last)",
      "\u001b[1;32m<ipython-input-12-650968f5c198>\u001b[0m in \u001b[0;36m<module>\u001b[1;34m\u001b[0m\n\u001b[0;32m      8\u001b[0m \u001b[0mprint\u001b[0m\u001b[1;33m(\u001b[0m\u001b[0mnext\u001b[0m\u001b[1;33m(\u001b[0m\u001b[0mf\u001b[0m\u001b[1;33m)\u001b[0m\u001b[1;33m)\u001b[0m\u001b[1;33m\u001b[0m\u001b[1;33m\u001b[0m\u001b[0m\n\u001b[0;32m      9\u001b[0m \u001b[0mprint\u001b[0m\u001b[1;33m(\u001b[0m\u001b[0mnext\u001b[0m\u001b[1;33m(\u001b[0m\u001b[0mf\u001b[0m\u001b[1;33m)\u001b[0m\u001b[1;33m)\u001b[0m\u001b[1;33m\u001b[0m\u001b[1;33m\u001b[0m\u001b[0m\n\u001b[1;32m---> 10\u001b[1;33m \u001b[0mprint\u001b[0m\u001b[1;33m(\u001b[0m\u001b[0mnext\u001b[0m\u001b[1;33m(\u001b[0m\u001b[0mf\u001b[0m\u001b[1;33m)\u001b[0m\u001b[1;33m)\u001b[0m\u001b[1;33m\u001b[0m\u001b[1;33m\u001b[0m\u001b[0m\n\u001b[0m",
      "\u001b[1;31mStopIteration\u001b[0m: "
     ]
    }
   ],
   "source": [
    "#Style 2\n",
    "a=[1,2,3]\n",
    "def fun2():\n",
    "    yield from a\n",
    "        \n",
    "f = fun2()\n",
    "print(next(f))\n",
    "print(next(f))\n",
    "print(next(f))\n",
    "print(next(f))"
   ]
  },
  {
   "cell_type": "markdown",
   "metadata": {},
   "source": [
    "# https://github.com/dabeaz/generators/tree/master/examples"
   ]
  },
  {
   "cell_type": "code",
   "execution_count": 13,
   "metadata": {},
   "outputs": [
    {
     "ename": "FileNotFoundError",
     "evalue": "[Errno 2] No such file or directory: 'access-log'",
     "output_type": "error",
     "traceback": [
      "\u001b[1;31m---------------------------------------------------------------------------\u001b[0m",
      "\u001b[1;31mFileNotFoundError\u001b[0m                         Traceback (most recent call last)",
      "\u001b[1;32m<ipython-input-13-59703de4040f>\u001b[0m in \u001b[0;36m<module>\u001b[1;34m\u001b[0m\n\u001b[0;32m      4\u001b[0m \u001b[1;31m# using a simple for-loop.   We're not using generators here.\u001b[0m\u001b[1;33m\u001b[0m\u001b[1;33m\u001b[0m\u001b[1;33m\u001b[0m\u001b[0m\n\u001b[0;32m      5\u001b[0m \u001b[1;33m\u001b[0m\u001b[0m\n\u001b[1;32m----> 6\u001b[1;33m \u001b[1;32mwith\u001b[0m \u001b[0mopen\u001b[0m\u001b[1;33m(\u001b[0m\u001b[1;34m\"access-log\"\u001b[0m\u001b[1;33m)\u001b[0m \u001b[1;32mas\u001b[0m \u001b[0mwwwlog\u001b[0m\u001b[1;33m:\u001b[0m\u001b[1;33m\u001b[0m\u001b[1;33m\u001b[0m\u001b[0m\n\u001b[0m\u001b[0;32m      7\u001b[0m     \u001b[0mtotal\u001b[0m \u001b[1;33m=\u001b[0m \u001b[1;36m0\u001b[0m\u001b[1;33m\u001b[0m\u001b[1;33m\u001b[0m\u001b[0m\n\u001b[0;32m      8\u001b[0m     \u001b[1;32mfor\u001b[0m \u001b[0mline\u001b[0m \u001b[1;32min\u001b[0m \u001b[0mwwwlog\u001b[0m\u001b[1;33m:\u001b[0m\u001b[1;33m\u001b[0m\u001b[1;33m\u001b[0m\u001b[0m\n",
      "\u001b[1;31mFileNotFoundError\u001b[0m: [Errno 2] No such file or directory: 'access-log'"
     ]
    }
   ],
   "source": [
    "# nongenlog.py\n",
    "#\n",
    "# Sum up the number of bytes transferred in an Apache log file\n",
    "# using a simple for-loop.   We're not using generators here.\n",
    "\n",
    "with open(\"access-log\") as wwwlog:\n",
    "    total = 0\n",
    "    for line in wwwlog:\n",
    "        bytes_sent = line.rsplit(None,1)[1]\n",
    "        if bytes_sent != '-':\n",
    "            total += int(bytes_sent)\n",
    "    print(\"Total\", total)"
   ]
  },
  {
   "cell_type": "code",
   "execution_count": 14,
   "metadata": {},
   "outputs": [
    {
     "ename": "FileNotFoundError",
     "evalue": "[Errno 2] No such file or directory: 'access-log'",
     "output_type": "error",
     "traceback": [
      "\u001b[1;31m---------------------------------------------------------------------------\u001b[0m",
      "\u001b[1;31mFileNotFoundError\u001b[0m                         Traceback (most recent call last)",
      "\u001b[1;32m<ipython-input-14-ffc041b048bf>\u001b[0m in \u001b[0;36m<module>\u001b[1;34m\u001b[0m\n\u001b[0;32m      4\u001b[0m \u001b[1;31m# generator expressions\u001b[0m\u001b[1;33m\u001b[0m\u001b[1;33m\u001b[0m\u001b[1;33m\u001b[0m\u001b[0m\n\u001b[0;32m      5\u001b[0m \u001b[1;33m\u001b[0m\u001b[0m\n\u001b[1;32m----> 6\u001b[1;33m \u001b[1;32mwith\u001b[0m \u001b[0mopen\u001b[0m\u001b[1;33m(\u001b[0m\u001b[1;34m\"access-log\"\u001b[0m\u001b[1;33m)\u001b[0m \u001b[1;32mas\u001b[0m \u001b[0mwwwlog\u001b[0m\u001b[1;33m:\u001b[0m\u001b[1;33m\u001b[0m\u001b[1;33m\u001b[0m\u001b[0m\n\u001b[0m\u001b[0;32m      7\u001b[0m     \u001b[0mbytecolumn\u001b[0m \u001b[1;33m=\u001b[0m \u001b[1;33m(\u001b[0m\u001b[0mline\u001b[0m\u001b[1;33m.\u001b[0m\u001b[0mrsplit\u001b[0m\u001b[1;33m(\u001b[0m\u001b[1;32mNone\u001b[0m\u001b[1;33m,\u001b[0m\u001b[1;36m1\u001b[0m\u001b[1;33m)\u001b[0m\u001b[1;33m[\u001b[0m\u001b[1;36m1\u001b[0m\u001b[1;33m]\u001b[0m \u001b[1;32mfor\u001b[0m \u001b[0mline\u001b[0m \u001b[1;32min\u001b[0m \u001b[0mwwwlog\u001b[0m\u001b[1;33m)\u001b[0m\u001b[1;33m\u001b[0m\u001b[1;33m\u001b[0m\u001b[0m\n\u001b[0;32m      8\u001b[0m     \u001b[0mbytes_sent\u001b[0m \u001b[1;33m=\u001b[0m \u001b[1;33m(\u001b[0m\u001b[0mint\u001b[0m\u001b[1;33m(\u001b[0m\u001b[0mx\u001b[0m\u001b[1;33m)\u001b[0m \u001b[1;32mfor\u001b[0m \u001b[0mx\u001b[0m \u001b[1;32min\u001b[0m \u001b[0mbytecolumn\u001b[0m \u001b[1;32mif\u001b[0m \u001b[0mx\u001b[0m \u001b[1;33m!=\u001b[0m \u001b[1;34m'-'\u001b[0m\u001b[1;33m)\u001b[0m\u001b[1;33m\u001b[0m\u001b[1;33m\u001b[0m\u001b[0m\n",
      "\u001b[1;31mFileNotFoundError\u001b[0m: [Errno 2] No such file or directory: 'access-log'"
     ]
    }
   ],
   "source": [
    "# genlog.py\n",
    "#\n",
    "# Sum up the bytes transferred in an Apache server log using\n",
    "# generator expressions\n",
    "\n",
    "with open(\"access-log\") as wwwlog:\n",
    "    bytecolumn = (line.rsplit(None,1)[1] for line in wwwlog)\n",
    "    bytes_sent = (int(x) for x in bytecolumn if x != '-')\n",
    "    print(\"Total\", sum(bytes_sent))"
   ]
  },
  {
   "cell_type": "code",
   "execution_count": 15,
   "metadata": {},
   "outputs": [
    {
     "name": "stderr",
     "output_type": "stream",
     "text": [
      "Usage : makebig.py repetitions\n"
     ]
    },
    {
     "ename": "SystemExit",
     "evalue": "1",
     "output_type": "error",
     "traceback": [
      "An exception has occurred, use %tb to see the full traceback.\n",
      "\u001b[1;31mSystemExit\u001b[0m\u001b[1;31m:\u001b[0m 1\n"
     ]
    },
    {
     "name": "stderr",
     "output_type": "stream",
     "text": [
      "C:\\Users\\rpaleru\\AppData\\Local\\Continuum\\anaconda3\\lib\\site-packages\\IPython\\core\\interactiveshell.py:3275: UserWarning: To exit: use 'exit', 'quit', or Ctrl-D.\n",
      "  warn(\"To exit: use 'exit', 'quit', or Ctrl-D.\", stacklevel=1)\n"
     ]
    }
   ],
   "source": [
    "# Make a big log file for testing\n",
    "\n",
    "import sys\n",
    "\n",
    "if len(sys.argv) != 2:\n",
    "    print(\"Usage : makebig.py repetitions\", file=sys.stderr)\n",
    "    raise SystemExit(1)\n",
    "\n",
    "data = open(\"access-log\").read()\n",
    "\n",
    "with open(\"big-access-log\",\"w\") as f:\n",
    "    for i in range(int(sys.argv[1])):\n",
    "        f.write(data)"
   ]
  },
  {
   "cell_type": "code",
   "execution_count": 16,
   "metadata": {},
   "outputs": [],
   "source": [
    "# genfind.py\n",
    "#\n",
    "# A function that generates files that match a given filename pattern\n",
    "\n",
    "from pathlib import Path\n",
    "\n",
    "def gen_find(filepat, top):\n",
    "    yield from Path(top).rglob(filepat)\n",
    "\n",
    "# Example use\n",
    "\n",
    "if __name__ == '__main__':\n",
    "    lognames = gen_find(\"access-log*\",\"www\")\n",
    "    for name in lognames:\n",
    "        print(name)"
   ]
  },
  {
   "cell_type": "code",
   "execution_count": 19,
   "metadata": {},
   "outputs": [],
   "source": [
    "# genopen.py\n",
    "#\n",
    "# Takes a sequence of filenames as input and yields a sequence of file\n",
    "# objects that have been suitably open\n",
    "\n",
    "import gzip, bz2\n",
    "\n",
    "def gen_open(paths):\n",
    "    for path in paths:\n",
    "        if path.suffix == '.gz':\n",
    "            yield gzip.open(path, 'rt')\n",
    "        elif path.suffix == '.bz2':\n",
    "            yield bz2.open(path, 'rt')\n",
    "        else:\n",
    "            yield open(path, 'rt')\n",
    "\n",
    "# Example use\n",
    "\n",
    "if __name__ == '__main__':\n",
    "    from pathlib import Path\n",
    "    lognames = Path('www').rglob('access-log*')\n",
    "    logfiles = gen_open(lognames)\n",
    "    for f in logfiles:\n",
    "        print(f)"
   ]
  },
  {
   "cell_type": "code",
   "execution_count": 18,
   "metadata": {},
   "outputs": [
    {
     "ename": "ModuleNotFoundError",
     "evalue": "No module named 'genopen'",
     "output_type": "error",
     "traceback": [
      "\u001b[1;31m---------------------------------------------------------------------------\u001b[0m",
      "\u001b[1;31mModuleNotFoundError\u001b[0m                       Traceback (most recent call last)",
      "\u001b[1;32m<ipython-input-18-25e2047a8607>\u001b[0m in \u001b[0;36m<module>\u001b[1;34m\u001b[0m\n\u001b[0;32m     11\u001b[0m \u001b[1;32mif\u001b[0m \u001b[0m__name__\u001b[0m \u001b[1;33m==\u001b[0m \u001b[1;34m'__main__'\u001b[0m\u001b[1;33m:\u001b[0m\u001b[1;33m\u001b[0m\u001b[1;33m\u001b[0m\u001b[0m\n\u001b[0;32m     12\u001b[0m     \u001b[1;32mfrom\u001b[0m \u001b[0mpathlib\u001b[0m \u001b[1;32mimport\u001b[0m \u001b[0mPath\u001b[0m\u001b[1;33m\u001b[0m\u001b[1;33m\u001b[0m\u001b[0m\n\u001b[1;32m---> 13\u001b[1;33m     \u001b[1;32mfrom\u001b[0m \u001b[0mgenopen\u001b[0m \u001b[1;32mimport\u001b[0m \u001b[0mgen_open\u001b[0m\u001b[1;33m\u001b[0m\u001b[1;33m\u001b[0m\u001b[0m\n\u001b[0m\u001b[0;32m     14\u001b[0m \u001b[1;33m\u001b[0m\u001b[0m\n\u001b[0;32m     15\u001b[0m     \u001b[0mlognames\u001b[0m \u001b[1;33m=\u001b[0m \u001b[0mPath\u001b[0m\u001b[1;33m(\u001b[0m\u001b[1;34m'www'\u001b[0m\u001b[1;33m)\u001b[0m\u001b[1;33m.\u001b[0m\u001b[0mrglob\u001b[0m\u001b[1;33m(\u001b[0m\u001b[1;34m'access-log*'\u001b[0m\u001b[1;33m)\u001b[0m\u001b[1;33m\u001b[0m\u001b[1;33m\u001b[0m\u001b[0m\n",
      "\u001b[1;31mModuleNotFoundError\u001b[0m: No module named 'genopen'"
     ]
    }
   ],
   "source": [
    "# gencat.py\n",
    "#\n",
    "# Concatenate multiple generators into a single sequence\n",
    "\n",
    "def gen_cat(sources):\n",
    "    for src in sources:\n",
    "        yield from src\n",
    "\n",
    "# Example use\n",
    "\n",
    "if __name__ == '__main__':\n",
    "    from pathlib import Path\n",
    "    from genopen import gen_open\n",
    "\n",
    "    lognames = Path('www').rglob('access-log*')\n",
    "    logfiles = gen_open(lognames)\n",
    "    loglines = gen_cat(logfiles)\n",
    "    for line in loglines:\n",
    "        print(line,end='')"
   ]
  },
  {
   "cell_type": "code",
   "execution_count": 20,
   "metadata": {},
   "outputs": [
    {
     "ename": "ModuleNotFoundError",
     "evalue": "No module named 'genopen'",
     "output_type": "error",
     "traceback": [
      "\u001b[1;31m---------------------------------------------------------------------------\u001b[0m",
      "\u001b[1;31mModuleNotFoundError\u001b[0m                       Traceback (most recent call last)",
      "\u001b[1;32m<ipython-input-20-b25b70722684>\u001b[0m in \u001b[0;36m<module>\u001b[1;34m\u001b[0m\n\u001b[0;32m     12\u001b[0m \u001b[1;32mif\u001b[0m \u001b[0m__name__\u001b[0m \u001b[1;33m==\u001b[0m \u001b[1;34m'__main__'\u001b[0m\u001b[1;33m:\u001b[0m\u001b[1;33m\u001b[0m\u001b[1;33m\u001b[0m\u001b[0m\n\u001b[0;32m     13\u001b[0m     \u001b[1;32mfrom\u001b[0m \u001b[0mpathlib\u001b[0m \u001b[1;32mimport\u001b[0m \u001b[0mPath\u001b[0m\u001b[1;33m\u001b[0m\u001b[1;33m\u001b[0m\u001b[0m\n\u001b[1;32m---> 14\u001b[1;33m     \u001b[1;32mfrom\u001b[0m \u001b[0mgenopen\u001b[0m \u001b[1;32mimport\u001b[0m  \u001b[0mgen_open\u001b[0m\u001b[1;33m\u001b[0m\u001b[1;33m\u001b[0m\u001b[0m\n\u001b[0m\u001b[0;32m     15\u001b[0m     \u001b[1;32mfrom\u001b[0m \u001b[0mgencat\u001b[0m  \u001b[1;32mimport\u001b[0m  \u001b[0mgen_cat\u001b[0m\u001b[1;33m\u001b[0m\u001b[1;33m\u001b[0m\u001b[0m\n\u001b[0;32m     16\u001b[0m \u001b[1;33m\u001b[0m\u001b[0m\n",
      "\u001b[1;31mModuleNotFoundError\u001b[0m: No module named 'genopen'"
     ]
    }
   ],
   "source": [
    "# gengrep.py\n",
    "#\n",
    "# Grep a sequence of lines that match a re pattern\n",
    "\n",
    "import re\n",
    "def gen_grep(pat, lines):\n",
    "    patc = re.compile(pat)\n",
    "    return (line for line in lines if patc.search(line))\n",
    "\n",
    "# Example use\n",
    "\n",
    "if __name__ == '__main__':\n",
    "    from pathlib import Path\n",
    "    from genopen import  gen_open\n",
    "    from gencat  import  gen_cat\n",
    "\n",
    "    lognames = Path('www').rglob('access-log*')\n",
    "    logfiles = gen_open(lognames)\n",
    "    loglines = gen_cat(logfiles)\n",
    "\n",
    "    # Look for ply downloads (PLY is my own Python package)\n",
    "    plylines = gen_grep(r'ply-.*\\.gz',loglines)\n",
    "    for line in plylines:\n",
    "        print(line, end='')"
   ]
  },
  {
   "cell_type": "code",
   "execution_count": 21,
   "metadata": {},
   "outputs": [
    {
     "ename": "ModuleNotFoundError",
     "evalue": "No module named 'genfind'",
     "output_type": "error",
     "traceback": [
      "\u001b[1;31m---------------------------------------------------------------------------\u001b[0m",
      "\u001b[1;31mModuleNotFoundError\u001b[0m                       Traceback (most recent call last)",
      "\u001b[1;32m<ipython-input-21-dd4a3211db0b>\u001b[0m in \u001b[0;36m<module>\u001b[1;34m\u001b[0m\n\u001b[0;32m      4\u001b[0m \u001b[1;31m# pipeline.\u001b[0m\u001b[1;33m\u001b[0m\u001b[1;33m\u001b[0m\u001b[1;33m\u001b[0m\u001b[0m\n\u001b[0;32m      5\u001b[0m \u001b[1;33m\u001b[0m\u001b[0m\n\u001b[1;32m----> 6\u001b[1;33m \u001b[1;32mfrom\u001b[0m \u001b[0mgenfind\u001b[0m \u001b[1;32mimport\u001b[0m \u001b[1;33m*\u001b[0m\u001b[1;33m\u001b[0m\u001b[1;33m\u001b[0m\u001b[0m\n\u001b[0m\u001b[0;32m      7\u001b[0m \u001b[1;32mfrom\u001b[0m \u001b[0mgenopen\u001b[0m \u001b[1;32mimport\u001b[0m \u001b[1;33m*\u001b[0m\u001b[1;33m\u001b[0m\u001b[1;33m\u001b[0m\u001b[0m\n\u001b[0;32m      8\u001b[0m \u001b[1;32mfrom\u001b[0m \u001b[0mgencat\u001b[0m \u001b[1;32mimport\u001b[0m \u001b[1;33m*\u001b[0m\u001b[1;33m\u001b[0m\u001b[1;33m\u001b[0m\u001b[0m\n",
      "\u001b[1;31mModuleNotFoundError\u001b[0m: No module named 'genfind'"
     ]
    }
   ],
   "source": [
    "# bytesgen.py\n",
    "#\n",
    "# An example of chaining together different generators into a processing\n",
    "# pipeline.    \n",
    "\n",
    "from genfind import *\n",
    "from genopen import *\n",
    "from gencat import *\n",
    "from gengrep import *\n",
    "\n",
    "pat    = r'ply-.*\\.gz'\n",
    "logdir = 'www'\n",
    "\n",
    "filenames = gen_find(\"access-log*\",logdir)\n",
    "logfiles  = gen_open(filenames)\n",
    "loglines  = gen_cat(logfiles)\n",
    "patlines  = gen_grep(pat,loglines)\n",
    "bytecol   = (line.rsplit(None,1)[1] for line in patlines)\n",
    "bytes_sent= (int(x) for x in bytecol if x != '-')\n",
    "\n",
    "print(\"Total\", sum(bytes_sent))"
   ]
  },
  {
   "cell_type": "code",
   "execution_count": 22,
   "metadata": {},
   "outputs": [
    {
     "ename": "FileNotFoundError",
     "evalue": "[Errno 2] No such file or directory: 'access-log'",
     "output_type": "error",
     "traceback": [
      "\u001b[1;31m---------------------------------------------------------------------------\u001b[0m",
      "\u001b[1;31mFileNotFoundError\u001b[0m                         Traceback (most recent call last)",
      "\u001b[1;32m<ipython-input-22-98f1ac726319>\u001b[0m in \u001b[0;36m<module>\u001b[1;34m\u001b[0m\n\u001b[0;32m      3\u001b[0m \u001b[1;31m# Read a sequence of log lines and parse them into a sequence of tuples\u001b[0m\u001b[1;33m\u001b[0m\u001b[1;33m\u001b[0m\u001b[1;33m\u001b[0m\u001b[0m\n\u001b[0;32m      4\u001b[0m \u001b[1;33m\u001b[0m\u001b[0m\n\u001b[1;32m----> 5\u001b[1;33m \u001b[0mloglines\u001b[0m \u001b[1;33m=\u001b[0m \u001b[0mopen\u001b[0m\u001b[1;33m(\u001b[0m\u001b[1;34m\"access-log\"\u001b[0m\u001b[1;33m)\u001b[0m\u001b[1;33m\u001b[0m\u001b[1;33m\u001b[0m\u001b[0m\n\u001b[0m\u001b[0;32m      6\u001b[0m \u001b[1;33m\u001b[0m\u001b[0m\n\u001b[0;32m      7\u001b[0m \u001b[1;32mimport\u001b[0m \u001b[0mre\u001b[0m\u001b[1;33m\u001b[0m\u001b[1;33m\u001b[0m\u001b[0m\n",
      "\u001b[1;31mFileNotFoundError\u001b[0m: [Errno 2] No such file or directory: 'access-log'"
     ]
    }
   ],
   "source": [
    "# retuple.py\n",
    "#\n",
    "# Read a sequence of log lines and parse them into a sequence of tuples\n",
    "\n",
    "loglines = open(\"access-log\")\n",
    "\n",
    "import re\n",
    "\n",
    "logpats  = r'(\\S+) (\\S+) (\\S+) \\[(.*?)\\] ' \\\n",
    "           r'\"(\\S+) (\\S+) (\\S+)\" (\\S+) (\\S+)'\n",
    "\n",
    "logpat   = re.compile(logpats)\n",
    "\n",
    "groups   = (logpat.match(line) for line in loglines)\n",
    "tuples   = (g.groups() for g in groups if g)\n",
    "\n",
    "if __name__ == '__main__':\n",
    "    for t in tuples:\n",
    "        print(t)"
   ]
  },
  {
   "cell_type": "code",
   "execution_count": 23,
   "metadata": {},
   "outputs": [
    {
     "ename": "FileNotFoundError",
     "evalue": "[Errno 2] No such file or directory: 'access-log'",
     "output_type": "error",
     "traceback": [
      "\u001b[1;31m---------------------------------------------------------------------------\u001b[0m",
      "\u001b[1;31mFileNotFoundError\u001b[0m                         Traceback (most recent call last)",
      "\u001b[1;32m<ipython-input-23-a90ad4346529>\u001b[0m in \u001b[0;36m<module>\u001b[1;34m\u001b[0m\n\u001b[0;32m      3\u001b[0m \u001b[1;31m# Read a sequence of log lines and parse them into a sequence of dictionaries\u001b[0m\u001b[1;33m\u001b[0m\u001b[1;33m\u001b[0m\u001b[1;33m\u001b[0m\u001b[0m\n\u001b[0;32m      4\u001b[0m \u001b[1;33m\u001b[0m\u001b[0m\n\u001b[1;32m----> 5\u001b[1;33m \u001b[0mloglines\u001b[0m \u001b[1;33m=\u001b[0m \u001b[0mopen\u001b[0m\u001b[1;33m(\u001b[0m\u001b[1;34m\"access-log\"\u001b[0m\u001b[1;33m)\u001b[0m\u001b[1;33m\u001b[0m\u001b[1;33m\u001b[0m\u001b[0m\n\u001b[0m\u001b[0;32m      6\u001b[0m \u001b[1;33m\u001b[0m\u001b[0m\n\u001b[0;32m      7\u001b[0m \u001b[1;32mimport\u001b[0m \u001b[0mre\u001b[0m\u001b[1;33m\u001b[0m\u001b[1;33m\u001b[0m\u001b[0m\n",
      "\u001b[1;31mFileNotFoundError\u001b[0m: [Errno 2] No such file or directory: 'access-log'"
     ]
    }
   ],
   "source": [
    "# redict.py\n",
    "#\n",
    "# Read a sequence of log lines and parse them into a sequence of dictionaries\n",
    "\n",
    "loglines = open(\"access-log\")\n",
    "\n",
    "import re\n",
    "\n",
    "logpats  = r'(\\S+) (\\S+) (\\S+) \\[(.*?)\\] ' \\\n",
    "           r'\"(\\S+) (\\S+) (\\S+)\" (\\S+) (\\S+)'\n",
    "\n",
    "logpat   = re.compile(logpats)\n",
    "\n",
    "groups   = (logpat.match(line) for line in loglines)\n",
    "tuples   = (g.groups() for g in groups if g)\n",
    "\n",
    "colnames = ('host','referrer','user','datetime',\n",
    "            'method', 'request','proto','status','bytes')\n",
    "\n",
    "log      = (dict(zip(colnames, t)) for t in tuples)\n",
    "\n",
    "if __name__ == '__main__':\n",
    "    for x in log:\n",
    "        print(x)"
   ]
  },
  {
   "cell_type": "code",
   "execution_count": 24,
   "metadata": {},
   "outputs": [
    {
     "ename": "FileNotFoundError",
     "evalue": "[Errno 2] No such file or directory: 'access-log'",
     "output_type": "error",
     "traceback": [
      "\u001b[1;31m---------------------------------------------------------------------------\u001b[0m",
      "\u001b[1;31mFileNotFoundError\u001b[0m                         Traceback (most recent call last)",
      "\u001b[1;32m<ipython-input-24-13edc7800a6b>\u001b[0m in \u001b[0;36m<module>\u001b[1;34m\u001b[0m\n\u001b[0;32m     12\u001b[0m \u001b[1;32mif\u001b[0m \u001b[0m__name__\u001b[0m \u001b[1;33m==\u001b[0m \u001b[1;34m'__main__'\u001b[0m\u001b[1;33m:\u001b[0m\u001b[1;33m\u001b[0m\u001b[1;33m\u001b[0m\u001b[0m\n\u001b[0;32m     13\u001b[0m \u001b[1;33m\u001b[0m\u001b[0m\n\u001b[1;32m---> 14\u001b[1;33m     \u001b[0mloglines\u001b[0m \u001b[1;33m=\u001b[0m \u001b[0mopen\u001b[0m\u001b[1;33m(\u001b[0m\u001b[1;34m\"access-log\"\u001b[0m\u001b[1;33m)\u001b[0m\u001b[1;33m\u001b[0m\u001b[1;33m\u001b[0m\u001b[0m\n\u001b[0m\u001b[0;32m     15\u001b[0m \u001b[1;33m\u001b[0m\u001b[0m\n\u001b[0;32m     16\u001b[0m     \u001b[1;32mimport\u001b[0m \u001b[0mre\u001b[0m\u001b[1;33m\u001b[0m\u001b[1;33m\u001b[0m\u001b[0m\n",
      "\u001b[1;31mFileNotFoundError\u001b[0m: [Errno 2] No such file or directory: 'access-log'"
     ]
    }
   ],
   "source": [
    "# fieldmap.py\n",
    "#\n",
    "# Take a sequence of dictionaries and remap one of the fields\n",
    "\n",
    "def field_map(dictseq, name, func):\n",
    "    for d in dictseq:\n",
    "        d[name] = func(d[name])\n",
    "        yield d\n",
    "\n",
    "# Example\n",
    "\n",
    "if __name__ == '__main__':\n",
    "\n",
    "    loglines = open(\"access-log\")\n",
    "\n",
    "    import re\n",
    "\n",
    "    logpats  = r'(\\S+) (\\S+) (\\S+) \\[(.*?)\\] ' \\\n",
    "               r'\"(\\S+) (\\S+) (\\S+)\" (\\S+) (\\S+)'\n",
    "\n",
    "    logpat   = re.compile(logpats)\n",
    "\n",
    "    groups   = (logpat.match(line) for line in loglines)\n",
    "    tuples   = (g.groups() for g in groups if g)\n",
    "\n",
    "    colnames = ('host','referrer','user','datetime',\n",
    "                'method', 'request','proto','status','bytes')\n",
    "\n",
    "    log      = (dict(zip(colnames, t)) for t in tuples)\n",
    "\n",
    "    log      = field_map(log,\"status\",int)\n",
    "    log      = field_map(log,\"bytes\",\n",
    "                         lambda s: int(s) if s != '-' else 0)\n",
    "\n",
    "    \n",
    "    for x in log:\n",
    "        print(x)"
   ]
  },
  {
   "cell_type": "code",
   "execution_count": 25,
   "metadata": {},
   "outputs": [
    {
     "ename": "ModuleNotFoundError",
     "evalue": "No module named 'gencat'",
     "output_type": "error",
     "traceback": [
      "\u001b[1;31m---------------------------------------------------------------------------\u001b[0m",
      "\u001b[1;31mModuleNotFoundError\u001b[0m                       Traceback (most recent call last)",
      "\u001b[1;32m<ipython-input-25-d95f51c1df1f>\u001b[0m in \u001b[0;36m<module>\u001b[1;34m\u001b[0m\n\u001b[0;32m      4\u001b[0m \u001b[1;33m\u001b[0m\u001b[0m\n\u001b[0;32m      5\u001b[0m \u001b[1;32mfrom\u001b[0m \u001b[0mpathlib\u001b[0m \u001b[1;32mimport\u001b[0m \u001b[0mPath\u001b[0m\u001b[1;33m\u001b[0m\u001b[1;33m\u001b[0m\u001b[0m\n\u001b[1;32m----> 6\u001b[1;33m \u001b[1;32mfrom\u001b[0m \u001b[0mgencat\u001b[0m \u001b[1;32mimport\u001b[0m \u001b[1;33m*\u001b[0m\u001b[1;33m\u001b[0m\u001b[1;33m\u001b[0m\u001b[0m\n\u001b[0m\u001b[0;32m      7\u001b[0m \u001b[1;32mfrom\u001b[0m \u001b[0mgenopen\u001b[0m \u001b[1;32mimport\u001b[0m \u001b[1;33m*\u001b[0m\u001b[1;33m\u001b[0m\u001b[1;33m\u001b[0m\u001b[0m\n\u001b[0;32m      8\u001b[0m \u001b[1;33m\u001b[0m\u001b[0m\n",
      "\u001b[1;31mModuleNotFoundError\u001b[0m: No module named 'gencat'"
     ]
    }
   ],
   "source": [
    "# linesdir.py\n",
    "#\n",
    "# Generate a sequence of lines from files in a directory\n",
    "\n",
    "from pathlib import Path\n",
    "from gencat import *\n",
    "from genopen import *\n",
    "\n",
    "def lines_from_dir(filepat, dirname):\n",
    "    names = Path(dirname).rglob(filepat)\n",
    "    files = gen_open(names)\n",
    "    lines = gen_cat(files)\n",
    "    return lines\n",
    "\n",
    "# Example use\n",
    "\n",
    "if __name__ == '__main__':\n",
    "    loglines = lines_from_dir(\"access-log*\",\"www\")\n",
    "    for line in loglines:\n",
    "        print(line, end='')"
   ]
  },
  {
   "cell_type": "code",
   "execution_count": 26,
   "metadata": {},
   "outputs": [
    {
     "ename": "ModuleNotFoundError",
     "evalue": "No module named 'fieldmap'",
     "output_type": "error",
     "traceback": [
      "\u001b[1;31m---------------------------------------------------------------------------\u001b[0m",
      "\u001b[1;31mModuleNotFoundError\u001b[0m                       Traceback (most recent call last)",
      "\u001b[1;32m<ipython-input-26-50987c17dae2>\u001b[0m in \u001b[0;36m<module>\u001b[1;34m\u001b[0m\n\u001b[0;32m      3\u001b[0m \u001b[1;31m# Parse an apache log file into a sequence of dictionaries\u001b[0m\u001b[1;33m\u001b[0m\u001b[1;33m\u001b[0m\u001b[1;33m\u001b[0m\u001b[0m\n\u001b[0;32m      4\u001b[0m \u001b[1;33m\u001b[0m\u001b[0m\n\u001b[1;32m----> 5\u001b[1;33m \u001b[1;32mfrom\u001b[0m \u001b[0mfieldmap\u001b[0m \u001b[1;32mimport\u001b[0m \u001b[0mfield_map\u001b[0m\u001b[1;33m\u001b[0m\u001b[1;33m\u001b[0m\u001b[0m\n\u001b[0m\u001b[0;32m      6\u001b[0m \u001b[1;33m\u001b[0m\u001b[0m\n\u001b[0;32m      7\u001b[0m \u001b[1;32mimport\u001b[0m \u001b[0mre\u001b[0m\u001b[1;33m\u001b[0m\u001b[1;33m\u001b[0m\u001b[0m\n",
      "\u001b[1;31mModuleNotFoundError\u001b[0m: No module named 'fieldmap'"
     ]
    }
   ],
   "source": [
    "# apachelog.py\n",
    "#\n",
    "# Parse an apache log file into a sequence of dictionaries\n",
    "\n",
    "from fieldmap import field_map\n",
    "\n",
    "import re\n",
    "\n",
    "logpats  = r'(\\S+) (\\S+) (\\S+) \\[(.*?)\\] ' \\\n",
    "           r'\"(\\S+) (\\S+) (\\S+)\" (\\S+) (\\S+)'\n",
    "\n",
    "logpat   = re.compile(logpats)\n",
    "\n",
    "def apache_log(lines):\n",
    "    groups = (logpat.match(line) for line in lines)\n",
    "    tuples = (g.groups() for g in groups if g)\n",
    "    \n",
    "    colnames = ('host','referrer','user','datetime',\n",
    "                'method', 'request','proto','status','bytes')\n",
    "\n",
    "    log      = (dict(zip(colnames,t)) for t in tuples)\n",
    "    log      = field_map(log,\"status\",int)\n",
    "    log      = field_map(log,\"bytes\",\n",
    "                         lambda s: int(s) if s != '-' else 0)\n",
    "\n",
    "    return log\n",
    "\n",
    "# Example use:\n",
    "\n",
    "if __name__ == '__main__':\n",
    "    from linesdir import lines_from_dir\n",
    "    lines = lines_from_dir(\"access-log*\",\"www\")\n",
    "    log = apache_log(lines)\n",
    "    for r in log:\n",
    "        print(r)\n"
   ]
  },
  {
   "cell_type": "code",
   "execution_count": 27,
   "metadata": {},
   "outputs": [
    {
     "ename": "ModuleNotFoundError",
     "evalue": "No module named 'linesdir'",
     "output_type": "error",
     "traceback": [
      "\u001b[1;31m---------------------------------------------------------------------------\u001b[0m",
      "\u001b[1;31mModuleNotFoundError\u001b[0m                       Traceback (most recent call last)",
      "\u001b[1;32m<ipython-input-27-98da6b9b7fae>\u001b[0m in \u001b[0;36m<module>\u001b[1;34m\u001b[0m\n\u001b[0;32m      3\u001b[0m \u001b[1;31m# Find the set of all documents that 404 in a log file\u001b[0m\u001b[1;33m\u001b[0m\u001b[1;33m\u001b[0m\u001b[1;33m\u001b[0m\u001b[0m\n\u001b[0;32m      4\u001b[0m \u001b[1;33m\u001b[0m\u001b[0m\n\u001b[1;32m----> 5\u001b[1;33m \u001b[1;32mfrom\u001b[0m \u001b[0mlinesdir\u001b[0m \u001b[1;32mimport\u001b[0m \u001b[0mlines_from_dir\u001b[0m\u001b[1;33m\u001b[0m\u001b[1;33m\u001b[0m\u001b[0m\n\u001b[0m\u001b[0;32m      6\u001b[0m \u001b[1;32mfrom\u001b[0m \u001b[0mapachelog\u001b[0m \u001b[1;32mimport\u001b[0m \u001b[0mapache_log\u001b[0m\u001b[1;33m\u001b[0m\u001b[1;33m\u001b[0m\u001b[0m\n\u001b[0;32m      7\u001b[0m \u001b[1;33m\u001b[0m\u001b[0m\n",
      "\u001b[1;31mModuleNotFoundError\u001b[0m: No module named 'linesdir'"
     ]
    }
   ],
   "source": [
    "# query404.py\n",
    "#\n",
    "# Find the set of all documents that 404 in a log file\n",
    "\n",
    "from linesdir import lines_from_dir\n",
    "from apachelog import apache_log\n",
    "\n",
    "lines = lines_from_dir(\"access-log*\",\"www\")\n",
    "log = apache_log(lines)\n",
    "\n",
    "stat404 =  {  r['request'] for r in log\n",
    "              if r['status'] == 404 }\n",
    "\n",
    "for r in sorted(stat404):\n",
    "    print(r)"
   ]
  },
  {
   "cell_type": "code",
   "execution_count": 28,
   "metadata": {},
   "outputs": [
    {
     "ename": "ModuleNotFoundError",
     "evalue": "No module named 'linesdir'",
     "output_type": "error",
     "traceback": [
      "\u001b[1;31m---------------------------------------------------------------------------\u001b[0m",
      "\u001b[1;31mModuleNotFoundError\u001b[0m                       Traceback (most recent call last)",
      "\u001b[1;32m<ipython-input-28-24df4226c2c1>\u001b[0m in \u001b[0;36m<module>\u001b[1;34m\u001b[0m\n\u001b[0;32m      3\u001b[0m \u001b[1;31m# Find all transfers over a megabyte\u001b[0m\u001b[1;33m\u001b[0m\u001b[1;33m\u001b[0m\u001b[1;33m\u001b[0m\u001b[0m\n\u001b[0;32m      4\u001b[0m \u001b[1;33m\u001b[0m\u001b[0m\n\u001b[1;32m----> 5\u001b[1;33m \u001b[1;32mfrom\u001b[0m \u001b[0mlinesdir\u001b[0m \u001b[1;32mimport\u001b[0m \u001b[1;33m*\u001b[0m\u001b[1;33m\u001b[0m\u001b[1;33m\u001b[0m\u001b[0m\n\u001b[0m\u001b[0;32m      6\u001b[0m \u001b[1;32mfrom\u001b[0m \u001b[0mapachelog\u001b[0m \u001b[1;32mimport\u001b[0m \u001b[1;33m*\u001b[0m\u001b[1;33m\u001b[0m\u001b[1;33m\u001b[0m\u001b[0m\n\u001b[0;32m      7\u001b[0m \u001b[1;33m\u001b[0m\u001b[0m\n",
      "\u001b[1;31mModuleNotFoundError\u001b[0m: No module named 'linesdir'"
     ]
    }
   ],
   "source": [
    "# largefiles.py\n",
    "#\n",
    "# Find all transfers over a megabyte\n",
    "\n",
    "from linesdir import *\n",
    "from apachelog import *\n",
    "\n",
    "lines = lines_from_dir(\"access-log*\",\"www\")\n",
    "log = apache_log(lines)\n",
    "\n",
    "large = (r for r in log\n",
    "         if r['bytes'] > 1000000)\n",
    "\n",
    "for r in large:\n",
    "    print(r['request'],r['bytes'])"
   ]
  },
  {
   "cell_type": "code",
   "execution_count": 29,
   "metadata": {},
   "outputs": [
    {
     "ename": "ModuleNotFoundError",
     "evalue": "No module named 'linesdir'",
     "output_type": "error",
     "traceback": [
      "\u001b[1;31m---------------------------------------------------------------------------\u001b[0m",
      "\u001b[1;31mModuleNotFoundError\u001b[0m                       Traceback (most recent call last)",
      "\u001b[1;32m<ipython-input-29-4b82d7700009>\u001b[0m in \u001b[0;36m<module>\u001b[1;34m\u001b[0m\n\u001b[0;32m      3\u001b[0m \u001b[1;31m# Find the largest file\u001b[0m\u001b[1;33m\u001b[0m\u001b[1;33m\u001b[0m\u001b[1;33m\u001b[0m\u001b[0m\n\u001b[0;32m      4\u001b[0m \u001b[1;33m\u001b[0m\u001b[0m\n\u001b[1;32m----> 5\u001b[1;33m \u001b[1;32mfrom\u001b[0m \u001b[0mlinesdir\u001b[0m \u001b[1;32mimport\u001b[0m \u001b[0mlines_from_dir\u001b[0m\u001b[1;33m\u001b[0m\u001b[1;33m\u001b[0m\u001b[0m\n\u001b[0m\u001b[0;32m      6\u001b[0m \u001b[1;32mfrom\u001b[0m \u001b[0mapachelog\u001b[0m \u001b[1;32mimport\u001b[0m \u001b[0mapache_log\u001b[0m\u001b[1;33m\u001b[0m\u001b[1;33m\u001b[0m\u001b[0m\n\u001b[0;32m      7\u001b[0m \u001b[1;33m\u001b[0m\u001b[0m\n",
      "\u001b[1;31mModuleNotFoundError\u001b[0m: No module named 'linesdir'"
     ]
    }
   ],
   "source": [
    "# largest.py\n",
    "#\n",
    "# Find the largest file\n",
    "\n",
    "from linesdir import lines_from_dir\n",
    "from apachelog import apache_log\n",
    "\n",
    "lines = lines_from_dir(\"access-log*\",\"www\")\n",
    "log = apache_log(lines)\n",
    "\n",
    "print(\"%d %s\" % max((r['bytes'],r['request'])\n",
    "                    for r in log))"
   ]
  },
  {
   "cell_type": "code",
   "execution_count": 30,
   "metadata": {},
   "outputs": [
    {
     "ename": "ModuleNotFoundError",
     "evalue": "No module named 'linesdir'",
     "output_type": "error",
     "traceback": [
      "\u001b[1;31m---------------------------------------------------------------------------\u001b[0m",
      "\u001b[1;31mModuleNotFoundError\u001b[0m                       Traceback (most recent call last)",
      "\u001b[1;32m<ipython-input-30-3c809e8b9b32>\u001b[0m in \u001b[0;36m<module>\u001b[1;34m\u001b[0m\n\u001b[0;32m      3\u001b[0m \u001b[1;31m# Find unique host IP addresses\u001b[0m\u001b[1;33m\u001b[0m\u001b[1;33m\u001b[0m\u001b[1;33m\u001b[0m\u001b[0m\n\u001b[0;32m      4\u001b[0m \u001b[1;33m\u001b[0m\u001b[0m\n\u001b[1;32m----> 5\u001b[1;33m \u001b[1;32mfrom\u001b[0m \u001b[0mlinesdir\u001b[0m \u001b[1;32mimport\u001b[0m \u001b[0mlines_from_dir\u001b[0m\u001b[1;33m\u001b[0m\u001b[1;33m\u001b[0m\u001b[0m\n\u001b[0m\u001b[0;32m      6\u001b[0m \u001b[1;32mfrom\u001b[0m \u001b[0mapachelog\u001b[0m \u001b[1;32mimport\u001b[0m \u001b[0mapache_log\u001b[0m\u001b[1;33m\u001b[0m\u001b[1;33m\u001b[0m\u001b[0m\n\u001b[0;32m      7\u001b[0m \u001b[1;33m\u001b[0m\u001b[0m\n",
      "\u001b[1;31mModuleNotFoundError\u001b[0m: No module named 'linesdir'"
     ]
    }
   ],
   "source": [
    "# hosts.py\n",
    "#\n",
    "# Find unique host IP addresses\n",
    "\n",
    "from linesdir import lines_from_dir\n",
    "from apachelog import apache_log\n",
    "\n",
    "lines = lines_from_dir(\"access-log*\",\"www\")\n",
    "log = apache_log(lines)\n",
    "\n",
    "hosts = set(r['host'] for r in log)\n",
    "for h in hosts:\n",
    "    print(h)"
   ]
  },
  {
   "cell_type": "code",
   "execution_count": 31,
   "metadata": {},
   "outputs": [
    {
     "ename": "ModuleNotFoundError",
     "evalue": "No module named 'linesdir'",
     "output_type": "error",
     "traceback": [
      "\u001b[1;31m---------------------------------------------------------------------------\u001b[0m",
      "\u001b[1;31mModuleNotFoundError\u001b[0m                       Traceback (most recent call last)",
      "\u001b[1;32m<ipython-input-31-8bae542ed475>\u001b[0m in \u001b[0;36m<module>\u001b[1;34m\u001b[0m\n\u001b[0;32m      3\u001b[0m \u001b[1;31m# Find out how many downloads of a specific request\u001b[0m\u001b[1;33m\u001b[0m\u001b[1;33m\u001b[0m\u001b[1;33m\u001b[0m\u001b[0m\n\u001b[0;32m      4\u001b[0m \u001b[1;33m\u001b[0m\u001b[0m\n\u001b[1;32m----> 5\u001b[1;33m \u001b[1;32mfrom\u001b[0m \u001b[0mlinesdir\u001b[0m \u001b[1;32mimport\u001b[0m \u001b[0mlines_from_dir\u001b[0m\u001b[1;33m\u001b[0m\u001b[1;33m\u001b[0m\u001b[0m\n\u001b[0m\u001b[0;32m      6\u001b[0m \u001b[1;32mfrom\u001b[0m \u001b[0mapachelog\u001b[0m \u001b[1;32mimport\u001b[0m \u001b[0mapache_log\u001b[0m\u001b[1;33m\u001b[0m\u001b[1;33m\u001b[0m\u001b[0m\n\u001b[0;32m      7\u001b[0m \u001b[1;33m\u001b[0m\u001b[0m\n",
      "\u001b[1;31mModuleNotFoundError\u001b[0m: No module named 'linesdir'"
     ]
    }
   ],
   "source": [
    "# downloads.py\n",
    "#\n",
    "# Find out how many downloads of a specific request\n",
    "\n",
    "from linesdir import lines_from_dir\n",
    "from apachelog import apache_log\n",
    "\n",
    "lines = lines_from_dir(\"access-log*\",\"www\")\n",
    "log = apache_log(lines)\n",
    "\n",
    "request = 'ply/ply-2.3.tar.gz'\n",
    "\n",
    "total = sum(1 for r in log\n",
    "              if r['request'] == '/ply/ply-2.3.tar.gz')\n",
    "\n",
    "print(\"Total\", total)"
   ]
  },
  {
   "cell_type": "code",
   "execution_count": 32,
   "metadata": {},
   "outputs": [
    {
     "ename": "ModuleNotFoundError",
     "evalue": "No module named 'linesdir'",
     "output_type": "error",
     "traceback": [
      "\u001b[1;31m---------------------------------------------------------------------------\u001b[0m",
      "\u001b[1;31mModuleNotFoundError\u001b[0m                       Traceback (most recent call last)",
      "\u001b[1;32m<ipython-input-32-4f3f935b37fb>\u001b[0m in \u001b[0;36m<module>\u001b[1;34m\u001b[0m\n\u001b[0;32m      3\u001b[0m \u001b[1;31m# Find out who has been hitting robots.txt\u001b[0m\u001b[1;33m\u001b[0m\u001b[1;33m\u001b[0m\u001b[1;33m\u001b[0m\u001b[0m\n\u001b[0;32m      4\u001b[0m \u001b[1;33m\u001b[0m\u001b[0m\n\u001b[1;32m----> 5\u001b[1;33m \u001b[1;32mfrom\u001b[0m \u001b[0mlinesdir\u001b[0m \u001b[1;32mimport\u001b[0m \u001b[0mlines_from_dir\u001b[0m\u001b[1;33m\u001b[0m\u001b[1;33m\u001b[0m\u001b[0m\n\u001b[0m\u001b[0;32m      6\u001b[0m \u001b[1;32mfrom\u001b[0m \u001b[0mapachelog\u001b[0m \u001b[1;32mimport\u001b[0m \u001b[0mapache_log\u001b[0m\u001b[1;33m\u001b[0m\u001b[1;33m\u001b[0m\u001b[0m\n\u001b[0;32m      7\u001b[0m \u001b[1;33m\u001b[0m\u001b[0m\n",
      "\u001b[1;31mModuleNotFoundError\u001b[0m: No module named 'linesdir'"
     ]
    }
   ],
   "source": [
    "# robots.py\n",
    "#\n",
    "# Find out who has been hitting robots.txt\n",
    "\n",
    "from linesdir import lines_from_dir\n",
    "from apachelog import apache_log\n",
    "\n",
    "lines = lines_from_dir(\"access-log*\",\"www\")\n",
    "log = apache_log(lines)\n",
    "\n",
    "addrs = { r['host'] for r in log\n",
    "            if 'robots.txt' in r['request'] }\n",
    "\n",
    "import socket\n",
    "for addr in addrs:\n",
    "    try:\n",
    "        print(socket.gethostbyaddr(addr)[0])\n",
    "    except socket.herror:\n",
    "        print(addr)"
   ]
  },
  {
   "cell_type": "code",
   "execution_count": 33,
   "metadata": {},
   "outputs": [
    {
     "ename": "FileNotFoundError",
     "evalue": "[Errno 2] No such file or directory: 'run/foo/access-log'",
     "output_type": "error",
     "traceback": [
      "\u001b[1;31m---------------------------------------------------------------------------\u001b[0m",
      "\u001b[1;31mFileNotFoundError\u001b[0m                         Traceback (most recent call last)",
      "\u001b[1;32m<ipython-input-33-f4916d54fb4c>\u001b[0m in \u001b[0;36m<module>\u001b[1;34m\u001b[0m\n\u001b[0;32m     25\u001b[0m \u001b[1;33m\u001b[0m\u001b[0m\n\u001b[0;32m     26\u001b[0m \u001b[1;32mif\u001b[0m \u001b[0m__name__\u001b[0m \u001b[1;33m==\u001b[0m \u001b[1;34m'__main__'\u001b[0m\u001b[1;33m:\u001b[0m\u001b[1;33m\u001b[0m\u001b[1;33m\u001b[0m\u001b[0m\n\u001b[1;32m---> 27\u001b[1;33m     \u001b[0mlogfile\u001b[0m \u001b[1;33m=\u001b[0m \u001b[0mopen\u001b[0m\u001b[1;33m(\u001b[0m\u001b[1;34m\"run/foo/access-log\"\u001b[0m\u001b[1;33m,\u001b[0m\u001b[1;34m\"r\"\u001b[0m\u001b[1;33m)\u001b[0m\u001b[1;33m\u001b[0m\u001b[1;33m\u001b[0m\u001b[0m\n\u001b[0m\u001b[0;32m     28\u001b[0m     \u001b[0mloglines\u001b[0m \u001b[1;33m=\u001b[0m \u001b[0mfollow\u001b[0m\u001b[1;33m(\u001b[0m\u001b[0mlogfile\u001b[0m\u001b[1;33m)\u001b[0m\u001b[1;33m\u001b[0m\u001b[1;33m\u001b[0m\u001b[0m\n\u001b[0;32m     29\u001b[0m     \u001b[1;32mfor\u001b[0m \u001b[0mline\u001b[0m \u001b[1;32min\u001b[0m \u001b[0mloglines\u001b[0m\u001b[1;33m:\u001b[0m\u001b[1;33m\u001b[0m\u001b[1;33m\u001b[0m\u001b[0m\n",
      "\u001b[1;31mFileNotFoundError\u001b[0m: [Errno 2] No such file or directory: 'run/foo/access-log'"
     ]
    }
   ],
   "source": [
    "# follow.py\n",
    "#\n",
    "# Follow a file like tail -f.\n",
    "\n",
    "import time\n",
    "import os\n",
    "\n",
    "def follow(thefile):\n",
    "    thefile.seek(0, os.SEEK_END)\n",
    "    while True:\n",
    "        line = thefile.readline()\n",
    "        if not line:\n",
    "            time.sleep(0.1)\n",
    "            continue\n",
    "        yield line\n",
    "\n",
    "# Example use\n",
    "# Note : This example requires the use of an apache log simulator.\n",
    "# \n",
    "# Go to the directory run/foo and run the program 'logsim.py' from\n",
    "# that directory.   Run this program as a background process and\n",
    "# leave it running in a separate window.  We'll write program\n",
    "# that read the output file being generated\n",
    "# \n",
    "\n",
    "if __name__ == '__main__':\n",
    "    logfile = open(\"run/foo/access-log\",\"r\")\n",
    "    loglines = follow(logfile)\n",
    "    for line in loglines:\n",
    "        print(line, end='')"
   ]
  },
  {
   "cell_type": "code",
   "execution_count": 34,
   "metadata": {},
   "outputs": [
    {
     "ename": "ModuleNotFoundError",
     "evalue": "No module named 'apachelog'",
     "output_type": "error",
     "traceback": [
      "\u001b[1;31m---------------------------------------------------------------------------\u001b[0m",
      "\u001b[1;31mModuleNotFoundError\u001b[0m                       Traceback (most recent call last)",
      "\u001b[1;32m<ipython-input-34-600dfcd03b02>\u001b[0m in \u001b[0;36m<module>\u001b[1;34m\u001b[0m\n\u001b[0;32m      3\u001b[0m \u001b[1;31m# Print all 404 requests as they happen in the log\u001b[0m\u001b[1;33m\u001b[0m\u001b[1;33m\u001b[0m\u001b[1;33m\u001b[0m\u001b[0m\n\u001b[0;32m      4\u001b[0m \u001b[1;33m\u001b[0m\u001b[0m\n\u001b[1;32m----> 5\u001b[1;33m \u001b[1;32mfrom\u001b[0m \u001b[0mapachelog\u001b[0m \u001b[1;32mimport\u001b[0m \u001b[0mapache_log\u001b[0m\u001b[1;33m\u001b[0m\u001b[1;33m\u001b[0m\u001b[0m\n\u001b[0m\u001b[0;32m      6\u001b[0m \u001b[1;32mfrom\u001b[0m \u001b[0mfollow\u001b[0m \u001b[1;32mimport\u001b[0m \u001b[0mfollow\u001b[0m\u001b[1;33m\u001b[0m\u001b[1;33m\u001b[0m\u001b[0m\n\u001b[0;32m      7\u001b[0m \u001b[1;33m\u001b[0m\u001b[0m\n",
      "\u001b[1;31mModuleNotFoundError\u001b[0m: No module named 'apachelog'"
     ]
    }
   ],
   "source": [
    "# realtime404.py\n",
    "#\n",
    "# Print all 404 requests as they happen in the log\n",
    "\n",
    "from apachelog import apache_log\n",
    "from follow import follow\n",
    "\n",
    "logfile  = open(\"run/foo/access-log\")\n",
    "loglines = follow(logfile)\n",
    "log      = apache_log(loglines)\n",
    "\n",
    "r404 = (r for r in log if r['status'] == 404)\n",
    "\n",
    "for r in r404:\n",
    "    print(r['host'], r['datetime'], r['request'])"
   ]
  },
  {
   "cell_type": "code",
   "execution_count": null,
   "metadata": {},
   "outputs": [],
   "source": [
    "# genreceive.py\n",
    "#\n",
    "# A generator that yields connections to a TCP socket\n",
    "\n",
    "import socket\n",
    "def receive_connections(addr):\n",
    "    s = socket.socket(socket.AF_INET,socket.SOCK_STREAM)\n",
    "    s.setsockopt(socket.SOL_SOCKET,socket.SO_REUSEADDR,1)\n",
    "    s.bind(addr)\n",
    "    s.listen(5)\n",
    "    while True:\n",
    "        client = s.accept()\n",
    "        yield client\n",
    "\n",
    "# Example use\n",
    "\n",
    "if __name__ == '__main__':\n",
    "    for c, a in receive_connections((\"\",9000)):\n",
    "        print(\"Got connection from\", a)\n",
    "        c.send(b\"Hello World\\n\")\n",
    "        c.close()"
   ]
  },
  {
   "cell_type": "code",
   "execution_count": null,
   "metadata": {},
   "outputs": [],
   "source": [
    "# genmessages.py\n",
    "#\n",
    "# A generator that yields messages on a UDP socket\n",
    "\n",
    "import socket\n",
    "def receive_messages(addr,maxsize):\n",
    "    s = socket.socket(socket.AF_INET,socket.SOCK_DGRAM)\n",
    "    s.bind(addr)\n",
    "    while True:\n",
    "        msg = s.recvfrom(maxsize)\n",
    "        yield msg\n",
    "\n",
    "# Example use\n",
    "# To send a message to this generator, use the code \"msgtest.py\"\n",
    "\n",
    "if __name__ == '__main__':\n",
    "    for msg, addr in receive_messages((\"\",10000),1024):\n",
    "        print(msg, \"from\", addr)"
   ]
  },
  {
   "cell_type": "code",
   "execution_count": null,
   "metadata": {},
   "outputs": [],
   "source": [
    "# genpickle.py\n",
    "#\n",
    "# Turn a sequence of objects into a sequence of pickle strings\n",
    "\n",
    "import pickle\n",
    "\n",
    "def gen_pickle(source):\n",
    "    for item in source:\n",
    "        yield pickle.dumps(item)\n",
    "\n",
    "def gen_unpickle(infile):\n",
    "    while True:\n",
    "        try:\n",
    "            item = pickle.load(infile)\n",
    "            yield item\n",
    "        except EOFError:\n",
    "            return"
   ]
  },
  {
   "cell_type": "code",
   "execution_count": null,
   "metadata": {},
   "outputs": [],
   "source": [
    "# sendto.py\n",
    "#\n",
    "# Send items to a remote machine\n",
    "\n",
    "import socket\n",
    "from genpickle import gen_pickle\n",
    "\n",
    "def sendto(source,addr):\n",
    "    s = socket.socket(socket.AF_INET,socket.SOCK_STREAM)\n",
    "    s.connect(addr)\n",
    "    for pitem in gen_pickle(source):\n",
    "        s.sendall(pitem)\n",
    "    s.close()\n",
    "\n",
    "# Example use.   This requires you to run receivefrom.py\n",
    "# in a different process/window\n",
    "\n",
    "if __name__ == '__main__':\n",
    "    from apachelog import apache_log\n",
    "    from follow import follow\n",
    "\n",
    "    lines = follow(open(\"run/foo/access-log\"))\n",
    "    log = apache_log(lines)\n",
    "    sendto(log,(\"\",15000))"
   ]
  },
  {
   "cell_type": "code",
   "execution_count": null,
   "metadata": {},
   "outputs": [],
   "source": [
    "# receivefrom.py\n",
    "#\n",
    "# Receive objects from a different machine\n",
    "\n",
    "import socket\n",
    "from genpickle import gen_unpickle\n",
    "\n",
    "def receivefrom(addr):\n",
    "    s = socket.socket(socket.AF_INET,socket.SOCK_STREAM)\n",
    "    s.setsockopt(socket.SOL_SOCKET,socket.SO_REUSEADDR, 1)\n",
    "    s.bind(addr)\n",
    "    s.listen(5)\n",
    "    c, a = s.accept()\n",
    "    for item in gen_unpickle(c.makefile('rb')):\n",
    "        yield item\n",
    "    c.close()\n",
    "\n",
    "# Example use:\n",
    "if __name__ == '__main__':\n",
    "    for r in receivefrom((\"\",15000)):\n",
    "        print(r['host'], r['request'])"
   ]
  },
  {
   "cell_type": "code",
   "execution_count": null,
   "metadata": {},
   "outputs": [],
   "source": [
    "# genqueue.py\n",
    "#\n",
    "# Generate a sequence of items that put onto a queue\n",
    "\n",
    "def genfrom_queue(thequeue):\n",
    "    while True:\n",
    "        item = thequeue.get()\n",
    "        if item is StopIteration: \n",
    "            break\n",
    "        yield item\n",
    "\n",
    "def sendto_queue(items, thequeue):\n",
    "    for item in items:\n",
    "        thequeue.put(item)\n",
    "    thequeue.put(StopIteration)\n",
    "\n",
    "# Example\n",
    "if __name__ == '__main__':\n",
    "    import queue, threading\n",
    "    def consumer(q):\n",
    "        for item in genfrom_queue(q):\n",
    "            print(\"Consumed\", item)\n",
    "        print(\"done\")\n",
    "\n",
    "    in_q = queue.Queue()\n",
    "    con_thr = threading.Thread(target=consumer,args=(in_q,))\n",
    "    con_thr.start()\n",
    "\n",
    "    # Now, pipe a bunch of data into the queue\n",
    "    sendto_queue(range(100), in_q)\n",
    "    "
   ]
  },
  {
   "cell_type": "code",
   "execution_count": null,
   "metadata": {},
   "outputs": [],
   "source": [
    "# genmulti.py\n",
    "#\n",
    "# Generate items from multiple generators (multiplex)\n",
    "#\n",
    "\n",
    "import queue, threading\n",
    "from genqueue import genfrom_queue, sendto_queue\n",
    "from gencat import gen_cat\n",
    "\n",
    "def multiplex(sources):\n",
    "    in_q = queue.Queue()\n",
    "    consumers = []\n",
    "    for src in sources:\n",
    "        thr = threading.Thread(target=sendto_queue,\n",
    "                               args=(src, in_q))\n",
    "        thr.start()\n",
    "        consumers.append(genfrom_queue(in_q))\n",
    "    return gen_cat(consumers)\n",
    "\n",
    "def gen_multiplex(genlist):\n",
    "    item_q = queue.Queue()\n",
    "    def run_one(source):\n",
    "        for item in source: \n",
    "            item_q.put(item)\n",
    "\n",
    "    def run_all():\n",
    "        thrlist = []\n",
    "        for source in genlist:\n",
    "            t = threading.Thread(target=run_one, args=(source,))\n",
    "            t.start()\n",
    "            thrlist.append(t)\n",
    "        for t in thrlist: \n",
    "            t.join()\n",
    "        item_q.put(StopIteration)\n",
    "\n",
    "    threading.Thread(target=run_all).start()\n",
    "    while True:\n",
    "        item = item_q.get()\n",
    "        if item is StopIteration: \n",
    "            return\n",
    "        yield item\n",
    "\n",
    "\n",
    "# Example use\n",
    "#\n",
    "# This example requires you to perform these setup steps:\n",
    "#\n",
    "# 1.  Go to run/foo and run logsim.py\n",
    "# 2.  Go to run/bar and run logsim.py\n",
    "#\n",
    "# These two steps will start writing two different Apache log files.\n",
    "# Now, we're going to read from both at the same time.\n",
    "\n",
    "if __name__ == '__main__':\n",
    "    from follow import follow\n",
    "    \n",
    "    log1 = follow(open(\"run/foo/access-log\"))\n",
    "    log2 = follow(open(\"run/bar/access-log\"))\n",
    "    \n",
    "    log = multiplex([log1,log2])\n",
    "    \n",
    "    for line in log:\n",
    "        print(line, end='')"
   ]
  },
  {
   "cell_type": "code",
   "execution_count": null,
   "metadata": {},
   "outputs": [],
   "source": [
    "# broadcast.py\n",
    "#\n",
    "# Broadcast a generator source to a collection of consumers\n",
    "\n",
    "def broadcast(source, consumers):\n",
    "    for item in source:\n",
    "        for c in consumers:\n",
    "            c.send(item)\n",
    "\n",
    "\n",
    "# Example\n",
    "if __name__ == '__main__':\n",
    "\n",
    "    class Consumer(object):\n",
    "        def send(self,item):\n",
    "            print(self, \"got\", item)\n",
    "\n",
    "    c1 = Consumer()\n",
    "    c2 = Consumer()\n",
    "    c3 = Consumer()\n",
    "\n",
    "    from follow import follow\n",
    "    lines = follow(open(\"run/foo/access-log\"))\n",
    "    broadcast(lines,[c1,c2,c3])"
   ]
  },
  {
   "cell_type": "code",
   "execution_count": null,
   "metadata": {},
   "outputs": [],
   "source": [
    "# netsend.py\n",
    "#\n",
    "# Consume items and send them to a remote machine\n",
    "\n",
    "import socket, pickle\n",
    "\n",
    "class NetConsumer(object):\n",
    "    def __init__(self,addr):\n",
    "        self.s = socket.socket(socket.AF_INET, socket.SOCK_STREAM)\n",
    "        self.s.connect(addr)\n",
    "    def send(self,item):\n",
    "        pitem = pickle.dumps(item)\n",
    "        self.s.sendall(pitem)\n",
    "    def close(self):\n",
    "        self.s.close()\n",
    "\n",
    "# Example use.  This requires you to run receivefrom.py first.\n",
    "\n",
    "if __name__ == '__main__':\n",
    "    from broadcast import broadcast\n",
    "    from follow import follow\n",
    "    from apachelog import apache_log\n",
    "\n",
    "    # A class that sends 404 requests to another host\n",
    "    class Stat404(NetConsumer):\n",
    "        def send(self,item):\n",
    "            if item['status'] == 404:\n",
    "                NetConsumer.send(self,item)\n",
    "    \n",
    "    stat404 = Stat404((\"\",15000))\n",
    "    \n",
    "    lines = follow(open(\"run/foo/access-log\"))\n",
    "    log   = apache_log(lines)\n",
    "    broadcast(log,[stat404])\n"
   ]
  },
  {
   "cell_type": "code",
   "execution_count": null,
   "metadata": {},
   "outputs": [],
   "source": [
    "# thrsend.py\n",
    "#\n",
    "# Send items to consumer threads\n",
    "\n",
    "import queue, threading\n",
    "class ConsumerThread(threading.Thread):\n",
    "    def __init__(self, target):\n",
    "        threading.Thread.__init__(self)\n",
    "        self.setDaemon(True)\n",
    "        self.in_queue = queue.Queue()\n",
    "        self.target = target\n",
    "\n",
    "    def send(self,item):\n",
    "        self.in_queue.put(item)\n",
    "\n",
    "    def generate(self):\n",
    "        while True:\n",
    "            item = self.in_queue.get()\n",
    "            yield item\n",
    "\n",
    "    def run(self):\n",
    "        self.target(self.generate())\n",
    "\n",
    "# Example Use\n",
    "\n",
    "if __name__ == '__main__':\n",
    "    from follow import follow\n",
    "    from apachelog import apache_log\n",
    "    from broadcast import broadcast\n",
    "    \n",
    "    def find_404(log):\n",
    "        r404 = (r for r in log if r['status'] == 404)\n",
    "        for r in r404:\n",
    "            print(r['status'],r['datetime'],r['request'])\n",
    "\n",
    "    def bytes_transferred(log):\n",
    "        total = 0\n",
    "        for r in log:\n",
    "            total += r['bytes']\n",
    "            print(\"Total bytes\", total)\n",
    "            \n",
    "    c1 = ConsumerThread(find_404)\n",
    "    c1.start()\n",
    "    c2 = ConsumerThread(bytes_transferred)\n",
    "    c2.start()\n",
    "    \n",
    "    lines = follow(open(\"run/foo/access-log\"))\n",
    "    log   = apache_log(lines)\n",
    "    broadcast(log,[c1,c2])"
   ]
  },
  {
   "cell_type": "code",
   "execution_count": null,
   "metadata": {},
   "outputs": [],
   "source": [
    "# gentrace.py\n",
    "#\n",
    "# Trace a generator by printing items received\n",
    "\n",
    "def trace(source):\n",
    "    for item in source:\n",
    "        print(item)\n",
    "        yield item\n",
    "\n",
    "# Example use\n",
    "if __name__ == '__main__':\n",
    "    from apachelog import *\n",
    "\n",
    "    lines = open(\"access-log\")\n",
    "    log =  trace(apache_log(lines))\n",
    "    r404 = (r for r in log if r['status'] == 404)\n",
    "\n",
    "    for r in r404:\n",
    "        pass"
   ]
  },
  {
   "cell_type": "code",
   "execution_count": null,
   "metadata": {},
   "outputs": [],
   "source": [
    "# storelast.py\n",
    "#\n",
    "# An iterator that stores the last value returned.  \n",
    "\n",
    "class storelast(object):\n",
    "    def __init__(self,source):\n",
    "        self.source = source\n",
    "    def __next__(self):\n",
    "        item = self.source.__next__()\n",
    "        self.last = item\n",
    "        return item\n",
    "    def __iter__(self):\n",
    "        return self\n",
    "\n",
    "# Example\n",
    "if __name__ == '__main__':\n",
    "    from follow import follow\n",
    "    from apachelog import apache_log\n",
    "\n",
    "    lines = storelast(follow(open(\"run/foo/access-log\")))\n",
    "    log   = apache_log(lines)\n",
    "\n",
    "    for r in log:\n",
    "        print(r)\n",
    "        print(lines.last)"
   ]
  },
  {
   "cell_type": "code",
   "execution_count": null,
   "metadata": {},
   "outputs": [],
   "source": [
    "# genshutdown.py\n",
    "#\n",
    "# Example of shutting down a generator\n",
    "#\n",
    "# Requires you to run run/foo/logsim.py to get a real-time source\n",
    "\n",
    "from follow import *\n",
    "\n",
    "lines = follow(open(\"run/foo/access-log\"))\n",
    "for i, line in enumerate(lines):\n",
    "    print(line, end='')\n",
    "    if i == 10: \n",
    "        lines.close()"
   ]
  },
  {
   "cell_type": "code",
   "execution_count": null,
   "metadata": {},
   "outputs": [],
   "source": [
    "# shutdownevt.py\n",
    "#\n",
    "# Example of a generator that uses an event to shut down\n",
    "\n",
    "import time\n",
    "\n",
    "def follow(thefile,shutdown=None):\n",
    "    thefile.seek(0,2)\n",
    "    while True:\n",
    "        if shutdown and shutdown.isSet(): break\n",
    "        line = thefile.readline()\n",
    "        if not line:\n",
    "           time.sleep(0.1)\n",
    "           continue\n",
    "        yield line\n",
    "\n",
    "import threading\n",
    "\n",
    "shutdown_event = threading.Event()\n",
    "\n",
    "def run():\n",
    "    lines = follow(open(\"run/foo/access-log\"),shutdown_event)\n",
    "    for line in lines:\n",
    "        print line,\n",
    "\n",
    "    print \"Done\"\n",
    "\n",
    "\n",
    "# Run the above in a separate thread\n",
    "t = threading.Thread(target=run)\n",
    "t.start()\n",
    "\n",
    "# Wait a while then shut down\n",
    "\n",
    "\n",
    "time.sleep(60)\n",
    "print \"Shutting down\"\n",
    "\n",
    "shutdown_event.set()"
   ]
  },
  {
   "cell_type": "code",
   "execution_count": null,
   "metadata": {},
   "outputs": [],
   "source": [
    "####Coroutine Example\n",
    "\n",
    "def grep(pattern):\n",
    "    print(\"Searching for:: \", pattern)\n",
    "    while True:\n",
    "        line = (yield)\n",
    "        if pattern in line:\n",
    "            print(line)\n",
    "            \n",
    "search = grep('coroutine')\n",
    "next(search)\n",
    "# Output: Searching for coroutine\n",
    "search.send(\"I love you\")\n",
    "search.send(\"Don't you love me?\")\n",
    "search.send(\"I love coroutines instead!\")\n",
    "# Output: I love coroutines instead!\n",
    "search.send(\"Another line for coroutine.\")\n",
    "# Output: \"Another line for coroutine.\n",
    "search.close() #closing the coroutine \n",
    "\n",
    "\n",
    "# The sent values are accessed by yield. Why did we run next()? It is required in order to start the coroutine. \n",
    "# Just like generators, coroutines do not start the function immediately. \n",
    "# Instead they run it in response to the __next__() and .send() methods. \n",
    "# Therefore, you have to run next() so that the execution advances to the yield expression."
   ]
  },
  {
   "cell_type": "code",
   "execution_count": null,
   "metadata": {},
   "outputs": [],
   "source": [
    "# recvcount.py\n",
    "#\n",
    "# Example of a co-routine\n",
    "\n",
    "def recv_count():\n",
    "    try:\n",
    "        while True:\n",
    "            n = (yield)\n",
    "            print(\"T-minus\", n)\n",
    "    except GeneratorExit:\n",
    "        print(\"Kaboom!\")\n",
    "\n",
    "r = recv_count()\n",
    "r.send(None)\n",
    "for i in range(5,0,-1):\n",
    "    r.send(i)\n",
    "\n",
    "r.close()"
   ]
  },
  {
   "cell_type": "code",
   "execution_count": null,
   "metadata": {},
   "outputs": [],
   "source": [
    "# consumer.py\n",
    "#\n",
    "# consumer decorator and co-routine example\n",
    "\n",
    "def consumer(func):\n",
    "    def start(*args,**kwargs):\n",
    "        c = func(*args,**kwargs)\n",
    "        c.send(None)\n",
    "        return c\n",
    "    return start\n",
    "\n",
    "# Example\n",
    "if __name__ == '__main__':\n",
    "\n",
    "    @consumer\n",
    "    def recv_count():\n",
    "        try:\n",
    "            while True:\n",
    "                n = yield\n",
    "                print(\"T-minus\", n)\n",
    "        except GeneratorExit:\n",
    "            print(\"Kaboom!\")\n",
    "\n",
    "    r = recv_count()\n",
    "    for i in range(5,0,-1):\n",
    "        r.send(i)\n",
    "\n",
    "    r.close()"
   ]
  },
  {
   "cell_type": "code",
   "execution_count": 1,
   "metadata": {},
   "outputs": [
    {
     "ename": "ModuleNotFoundError",
     "evalue": "No module named 'consumer'",
     "output_type": "error",
     "traceback": [
      "\u001b[1;31m---------------------------------------------------------------------------\u001b[0m",
      "\u001b[1;31mModuleNotFoundError\u001b[0m                       Traceback (most recent call last)",
      "\u001b[1;32m<ipython-input-1-f74de6a41c06>\u001b[0m in \u001b[0;36m<module>\u001b[1;34m\u001b[0m\n\u001b[0;32m      3\u001b[0m \u001b[1;31m# An example of using co-routines to define consumers for the Apache log data\u001b[0m\u001b[1;33m\u001b[0m\u001b[1;33m\u001b[0m\u001b[1;33m\u001b[0m\u001b[0m\n\u001b[0;32m      4\u001b[0m \u001b[1;33m\u001b[0m\u001b[0m\n\u001b[1;32m----> 5\u001b[1;33m \u001b[1;32mfrom\u001b[0m \u001b[0mconsumer\u001b[0m \u001b[1;32mimport\u001b[0m \u001b[1;33m*\u001b[0m\u001b[1;33m\u001b[0m\u001b[1;33m\u001b[0m\u001b[0m\n\u001b[0m\u001b[0;32m      6\u001b[0m \u001b[1;32mfrom\u001b[0m \u001b[0mapachelog\u001b[0m \u001b[1;32mimport\u001b[0m \u001b[1;33m*\u001b[0m\u001b[1;33m\u001b[0m\u001b[1;33m\u001b[0m\u001b[0m\n\u001b[0;32m      7\u001b[0m \u001b[1;32mfrom\u001b[0m \u001b[0mfollow\u001b[0m \u001b[1;32mimport\u001b[0m \u001b[1;33m*\u001b[0m\u001b[1;33m\u001b[0m\u001b[1;33m\u001b[0m\u001b[0m\n",
      "\u001b[1;31mModuleNotFoundError\u001b[0m: No module named 'consumer'"
     ]
    }
   ],
   "source": [
    "# logcoroutine.py\n",
    "#\n",
    "# An example of using co-routines to define consumers for the Apache log data\n",
    "\n",
    "from consumer import *\n",
    "from apachelog import *\n",
    "from follow import *\n",
    "from broadcast import *\n",
    "\n",
    "@consumer\n",
    "def find_404():\n",
    "    while True:\n",
    "        r = (yield)\n",
    "        if r['status'] == 404:\n",
    "            print(r['status'],r['datetime'],r['request'])\n",
    "\n",
    "@consumer\n",
    "def bytes_transferred():\n",
    "    total = 0\n",
    "    while True:\n",
    "        r = (yield)\n",
    "        total += r['bytes']\n",
    "        print(\"Total bytes\", total)\n",
    "\n",
    "lines = follow(open(\"run/foo/access-log\"))\n",
    "log   = apache_log(lines)\n",
    "\n",
    "broadcast(log, [find_404(),bytes_transferred()])"
   ]
  },
  {
   "cell_type": "code",
   "execution_count": null,
   "metadata": {},
   "outputs": [],
   "source": []
  }
 ],
 "metadata": {
  "kernelspec": {
   "display_name": "Python 3",
   "language": "python",
   "name": "python3"
  },
  "language_info": {
   "codemirror_mode": {
    "name": "ipython",
    "version": 3
   },
   "file_extension": ".py",
   "mimetype": "text/x-python",
   "name": "python",
   "nbconvert_exporter": "python",
   "pygments_lexer": "ipython3",
   "version": "3.7.1"
  }
 },
 "nbformat": 4,
 "nbformat_minor": 2
}
