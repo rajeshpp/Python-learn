{
 "cells": [
  {
   "cell_type": "code",
   "execution_count": 9,
   "metadata": {},
   "outputs": [
    {
     "name": "stdout",
     "output_type": "stream",
     "text": [
      "Complex Data Types in Python: Shallow & Deep Copies in Python\n"
     ]
    }
   ],
   "source": [
    "print(\"Complex Data Types in Python: Shallow & Deep Copies in Python\")"
   ]
  },
  {
   "cell_type": "code",
   "execution_count": 6,
   "metadata": {},
   "outputs": [
    {
     "name": "stdout",
     "output_type": "stream",
     "text": [
      "Python\n",
      "Python\n",
      "Python\n",
      "Other String\n"
     ]
    }
   ],
   "source": [
    "old_str=\"Python\"\n",
    "print(old_str)\n",
    "new_str=old_str\n",
    "print(new_str)\n",
    "new_str=\"Other String\"\n",
    "print(old_str)\n",
    "print(new_str)"
   ]
  },
  {
   "cell_type": "code",
   "execution_count": 7,
   "metadata": {},
   "outputs": [
    {
     "name": "stdout",
     "output_type": "stream",
     "text": [
      "Python\n",
      "Python\n",
      "Python\n",
      "Other String\n"
     ]
    }
   ],
   "source": [
    "import copy\n",
    "old_str=\"Python\"\n",
    "print(old_str)\n",
    "new_str=copy.copy(old_str)\n",
    "print(new_str)\n",
    "new_str=\"Other String\"\n",
    "print(old_str)\n",
    "print(new_str)"
   ]
  },
  {
   "cell_type": "code",
   "execution_count": 4,
   "metadata": {},
   "outputs": [
    {
     "name": "stdout",
     "output_type": "stream",
     "text": [
      "Python\n",
      "Python\n",
      "Python\n",
      "Other String\n"
     ]
    }
   ],
   "source": [
    "import copy\n",
    "old_str=\"Python\"\n",
    "print(old_str)\n",
    "new_str=copy.deepcopy(old_str)\n",
    "print(new_str)\n",
    "new_str=\"Other String\"\n",
    "print(old_str)\n",
    "print(new_str)"
   ]
  },
  {
   "cell_type": "code",
   "execution_count": 10,
   "metadata": {},
   "outputs": [
    {
     "name": "stdout",
     "output_type": "stream",
     "text": [
      "Normal assignment, copy.copy & copy.deepcopy are same in above examples for Strings.\n"
     ]
    }
   ],
   "source": [
    "print(\"Normal assignment, copy.copy & copy.deepcopy are same in above examples for Strings.\")"
   ]
  },
  {
   "cell_type": "code",
   "execution_count": 11,
   "metadata": {},
   "outputs": [
    {
     "name": "stdout",
     "output_type": "stream",
     "text": [
      "List Operations\n"
     ]
    }
   ],
   "source": [
    "print(\"List Operations\")"
   ]
  },
  {
   "cell_type": "code",
   "execution_count": 1,
   "metadata": {},
   "outputs": [
    {
     "name": "stdout",
     "output_type": "stream",
     "text": [
      "Before Values Change:\n",
      "['Ram', 'Siva', 'Hari', 'Venkat']\n",
      "['Ram', 'Siva', 'Hari', 'Venkat']\n",
      "After Values Change:\n",
      "['Ram', 'Pavan', 'Hari', 'Venkat']\n",
      "['Ram', 'Pavan', 'Hari', 'Venkat']\n"
     ]
    }
   ],
   "source": [
    "names=['Ram', 'Siva', 'Hari', 'Venkat']\n",
    "new_names=names #Shallow Copy of a list, both variables refer to the same list.\n",
    "print(\"Before Values Change:\")\n",
    "print(names)\n",
    "print(new_names)\n",
    "print(\"After Values Change:\")\n",
    "new_names[1]='Pavan'\n",
    "print(names)\n",
    "print(new_names)"
   ]
  },
  {
   "cell_type": "code",
   "execution_count": null,
   "metadata": {},
   "outputs": [],
   "source": []
  }
 ],
 "metadata": {
  "kernelspec": {
   "display_name": "Python 3",
   "language": "python",
   "name": "python3"
  },
  "language_info": {
   "codemirror_mode": {
    "name": "ipython",
    "version": 3
   },
   "file_extension": ".py",
   "mimetype": "text/x-python",
   "name": "python",
   "nbconvert_exporter": "python",
   "pygments_lexer": "ipython3",
   "version": "3.7.1"
  }
 },
 "nbformat": 4,
 "nbformat_minor": 2
}
