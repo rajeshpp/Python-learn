{
 "cells": [
  {
   "cell_type": "code",
   "execution_count": 9,
   "metadata": {},
   "outputs": [
    {
     "name": "stdout",
     "output_type": "stream",
     "text": [
      "Complex Data Types in Python: Shallow & Deep Copies in Python\n"
     ]
    }
   ],
   "source": [
    "print(\"Complex Data Types in Python: Shallow & Deep Copies in Python\")"
   ]
  },
  {
   "cell_type": "code",
   "execution_count": 6,
   "metadata": {},
   "outputs": [
    {
     "name": "stdout",
     "output_type": "stream",
     "text": [
      "Python\n",
      "Python\n",
      "Python\n",
      "Other String\n"
     ]
    }
   ],
   "source": [
    "old_str=\"Python\"\n",
    "print(old_str)\n",
    "new_str=old_str\n",
    "print(new_str)\n",
    "new_str=\"Other String\"\n",
    "print(old_str)\n",
    "print(new_str)"
   ]
  },
  {
   "cell_type": "code",
   "execution_count": 7,
   "metadata": {},
   "outputs": [
    {
     "name": "stdout",
     "output_type": "stream",
     "text": [
      "Python\n",
      "Python\n",
      "Python\n",
      "Other String\n"
     ]
    }
   ],
   "source": [
    "import copy\n",
    "old_str=\"Python\"\n",
    "print(old_str)\n",
    "new_str=copy.copy(old_str)\n",
    "print(new_str)\n",
    "new_str=\"Other String\"\n",
    "print(old_str)\n",
    "print(new_str)"
   ]
  },
  {
   "cell_type": "code",
   "execution_count": 4,
   "metadata": {},
   "outputs": [
    {
     "name": "stdout",
     "output_type": "stream",
     "text": [
      "Python\n",
      "Python\n",
      "Python\n",
      "Other String\n"
     ]
    }
   ],
   "source": [
    "import copy\n",
    "old_str=\"Python\"\n",
    "print(old_str)\n",
    "new_str=copy.deepcopy(old_str)\n",
    "print(new_str)\n",
    "new_str=\"Other String\"\n",
    "print(old_str)\n",
    "print(new_str)"
   ]
  },
  {
   "cell_type": "code",
   "execution_count": 10,
   "metadata": {},
   "outputs": [
    {
     "name": "stdout",
     "output_type": "stream",
     "text": [
      "Normal assignment, copy.copy & copy.deepcopy are same in above examples for Strings.\n"
     ]
    }
   ],
   "source": [
    "print(\"Normal assignment, copy.copy & copy.deepcopy are same in above examples for Strings.\")"
   ]
  },
  {
   "cell_type": "code",
   "execution_count": 11,
   "metadata": {},
   "outputs": [
    {
     "name": "stdout",
     "output_type": "stream",
     "text": [
      "List Operations\n"
     ]
    }
   ],
   "source": [
    "print(\"List Operations\")"
   ]
  },
  {
   "cell_type": "code",
   "execution_count": 4,
   "metadata": {},
   "outputs": [
    {
     "name": "stdout",
     "output_type": "stream",
     "text": [
      "Before Values Change:\n",
      "['Ram', 'Siva', 'Hari', 'Venkat']\n",
      "['Ram', 'Siva', 'Hari', 'Venkat']\n",
      "After Values Change:\n",
      "['Ram', 'Pavan', 'Hari', 'Venkat']\n",
      "['Ram', 'Pavan', 'Hari', 'Venkat']\n"
     ]
    }
   ],
   "source": [
    "names=['Ram', 'Siva', 'Hari', 'Venkat']\n",
    "new_names=names #Shallow Copy of a list. Both variables refer to the same list.\n",
    "print(\"Before Values Change:\")\n",
    "print(names)\n",
    "print(new_names)\n",
    "print(\"After Values Change:\")\n",
    "new_names[1]='Pavan'\n",
    "print(names)\n",
    "print(new_names)"
   ]
  },
  {
   "cell_type": "code",
   "execution_count": 32,
   "metadata": {},
   "outputs": [
    {
     "name": "stdout",
     "output_type": "stream",
     "text": [
      "With copy.copy() function:\n",
      "Before Values Change:\n",
      "Original:  ['hackearth', 'google', 'facebook']\n",
      "Modified:  ['hackearth', 'google', 'facebook']\n",
      "After Values Change:\n",
      "Original:  ['hackearth', 'google', 'facebook']\n",
      "Modified:  ['hackearth', 'microsoft', 'facebook']\n",
      "\n",
      "Now with copy.deepcopy() function:\n",
      "Before Values Change:\n",
      "Original:  ['hackearth', 'google', 'facebook']\n",
      "Modified:  ['hackearth', 'google', 'facebook']\n",
      "After Values Change:\n",
      "Original:  ['hackearth', 'google', 'facebook']\n",
      "Modified:  ['hackearth', 'microsoft', 'facebook']\n",
      "\n",
      "=====================================================================\n",
      "copy.copy() and copy.deepcopy() Produce deep copies of non-nested lists.\n",
      "=====================================================================\n",
      "\n",
      "Now with copy.deepcopy() function for nested lists:\n",
      "Before Values Change:\n",
      "Old List:  [[1, 2, 3], [4, 5, 6], [7, 8, 9]]\n",
      "New List:  [[1, 2, 3], [4, 5, 6], [7, 8, 9]]\n",
      "After First Change:\n",
      "Old List:  [[1, 2, 3], ['Four', 5, 6], [7, 8, 9]]\n",
      "New List:  [[1, 2, 3], [4, 5, 6], [7, 8, 9]]\n",
      "After Second Change:\n",
      "Old List:  [[1, 2, 3], ['Four', 5, 6], [7, 8, 9]]\n",
      "New List:  [[1, 2, 3], [4, 5, 6], [7, 8, 9, 'Ten']]\n",
      "After Third Change:\n",
      "Old List:  [[1, 2, 3], ['Four', 5, 6], [7, 8, 9], [10, 11, 12]]\n",
      "New List:  [[1, 2, 3], [4, 5, 6], [7, 8, 9, 'Ten']]\n",
      "\n",
      "Now with slicing:\n",
      "Before Values Change:\n",
      "Original:  ['hackearth', 'google', 'facebook']\n",
      "Modified:  ['hackearth', 'google', 'facebook']\n",
      "After Values Change:\n",
      "Original:  ['hackearth', 'google', 'facebook']\n",
      "Modified:  ['hackearth', 'microsoft', 'facebook']\n"
     ]
    }
   ],
   "source": [
    "import copy\n",
    "print(\"With copy.copy() function:\")\n",
    "companies = [\"hackearth\", \"google\", \"facebook\"]\n",
    "new_companies = copy.copy(companies) #The copy function creates a deep copy of a list. Completely different list.\n",
    "print(\"Before Values Change:\")\n",
    "print(\"Original: \", companies)\n",
    "print(\"Modified: \", new_companies)\n",
    "print(\"After Values Change:\")\n",
    "new_companies[1] = \"microsoft\"\n",
    "print(\"Original: \", companies)\n",
    "print(\"Modified: \", new_companies)\n",
    "print()\n",
    "print(\"Now with copy.deepcopy() function:\")\n",
    "companies = [\"hackearth\", \"google\", \"facebook\"]\n",
    "new_companies = copy.deepcopy(companies) #Creates a deep copy of a lst.\n",
    "print(\"Before Values Change:\")\n",
    "print(\"Original: \", companies)\n",
    "print(\"Modified: \", new_companies)\n",
    "print(\"After Values Change:\")\n",
    "new_companies[1] = \"microsoft\"\n",
    "print(\"Original: \", companies)\n",
    "print(\"Modified: \", new_companies)\n",
    "print()\n",
    "print(\"=====================================================================\")\n",
    "print(\"copy.copy() and copy.deepcopy() Produce deep copies of non-nested lists.\")\n",
    "print(\"=====================================================================\")\n",
    "print()\n",
    "print(\"Now with copy.deepcopy() function for nested lists:\")\n",
    "old_list = [[1,2,3],[4,5,6],[7,8,9]]\n",
    "new_list=copy.deepcopy(old_list)\n",
    "print(\"Before Values Change:\")\n",
    "print(\"Old List: \", old_list)\n",
    "print(\"New List: \", new_list)\n",
    "print(\"After First Change:\")\n",
    "old_list[1][0]=\"Four\"\n",
    "print(\"Old List: \", old_list)\n",
    "print(\"New List: \", new_list)\n",
    "new_list[2].append(\"Ten\")\n",
    "print(\"After Second Change:\")\n",
    "print(\"Old List: \", old_list)\n",
    "print(\"New List: \", new_list)\n",
    "old_list.append([10, 11, 12])\n",
    "print(\"After Third Change:\")\n",
    "print(\"Old List: \", old_list)\n",
    "print(\"New List: \", new_list)\n",
    "print()\n",
    "print(\"Now with slicing:\")\n",
    "companies = [\"hackearth\", \"google\", \"facebook\"]\n",
    "new_companies = companies[:] #Creates a deep copy of a lst.\n",
    "print(\"Before Values Change:\")\n",
    "print(\"Original: \", companies)\n",
    "print(\"Modified: \", new_companies)\n",
    "print(\"After Values Change:\")\n",
    "new_companies[1] = \"microsoft\"\n",
    "print(\"Original: \", companies)\n",
    "print(\"Modified: \", new_companies)"
   ]
  },
  {
   "cell_type": "code",
   "execution_count": 11,
   "metadata": {},
   "outputs": [
    {
     "name": "stdout",
     "output_type": "stream",
     "text": [
      "Before Values Change:\n",
      "Old List:  [[1, 2, 3], [4, 5, 6], [7, 8, 9]]\n",
      "New List:  [[1, 2, 3], [4, 5, 6], [7, 8, 9]]\n",
      "After First Change:\n",
      "Old List:  [[1, 2, 3], ['four', 5, 6], [7, 8, 9]]\n",
      "New List:  [[1, 2, 3], ['four', 5, 6], [7, 8, 9]]\n",
      "After Second Change:\n",
      "Old List:  [[1, 2, 3], ['four', 5, 6], [7, 8, 9, 'Ten']]\n",
      "New List:  [[1, 2, 3], ['four', 5, 6], [7, 8, 9, 'Ten']]\n",
      "After Third Change:\n",
      "Old List:  [[1, 2, 3], ['four', 5, 6], [7, 8, 9, 'Ten'], [10, 11, 12]]\n",
      "New List:  [[1, 2, 3], ['four', 5, 6], [7, 8, 9, 'Ten']]\n"
     ]
    }
   ],
   "source": [
    "import copy\n",
    "old_list = [[1,2,3],[4,5,6],[7,8,9]]\n",
    "new_list=copy.copy(old_list) #The copy function created a deep copy of the outer list and a shallow copy of the inner list.\n",
    "print(\"Before Values Change:\")\n",
    "print(\"Old List: \", old_list)\n",
    "print(\"New List: \", new_list)\n",
    "print(\"After First Change:\")\n",
    "old_list[1][0]=\"four\"\n",
    "print(\"Old List: \", old_list)\n",
    "print(\"New List: \", new_list)\n",
    "new_list[2].append(\"Ten\")\n",
    "print(\"After Second Change:\")\n",
    "print(\"Old List: \", old_list)\n",
    "print(\"New List: \", new_list)\n",
    "old_list.append([10, 11, 12])\n",
    "print(\"After Third Change:\")\n",
    "print(\"Old List: \", old_list) #See here. Outer list effected as it is a deep copy.\n",
    "print(\"New List: \", new_list)"
   ]
  },
  {
   "cell_type": "code",
   "execution_count": 33,
   "metadata": {},
   "outputs": [
    {
     "name": "stdout",
     "output_type": "stream",
     "text": [
      "Creating Shallow And Deep copies of Tuples\n"
     ]
    }
   ],
   "source": [
    "print(\"Creating Shallow And Deep copies of Tuples\")"
   ]
  },
  {
   "cell_type": "code",
   "execution_count": 36,
   "metadata": {},
   "outputs": [
    {
     "name": "stdout",
     "output_type": "stream",
     "text": [
      "Before Change: \n",
      "Original:  ('Apple', 'Banana', 'Orange')\n",
      "Modified:  ('Apple', 'Banana', 'Orange')\n"
     ]
    },
    {
     "ename": "TypeError",
     "evalue": "'tuple' object does not support item assignment",
     "output_type": "error",
     "traceback": [
      "\u001b[1;31m---------------------------------------------------------------------------\u001b[0m",
      "\u001b[1;31mTypeError\u001b[0m                                 Traceback (most recent call last)",
      "\u001b[1;32m<ipython-input-36-1e380d0bc6b3>\u001b[0m in \u001b[0;36m<module>\u001b[1;34m\u001b[0m\n\u001b[0;32m      4\u001b[0m \u001b[0mprint\u001b[0m\u001b[1;33m(\u001b[0m\u001b[1;34m\"Original: \"\u001b[0m\u001b[1;33m,\u001b[0m \u001b[0mfruits\u001b[0m\u001b[1;33m)\u001b[0m\u001b[1;33m\u001b[0m\u001b[1;33m\u001b[0m\u001b[0m\n\u001b[0;32m      5\u001b[0m \u001b[0mprint\u001b[0m\u001b[1;33m(\u001b[0m\u001b[1;34m\"Modified: \"\u001b[0m\u001b[1;33m,\u001b[0m \u001b[0mnew_fruits\u001b[0m\u001b[1;33m)\u001b[0m\u001b[1;33m\u001b[0m\u001b[1;33m\u001b[0m\u001b[0m\n\u001b[1;32m----> 6\u001b[1;33m \u001b[0mnew_fruits\u001b[0m\u001b[1;33m[\u001b[0m\u001b[1;36m1\u001b[0m\u001b[1;33m]\u001b[0m \u001b[1;33m=\u001b[0m \u001b[1;34m\"Grapes\"\u001b[0m\u001b[1;33m\u001b[0m\u001b[1;33m\u001b[0m\u001b[0m\n\u001b[0m",
      "\u001b[1;31mTypeError\u001b[0m: 'tuple' object does not support item assignment"
     ]
    }
   ],
   "source": [
    "fruits = (\"Apple\", \"Banana\", \"Orange\")\n",
    "new_fruits = fruits #Creates Shallow Copy\n",
    "print(\"Before Change: \")\n",
    "print(\"Original: \", fruits)\n",
    "print(\"Modified: \", new_fruits)\n",
    "new_fruits[1] = \"Grapes\""
   ]
  },
  {
   "cell_type": "code",
   "execution_count": 40,
   "metadata": {},
   "outputs": [
    {
     "name": "stdout",
     "output_type": "stream",
     "text": [
      "Before Change: \n",
      "Original:  ('Apple', ['Banana', 'Cherry'], 'Orange')\n",
      "Modified:  ('Apple', ['Banana', 'Cherry'], 'Orange')\n",
      "After Change: \n",
      "Original:  ('Apple', ['Grapes', 'Cherry'], 'Orange')\n",
      "Modified:  ('Apple', ['Grapes', 'Cherry'], 'Orange')\n"
     ]
    }
   ],
   "source": [
    "fruits = (\"Apple\", [\"Banana\", \"Cherry\"], \"Orange\")\n",
    "new_fruits = fruits #Creates Shallow Copy\n",
    "print(\"Before Change: \")\n",
    "print(\"Original: \", fruits)\n",
    "print(\"Modified: \", new_fruits)\n",
    "print(\"After Change: \")\n",
    "new_fruits[1][0] = \"Grapes\"\n",
    "print(\"Original: \", fruits)\n",
    "print(\"Modified: \", new_fruits)"
   ]
  },
  {
   "cell_type": "code",
   "execution_count": 41,
   "metadata": {},
   "outputs": [
    {
     "name": "stdout",
     "output_type": "stream",
     "text": [
      "Before Change: \n",
      "Original:  ('Apple', ['Banana', 'Cherry'], 'Orange')\n",
      "Modified:  ('Apple', ['Banana', 'Cherry'], 'Orange')\n",
      "After Change: \n",
      "Original:  ('Apple', ['Grapes', 'Cherry'], 'Orange')\n",
      "Modified:  ('Apple', ['Grapes', 'Cherry'], 'Orange')\n"
     ]
    }
   ],
   "source": [
    "import copy\n",
    "fruits = (\"Apple\", [\"Banana\", \"Cherry\"], \"Orange\")\n",
    "new_fruits = copy.copy(fruits) #Creates Shallow Copy\n",
    "print(\"Before Change: \")\n",
    "print(\"Original: \", fruits)\n",
    "print(\"Modified: \", new_fruits)\n",
    "print(\"After Change: \")\n",
    "new_fruits[1][0] = \"Grapes\"\n",
    "print(\"Original: \", fruits)\n",
    "print(\"Modified: \", new_fruits)"
   ]
  },
  {
   "cell_type": "code",
   "execution_count": 42,
   "metadata": {},
   "outputs": [
    {
     "name": "stdout",
     "output_type": "stream",
     "text": [
      "Before Change: \n",
      "Original:  ('Apple', ['Banana', 'Cherry'], 'Orange')\n",
      "Modified:  ('Apple', ['Banana', 'Cherry'], 'Orange')\n",
      "After Change: \n",
      "Original:  ('Apple', ['Banana', 'Cherry'], 'Orange')\n",
      "Modified:  ('Apple', ['Grapes', 'Cherry'], 'Orange')\n"
     ]
    }
   ],
   "source": [
    "import copy\n",
    "fruits = (\"Apple\", [\"Banana\", \"Cherry\"], \"Orange\")\n",
    "new_fruits = copy.deepcopy(fruits) #Creates Deep Copy\n",
    "print(\"Before Change: \")\n",
    "print(\"Original: \", fruits)\n",
    "print(\"Modified: \", new_fruits)\n",
    "print(\"After Change: \")\n",
    "new_fruits[1][0] = \"Grapes\"\n",
    "print(\"Original: \", fruits)\n",
    "print(\"Modified: \", new_fruits)"
   ]
  },
  {
   "cell_type": "code",
   "execution_count": 43,
   "metadata": {},
   "outputs": [
    {
     "name": "stdout",
     "output_type": "stream",
     "text": [
      "Creating Shallow And Deep copies of Dictionaries\n"
     ]
    }
   ],
   "source": [
    "print(\"Creating Shallow And Deep copies of Dictionaries\")"
   ]
  },
  {
   "cell_type": "code",
   "execution_count": 44,
   "metadata": {},
   "outputs": [
    {
     "name": "stdout",
     "output_type": "stream",
     "text": [
      "Before Change: \n",
      "Original:  {'jan': 1, 'feb': 2, 'mar': 3, 'apr': 4}\n",
      "Modified:  {'jan': 1, 'feb': 2, 'mar': 3, 'apr': 4}\n",
      "After Change: \n",
      "Original:  {'jan': 1, 'feb': 'FEB', 'mar': 3, 'apr': 4}\n",
      "Modified:  {'jan': 1, 'feb': 'FEB', 'mar': 3, 'apr': 4}\n"
     ]
    }
   ],
   "source": [
    "months = {\"jan\":1, \"feb\":2, \"mar\":3, \"apr\":4}\n",
    "new_months=months #Creates Shallow copy. Both refers to same dict.\n",
    "print(\"Before Change: \")\n",
    "print(\"Original: \", months)\n",
    "print(\"Modified: \", new_months)\n",
    "print(\"After Change: \")\n",
    "new_months[\"feb\"] = \"FEB\"\n",
    "print(\"Original: \", months)\n",
    "print(\"Modified: \", new_months)"
   ]
  },
  {
   "cell_type": "code",
   "execution_count": 45,
   "metadata": {},
   "outputs": [
    {
     "name": "stdout",
     "output_type": "stream",
     "text": [
      "Before Change: \n",
      "Original:  {'jan': 1, 'feb': 2, 'mar': 3, 'apr': 4}\n",
      "Modified:  {'jan': 1, 'feb': 2, 'mar': 3, 'apr': 4}\n",
      "After Change: \n",
      "Original:  {'jan': 1, 'feb': 2, 'mar': 3, 'apr': 4}\n",
      "Modified:  {'jan': 1, 'feb': 'FEB', 'mar': 3, 'apr': 4}\n"
     ]
    }
   ],
   "source": [
    "import copy\n",
    "months = {\"jan\":1, \"feb\":2, \"mar\":3, \"apr\":4}\n",
    "new_months=copy.copy(months) #Creates deep copy. Both refers to different dict.\n",
    "print(\"Before Change: \")\n",
    "print(\"Original: \", months)\n",
    "print(\"Modified: \", new_months)\n",
    "print(\"After Change: \")\n",
    "new_months[\"feb\"] = \"FEB\"\n",
    "print(\"Original: \", months)\n",
    "print(\"Modified: \", new_months)"
   ]
  },
  {
   "cell_type": "code",
   "execution_count": 46,
   "metadata": {},
   "outputs": [
    {
     "name": "stdout",
     "output_type": "stream",
     "text": [
      "Before Change: \n",
      "Original:  {'jan': 1, 'feb': 2, 'mar': 3, 'apr': 4}\n",
      "Modified:  {'jan': 1, 'feb': 2, 'mar': 3, 'apr': 4}\n",
      "After Change: \n",
      "Original:  {'jan': 1, 'feb': 2, 'mar': 3, 'apr': 4}\n",
      "Modified:  {'jan': 1, 'feb': 'FEB', 'mar': 3, 'apr': 4}\n"
     ]
    }
   ],
   "source": [
    "import copy\n",
    "months = {\"jan\":1, \"feb\":2, \"mar\":3, \"apr\":4}\n",
    "new_months=copy.deepcopy(months) #Creates deep copy. Both refers to different dict.\n",
    "print(\"Before Change: \")\n",
    "print(\"Original: \", months)\n",
    "print(\"Modified: \", new_months)\n",
    "print(\"After Change: \")\n",
    "new_months[\"feb\"] = \"FEB\"\n",
    "print(\"Original: \", months)\n",
    "print(\"Modified: \", new_months)"
   ]
  },
  {
   "cell_type": "code",
   "execution_count": 49,
   "metadata": {},
   "outputs": [
    {
     "name": "stdout",
     "output_type": "stream",
     "text": [
      "Before Change: \n",
      "Original:  {'one': 1, 'two': 2, 'three': 3, 'four': [1, 2, 3, 4]}\n",
      "Modified:  {'one': 1, 'two': 2, 'three': 3, 'four': [1, 2, 3, 4]}\n",
      "After Change: \n",
      "Original:  {'one': 1, 'two': 2, 'three': 3, 'four': ['One', 2, 3, 4]}\n",
      "Modified:  {'one': 1, 'two': 2, 'three': 3, 'four': ['One', 2, 3, 4]}\n"
     ]
    }
   ],
   "source": [
    "import copy\n",
    "orig = {\"one\": 1, \"two\": 2, \"three\": 3, \"four\": [1, 2, 3, 4]}\n",
    "new_dict=copy.copy(orig) #Creates a Shallow copy of nested types and deep copy for outer dict.\n",
    "print(\"Before Change: \")\n",
    "print(\"Original: \", orig)\n",
    "print(\"Modified: \", new_dict)\n",
    "print(\"After Change: \")\n",
    "new_dict[\"four\"][0] = \"One\"\n",
    "print(\"Original: \", orig)\n",
    "print(\"Modified: \", new_dict)"
   ]
  },
  {
   "cell_type": "code",
   "execution_count": null,
   "metadata": {},
   "outputs": [],
   "source": []
  }
 ],
 "metadata": {
  "kernelspec": {
   "display_name": "Python 3",
   "language": "python",
   "name": "python3"
  },
  "language_info": {
   "codemirror_mode": {
    "name": "ipython",
    "version": 3
   },
   "file_extension": ".py",
   "mimetype": "text/x-python",
   "name": "python",
   "nbconvert_exporter": "python",
   "pygments_lexer": "ipython3",
   "version": "3.7.1"
  }
 },
 "nbformat": 4,
 "nbformat_minor": 2
}
