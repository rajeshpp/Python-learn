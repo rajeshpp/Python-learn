{
 "cells": [
  {
   "cell_type": "code",
   "execution_count": 9,
   "metadata": {},
   "outputs": [
    {
     "name": "stdout",
     "output_type": "stream",
     "text": [
      "Complex Data Types in Python: Shallow & Deep Copies in Python\n"
     ]
    }
   ],
   "source": [
    "print(\"Complex Data Types in Python: Shallow & Deep Copies in Python\")"
   ]
  },
  {
   "cell_type": "code",
   "execution_count": 6,
   "metadata": {},
   "outputs": [
    {
     "name": "stdout",
     "output_type": "stream",
     "text": [
      "Python\n",
      "Python\n",
      "Python\n",
      "Other String\n"
     ]
    }
   ],
   "source": [
    "old_str=\"Python\"\n",
    "print(old_str)\n",
    "new_str=old_str\n",
    "print(new_str)\n",
    "new_str=\"Other String\"\n",
    "print(old_str)\n",
    "print(new_str)"
   ]
  },
  {
   "cell_type": "code",
   "execution_count": 7,
   "metadata": {},
   "outputs": [
    {
     "name": "stdout",
     "output_type": "stream",
     "text": [
      "Python\n",
      "Python\n",
      "Python\n",
      "Other String\n"
     ]
    }
   ],
   "source": [
    "import copy\n",
    "old_str=\"Python\"\n",
    "print(old_str)\n",
    "new_str=copy.copy(old_str)\n",
    "print(new_str)\n",
    "new_str=\"Other String\"\n",
    "print(old_str)\n",
    "print(new_str)"
   ]
  },
  {
   "cell_type": "code",
   "execution_count": 4,
   "metadata": {},
   "outputs": [
    {
     "name": "stdout",
     "output_type": "stream",
     "text": [
      "Python\n",
      "Python\n",
      "Python\n",
      "Other String\n"
     ]
    }
   ],
   "source": [
    "import copy\n",
    "old_str=\"Python\"\n",
    "print(old_str)\n",
    "new_str=copy.deepcopy(old_str)\n",
    "print(new_str)\n",
    "new_str=\"Other String\"\n",
    "print(old_str)\n",
    "print(new_str)"
   ]
  },
  {
   "cell_type": "code",
   "execution_count": 10,
   "metadata": {},
   "outputs": [
    {
     "name": "stdout",
     "output_type": "stream",
     "text": [
      "Normal assignment, copy.copy & copy.deepcopy are same in above examples for Strings.\n"
     ]
    }
   ],
   "source": [
    "print(\"Normal assignment, copy.copy & copy.deepcopy are same in above examples for Strings.\")"
   ]
  },
  {
   "cell_type": "code",
   "execution_count": 11,
   "metadata": {},
   "outputs": [
    {
     "name": "stdout",
     "output_type": "stream",
     "text": [
      "List Operations\n"
     ]
    }
   ],
   "source": [
    "print(\"List Operations\")"
   ]
  },
  {
   "cell_type": "code",
   "execution_count": 4,
   "metadata": {},
   "outputs": [
    {
     "name": "stdout",
     "output_type": "stream",
     "text": [
      "Before Values Change:\n",
      "['Ram', 'Siva', 'Hari', 'Venkat']\n",
      "['Ram', 'Siva', 'Hari', 'Venkat']\n",
      "After Values Change:\n",
      "['Ram', 'Pavan', 'Hari', 'Venkat']\n",
      "['Ram', 'Pavan', 'Hari', 'Venkat']\n"
     ]
    }
   ],
   "source": [
    "names=['Ram', 'Siva', 'Hari', 'Venkat']\n",
    "new_names=names #Shallow Copy of a list. Both variables refer to the same list.\n",
    "print(\"Before Values Change:\")\n",
    "print(names)\n",
    "print(new_names)\n",
    "print(\"After Values Change:\")\n",
    "new_names[1]='Pavan'\n",
    "print(names)\n",
    "print(new_names)"
   ]
  },
  {
   "cell_type": "code",
   "execution_count": 6,
   "metadata": {},
   "outputs": [
    {
     "name": "stdout",
     "output_type": "stream",
     "text": [
      "Before Values Change:\n",
      "Original:  ['hackearth', 'google', 'facebook']\n",
      "Modified:  ['hackearth', 'google', 'facebook']\n",
      "After Values Change:\n",
      "Original:  ['hackearth', 'google', 'facebook']\n",
      "Modified:  ['hackearth', 'microsoft', 'facebook']\n"
     ]
    }
   ],
   "source": [
    "import copy\n",
    "companies = [\"hackearth\", \"google\", \"facebook\"]\n",
    "new_companies = copy.copy(companies) #The copy function creates a deep copy of a list. Completely different list.\n",
    "print(\"Before Values Change:\")\n",
    "print(\"Original: \", companies)\n",
    "print(\"Modified: \", new_companies)\n",
    "print(\"After Values Change:\")\n",
    "new_companies[1] = \"microsoft\"\n",
    "print(\"Original: \", companies)\n",
    "print(\"Modified: \", new_companies)"
   ]
  },
  {
   "cell_type": "code",
   "execution_count": 10,
   "metadata": {},
   "outputs": [
    {
     "name": "stdout",
     "output_type": "stream",
     "text": [
      "Before Values Change:\n",
      "Old List:  [[1, 2, 3], [4, 5, 6], [7, 8, 9]]\n",
      "New List:  [[1, 2, 3], [4, 5, 6], [7, 8, 9]]\n",
      "After Values Change:\n",
      "Old List:  [[1, 2, 3], ['four', 5, 6], [7, 8, 9]]\n",
      "New List:  [[1, 2, 3], ['four', 5, 6], [7, 8, 9]]\n",
      "After Another Change:\n",
      "Old List:  [[1, 2, 3], ['four', 5, 6], [7, 8, 9, 'Ten']]\n",
      "New List:  [[1, 2, 3], ['four', 5, 6], [7, 8, 9, 'Ten']]\n",
      "After Another Change:\n",
      "Old List:  [[1, 2, 3], ['four', 5, 6], [7, 8, 9, 'Ten'], [10, 11, 12]]\n",
      "New List:  [[1, 2, 3], ['four', 5, 6], [7, 8, 9, 'Ten']]\n"
     ]
    }
   ],
   "source": [
    "import copy\n",
    "old_list = [[1,2,3],[4,5,6],[7,8,9]]\n",
    "new_list=copy.copy(old_list) #The copy function created a deep copy of the outer list and a shallow copy of the inner list.\n",
    "print(\"Before Values Change:\")\n",
    "print(\"Old List: \", old_list)\n",
    "print(\"New List: \", new_list)\n",
    "print(\"After First Change:\")\n",
    "old_list[1][0]=\"four\"\n",
    "print(\"Old List: \", old_list)\n",
    "print(\"New List: \", new_list)\n",
    "new_list[2].append(\"Ten\")\n",
    "print(\"After Second Change:\")\n",
    "print(\"Old List: \", old_list)\n",
    "print(\"New List: \", new_list)\n",
    "old_list.append([10, 11, 12])\n",
    "print(\"After Third Change:\")\n",
    "print(\"Old List: \", old_list) #See here. Outer list effected as it is a deep copy.\n",
    "print(\"New List: \", new_list)"
   ]
  },
  {
   "cell_type": "code",
   "execution_count": null,
   "metadata": {},
   "outputs": [],
   "source": []
  }
 ],
 "metadata": {
  "kernelspec": {
   "display_name": "Python 3",
   "language": "python",
   "name": "python3"
  },
  "language_info": {
   "codemirror_mode": {
    "name": "ipython",
    "version": 3
   },
   "file_extension": ".py",
   "mimetype": "text/x-python",
   "name": "python",
   "nbconvert_exporter": "python",
   "pygments_lexer": "ipython3",
   "version": "3.7.1"
  }
 },
 "nbformat": 4,
 "nbformat_minor": 2
}
