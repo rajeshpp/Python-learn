{
 "cells": [
  {
   "cell_type": "code",
   "execution_count": 1,
   "metadata": {},
   "outputs": [
    {
     "name": "stdout",
     "output_type": "stream",
     "text": [
      "====  File Operations in Python   ====\n"
     ]
    }
   ],
   "source": [
    "print(\"====  File Operations in Python   ====\")"
   ]
  },
  {
   "cell_type": "code",
   "execution_count": 3,
   "metadata": {},
   "outputs": [
    {
     "data": {
      "text/plain": [
       "['.ipynb_checkpoints', 'File_Ops.ipynb', 'sample.txt']"
      ]
     },
     "execution_count": 3,
     "metadata": {},
     "output_type": "execute_result"
    }
   ],
   "source": [
    "import os\n",
    "os.listdir()"
   ]
  },
  {
   "cell_type": "code",
   "execution_count": 5,
   "metadata": {},
   "outputs": [],
   "source": [
    "file = open(\"sample.txt\")"
   ]
  },
  {
   "cell_type": "code",
   "execution_count": 6,
   "metadata": {},
   "outputs": [
    {
     "data": {
      "text/plain": [
       "<_io.TextIOWrapper name='sample.txt' mode='r' encoding='cp1252'>"
      ]
     },
     "execution_count": 6,
     "metadata": {},
     "output_type": "execute_result"
    }
   ],
   "source": [
    "file"
   ]
  },
  {
   "cell_type": "code",
   "execution_count": 7,
   "metadata": {},
   "outputs": [
    {
     "data": {
      "text/plain": [
       "'r'"
      ]
     },
     "execution_count": 7,
     "metadata": {},
     "output_type": "execute_result"
    }
   ],
   "source": [
    "file.mode"
   ]
  },
  {
   "cell_type": "code",
   "execution_count": 8,
   "metadata": {},
   "outputs": [
    {
     "data": {
      "text/plain": [
       "False"
      ]
     },
     "execution_count": 8,
     "metadata": {},
     "output_type": "execute_result"
    }
   ],
   "source": [
    "file.closed"
   ]
  },
  {
   "cell_type": "code",
   "execution_count": 9,
   "metadata": {},
   "outputs": [
    {
     "data": {
      "text/plain": [
       "'sample.txt'"
      ]
     },
     "execution_count": 9,
     "metadata": {},
     "output_type": "execute_result"
    }
   ],
   "source": [
    "file.name"
   ]
  },
  {
   "cell_type": "code",
   "execution_count": 10,
   "metadata": {},
   "outputs": [
    {
     "data": {
      "text/plain": [
       "'Hello Python.\\nHow are you.'"
      ]
     },
     "execution_count": 10,
     "metadata": {},
     "output_type": "execute_result"
    }
   ],
   "source": [
    "file.read()"
   ]
  },
  {
   "cell_type": "code",
   "execution_count": 11,
   "metadata": {},
   "outputs": [
    {
     "data": {
      "text/plain": [
       "''"
      ]
     },
     "execution_count": 11,
     "metadata": {},
     "output_type": "execute_result"
    }
   ],
   "source": [
    "file.read()"
   ]
  },
  {
   "cell_type": "code",
   "execution_count": 14,
   "metadata": {},
   "outputs": [
    {
     "data": {
      "text/plain": [
       "0"
      ]
     },
     "execution_count": 14,
     "metadata": {},
     "output_type": "execute_result"
    }
   ],
   "source": [
    "file.seek(0)"
   ]
  },
  {
   "cell_type": "code",
   "execution_count": 15,
   "metadata": {},
   "outputs": [
    {
     "data": {
      "text/plain": [
       "'Hello'"
      ]
     },
     "execution_count": 15,
     "metadata": {},
     "output_type": "execute_result"
    }
   ],
   "source": [
    "file.read(5)"
   ]
  },
  {
   "cell_type": "code",
   "execution_count": 16,
   "metadata": {},
   "outputs": [
    {
     "data": {
      "text/plain": [
       "5"
      ]
     },
     "execution_count": 16,
     "metadata": {},
     "output_type": "execute_result"
    }
   ],
   "source": [
    "file.tell()"
   ]
  },
  {
   "cell_type": "code",
   "execution_count": 17,
   "metadata": {},
   "outputs": [
    {
     "data": {
      "text/plain": [
       "' Pyth'"
      ]
     },
     "execution_count": 17,
     "metadata": {},
     "output_type": "execute_result"
    }
   ],
   "source": [
    "file.read(5)"
   ]
  },
  {
   "cell_type": "code",
   "execution_count": 18,
   "metadata": {},
   "outputs": [
    {
     "data": {
      "text/plain": [
       "10"
      ]
     },
     "execution_count": 18,
     "metadata": {},
     "output_type": "execute_result"
    }
   ],
   "source": [
    "file.tell()"
   ]
  },
  {
   "cell_type": "code",
   "execution_count": 19,
   "metadata": {},
   "outputs": [
    {
     "data": {
      "text/plain": [
       "4"
      ]
     },
     "execution_count": 19,
     "metadata": {},
     "output_type": "execute_result"
    }
   ],
   "source": [
    "file.fileno()"
   ]
  },
  {
   "cell_type": "code",
   "execution_count": 26,
   "metadata": {},
   "outputs": [
    {
     "data": {
      "text/plain": [
       "False"
      ]
     },
     "execution_count": 26,
     "metadata": {},
     "output_type": "execute_result"
    }
   ],
   "source": [
    "file.isatty()  #Is opened by terminal"
   ]
  },
  {
   "cell_type": "code",
   "execution_count": 27,
   "metadata": {},
   "outputs": [
    {
     "data": {
      "text/plain": [
       "True"
      ]
     },
     "execution_count": 27,
     "metadata": {},
     "output_type": "execute_result"
    }
   ],
   "source": [
    "file.readable()"
   ]
  },
  {
   "cell_type": "code",
   "execution_count": 29,
   "metadata": {},
   "outputs": [
    {
     "data": {
      "text/plain": [
       "False"
      ]
     },
     "execution_count": 29,
     "metadata": {},
     "output_type": "execute_result"
    }
   ],
   "source": [
    "file.writable()"
   ]
  },
  {
   "cell_type": "code",
   "execution_count": 32,
   "metadata": {},
   "outputs": [
    {
     "data": {
      "text/plain": [
       "'on.\\nHow are you.'"
      ]
     },
     "execution_count": 32,
     "metadata": {},
     "output_type": "execute_result"
    }
   ],
   "source": [
    "file.read()"
   ]
  },
  {
   "cell_type": "code",
   "execution_count": 35,
   "metadata": {},
   "outputs": [
    {
     "data": {
      "text/plain": [
       "26"
      ]
     },
     "execution_count": 35,
     "metadata": {},
     "output_type": "execute_result"
    }
   ],
   "source": [
    "file.tell()"
   ]
  },
  {
   "cell_type": "code",
   "execution_count": 39,
   "metadata": {},
   "outputs": [
    {
     "data": {
      "text/plain": [
       "26"
      ]
     },
     "execution_count": 39,
     "metadata": {},
     "output_type": "execute_result"
    }
   ],
   "source": [
    "import os\n",
    "os.stat('sample.txt').st_size"
   ]
  },
  {
   "cell_type": "code",
   "execution_count": 40,
   "metadata": {},
   "outputs": [
    {
     "name": "stdout",
     "output_type": "stream",
     "text": [
      "===== JSON Operations  ======\n"
     ]
    }
   ],
   "source": [
    "print(\"===== JSON Operations  ======\")"
   ]
  },
  {
   "cell_type": "code",
   "execution_count": 46,
   "metadata": {},
   "outputs": [
    {
     "data": {
      "text/plain": [
       "{'model': 'Civic', 'make': 'Honda', 'variants': ['Sedan', 'Coupe']}"
      ]
     },
     "execution_count": 46,
     "metadata": {},
     "output_type": "execute_result"
    }
   ],
   "source": [
    "import json\n",
    "car = \"\"\"{ \"model\":\"Civic\", \"make\" : \"Honda\" ,\"variants\": [\"Sedan\",\"Coupe\"]}\"\"\"\n",
    "car_dict=json.loads(car)\n",
    "car_dict"
   ]
  },
  {
   "cell_type": "code",
   "execution_count": 43,
   "metadata": {},
   "outputs": [
    {
     "data": {
      "text/plain": [
       "str"
      ]
     },
     "execution_count": 43,
     "metadata": {},
     "output_type": "execute_result"
    }
   ],
   "source": [
    "type(car)"
   ]
  },
  {
   "cell_type": "code",
   "execution_count": 44,
   "metadata": {},
   "outputs": [
    {
     "data": {
      "text/plain": [
       "dict"
      ]
     },
     "execution_count": 44,
     "metadata": {},
     "output_type": "execute_result"
    }
   ],
   "source": [
    "type(car_dict)"
   ]
  },
  {
   "cell_type": "code",
   "execution_count": 47,
   "metadata": {},
   "outputs": [
    {
     "name": "stdout",
     "output_type": "stream",
     "text": [
      "{'menu': {'id': 'file', 'value': 'File', 'popup': {'menuitem': [{'value': 'New', 'onclick': 'CreateNewDoc()'}, {'value': 'Open', 'onclick': 'OpenDoc()'}, {'value': 'Close', 'onclick': 'CloseDoc()'}]}}}\n"
     ]
    }
   ],
   "source": [
    "with open('sample.json') as json_file:\n",
    "    print(json.load(json_file))"
   ]
  },
  {
   "cell_type": "code",
   "execution_count": 48,
   "metadata": {},
   "outputs": [
    {
     "data": {
      "text/plain": [
       "str"
      ]
     },
     "execution_count": 48,
     "metadata": {},
     "output_type": "execute_result"
    }
   ],
   "source": [
    "currency = {\"Country\" : \"India\", \"Currency\" : \"Rupee\"}\n",
    "json_var=json.dumps(currency)\n",
    "type(json_var)"
   ]
  },
  {
   "cell_type": "code",
   "execution_count": 49,
   "metadata": {},
   "outputs": [
    {
     "data": {
      "text/plain": [
       "'{\"Country\": \"India\", \"Currency\": \"Rupee\"}'"
      ]
     },
     "execution_count": 49,
     "metadata": {},
     "output_type": "execute_result"
    }
   ],
   "source": [
    "json_var"
   ]
  },
  {
   "cell_type": "code",
   "execution_count": 55,
   "metadata": {},
   "outputs": [
    {
     "name": "stdout",
     "output_type": "stream",
     "text": [
      "{'Country': 'India', 'Currency': 'Rupee'}\n"
     ]
    }
   ],
   "source": [
    "with open('sample.json', 'w') as json_file:\n",
    "    json_file.write(json_var)\n",
    "    \n",
    "written_data = json.load(open('sample.json'))\n",
    "print(written_data)"
   ]
  },
  {
   "cell_type": "code",
   "execution_count": 57,
   "metadata": {},
   "outputs": [
    {
     "data": {
      "text/plain": [
       "'{\"Name\": \"Ice cream\", \"Flavours\": [\"Chocolate\", \"Pineapple\"], \"Toppings\": true, \"WaffleCone\": \"Yes\"}'"
      ]
     },
     "execution_count": 57,
     "metadata": {},
     "output_type": "execute_result"
    }
   ],
   "source": [
    "dessert = { \"Name\":\"Ice cream\",\n",
    "           \"Flavours\": [\"Chocolate\", \"Pineapple\"],\n",
    "           \"Toppings\": True,\n",
    "           \"WaffleCone\": \"Yes\"}\n",
    "\n",
    "\n",
    "dessert_str = json.dumps(dessert)\n",
    "dessert_str"
   ]
  },
  {
   "cell_type": "code",
   "execution_count": 58,
   "metadata": {},
   "outputs": [],
   "source": [
    "with open('sample.txt', 'w') as json_file:\n",
    "    json.dump(dessert, json_file)"
   ]
  },
  {
   "cell_type": "code",
   "execution_count": 59,
   "metadata": {},
   "outputs": [
    {
     "data": {
      "text/plain": [
       "'{\\n    \"Name\": \"Ice cream\",\\n    \"Flavours\": [\\n        \"Chocolate\",\\n        \"Pineapple\"\\n    ],\\n    \"Toppings\": true,\\n    \"WaffleCone\": \"Yes\"\\n}'"
      ]
     },
     "execution_count": 59,
     "metadata": {},
     "output_type": "execute_result"
    }
   ],
   "source": [
    "json.dumps(dessert, indent=4)"
   ]
  },
  {
   "cell_type": "code",
   "execution_count": 60,
   "metadata": {},
   "outputs": [
    {
     "data": {
      "text/plain": [
       "'{\"Name\"=\"Ice cream\":\"Flavours\"=[\"Chocolate\":\"Pineapple\"]:\"Toppings\"=true:\"WaffleCone\"=\"Yes\"}'"
      ]
     },
     "execution_count": 60,
     "metadata": {},
     "output_type": "execute_result"
    }
   ],
   "source": [
    "json.dumps(dessert, separators=(':', '='))  #Item separators, key-value separators"
   ]
  },
  {
   "cell_type": "code",
   "execution_count": 61,
   "metadata": {},
   "outputs": [
    {
     "data": {
      "text/plain": [
       "'{\"Flavours\": [\"Chocolate\", \"Pineapple\"], \"Name\": \"Ice cream\", \"Toppings\": true, \"WaffleCone\": \"Yes\"}'"
      ]
     },
     "execution_count": 61,
     "metadata": {},
     "output_type": "execute_result"
    }
   ],
   "source": [
    "json.dumps(dessert, sort_keys=True)"
   ]
  },
  {
   "cell_type": "code",
   "execution_count": 62,
   "metadata": {},
   "outputs": [
    {
     "name": "stdout",
     "output_type": "stream",
     "text": [
      "===== CSV Operations  ======\n"
     ]
    }
   ],
   "source": [
    "print(\"===== CSV Operations  ======\")"
   ]
  },
  {
   "cell_type": "code",
   "execution_count": 68,
   "metadata": {},
   "outputs": [
    {
     "name": "stdout",
     "output_type": "stream",
     "text": [
      "['Sid', ' Sname', ' Grade']\n",
      "['1', ' rajesh', ' A']\n",
      "['2', ' Shiv', ' A+']\n",
      "['3', ' Karthik', ' A+']\n",
      "['4', ' Anusha', ' A']\n"
     ]
    }
   ],
   "source": [
    "import csv\n",
    "\n",
    "with open('sample.csv') as file:\n",
    "    data = csv.reader(file, delimiter=',')  #delimeter can be used to read data separated by |, tab etc...\n",
    "    \n",
    "    for row in data:\n",
    "        print(row)"
   ]
  },
  {
   "cell_type": "code",
   "execution_count": 69,
   "metadata": {},
   "outputs": [
    {
     "name": "stdout",
     "output_type": "stream",
     "text": [
      "{'Sid': '1', ' Sname': ' rajesh', ' Grade': ' A'}\n",
      "{'Sid': '2', ' Sname': ' Shiv', ' Grade': ' A+'}\n",
      "{'Sid': '3', ' Sname': ' Karthik', ' Grade': ' A+'}\n",
      "{'Sid': '4', ' Sname': ' Anusha', ' Grade': ' A'}\n"
     ]
    }
   ],
   "source": [
    "import csv\n",
    "\n",
    "with open('sample.csv') as file:\n",
    "    data = csv.DictReader(file, delimiter=',')  #delimeter can be used to read data separated by |, tab etc...\n",
    "    \n",
    "    for row in data:\n",
    "        print(dict(row))"
   ]
  },
  {
   "cell_type": "code",
   "execution_count": 70,
   "metadata": {},
   "outputs": [],
   "source": [
    "names = [['FirstName','LastName'],\n",
    "         ['Sofia','Reyes'],\n",
    "         ['Jerome', 'Jackson'],\n",
    "         ['Jia', 'Zhong']]\n",
    "\n",
    "with open('sample.csv', 'w') as file:\n",
    "    writer = csv.writer(file)\n",
    "    \n",
    "    for row in names:\n",
    "        writer.writerow(row)"
   ]
  },
  {
   "cell_type": "code",
   "execution_count": 72,
   "metadata": {},
   "outputs": [
    {
     "name": "stdout",
     "output_type": "stream",
     "text": [
      "FirstName,LastName\n",
      "\n",
      "Sofia,Reyes\n",
      "\n",
      "Jerome,Jackson\n",
      "\n",
      "Jia,Zhong\n",
      "\n",
      "\n"
     ]
    }
   ],
   "source": [
    "with open('sample.csv') as file:\n",
    "    print(file.read())"
   ]
  },
  {
   "cell_type": "code",
   "execution_count": 75,
   "metadata": {},
   "outputs": [
    {
     "name": "stdout",
     "output_type": "stream",
     "text": [
      "1,2,3\n",
      "\n",
      "4,5,6\n",
      "\n",
      "7,8,9\n",
      "\n",
      "\n"
     ]
    }
   ],
   "source": [
    "#Another Style\n",
    "import csv\n",
    "nums = [[1, 2, 3],\n",
    "        [4, 5, 6],\n",
    "        [7, 8, 9]]\n",
    "\n",
    "with open('sample.csv', 'w') as file:\n",
    "    writer=csv.writer(file)\n",
    "    \n",
    "    writer.writerows(nums)\n",
    "    \n",
    "with open('sample.csv') as file:\n",
    "    print(file.read())"
   ]
  },
  {
   "cell_type": "code",
   "execution_count": 3,
   "metadata": {},
   "outputs": [
    {
     "name": "stdout",
     "output_type": "stream",
     "text": [
      "FirstName+LastName\n",
      "\n",
      "\n",
      "Sofia+Reyes\n",
      "\n",
      "\n",
      "Jerome+Jackson\n",
      "\n",
      "\n",
      "Jia+Zhong\n",
      "\n",
      "\n",
      "\n"
     ]
    }
   ],
   "source": [
    "import csv\n",
    "csv.register_dialect('plus',\n",
    "                     delimiter = '+',\n",
    "                     lineterminator = '\\n\\n\\r')\n",
    "\n",
    "names = [['FirstName','LastName'],['Sofia','Reyes'],['Jerome', 'Jackson'],['Jia', 'Zhong']]\n",
    "\n",
    "file = open('names_dialect.csv', 'w')\n",
    "\n",
    "with file:\n",
    "    file_writer = csv.writer(file, dialect ='plus')\n",
    "    \n",
    "    for row in names:\n",
    "        file_writer.writerow( row )\n",
    "        \n",
    "with open('names_dialect.csv') as file:\n",
    "    print(file.read())"
   ]
  },
  {
   "cell_type": "code",
   "execution_count": 83,
   "metadata": {},
   "outputs": [
    {
     "name": "stdout",
     "output_type": "stream",
     "text": [
      " Volume in drive C is OS\n",
      " Volume Serial Number is 5CD0-A0C2\n",
      "\n",
      " Directory of C:\\Users\\rpaleru\\Desktop\\Rajesh_Docs_Desktop\\Edu\\My-Git-Docs\\Python-learn\\docs\\jupyter_notebooks\\file_operations\n",
      "\n",
      "12/31/2020  04:12 PM    <DIR>          .\n",
      "12/31/2020  04:12 PM    <DIR>          ..\n",
      "12/30/2020  03:30 PM    <DIR>          .ipynb_checkpoints\n",
      "12/31/2020  04:12 PM            17,697 File_Ops.ipynb\n",
      "12/30/2020  07:02 PM                72 names_dialect.csv\n",
      "12/30/2020  06:51 PM                24 sample.csv\n",
      "12/30/2020  03:55 PM                41 sample.json\n",
      "12/30/2020  03:59 PM               100 sample.txt\n",
      "               5 File(s)         17,934 bytes\n",
      "               3 Dir(s)  282,208,681,984 bytes free\n"
     ]
    }
   ],
   "source": [
    "ls"
   ]
  },
  {
   "cell_type": "code",
   "execution_count": null,
   "metadata": {},
   "outputs": [],
   "source": []
  }
 ],
 "metadata": {
  "kernelspec": {
   "display_name": "Python 3",
   "language": "python",
   "name": "python3"
  },
  "language_info": {
   "codemirror_mode": {
    "name": "ipython",
    "version": 3
   },
   "file_extension": ".py",
   "mimetype": "text/x-python",
   "name": "python",
   "nbconvert_exporter": "python",
   "pygments_lexer": "ipython3",
   "version": "3.7.1"
  }
 },
 "nbformat": 4,
 "nbformat_minor": 2
}
