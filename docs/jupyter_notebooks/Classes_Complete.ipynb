{
 "cells": [
  {
   "cell_type": "code",
   "execution_count": 2,
   "metadata": {},
   "outputs": [
    {
     "name": "stdout",
     "output_type": "stream",
     "text": [
      "=============================Classes and Instances=============================\n"
     ]
    }
   ],
   "source": [
    "print(\"=============================Classes and Instances=============================\")"
   ]
  },
  {
   "cell_type": "code",
   "execution_count": 2,
   "metadata": {},
   "outputs": [],
   "source": [
    "class student:\n",
    "    pass"
   ]
  },
  {
   "cell_type": "code",
   "execution_count": 3,
   "metadata": {},
   "outputs": [
    {
     "data": {
      "text/plain": [
       "type"
      ]
     },
     "execution_count": 3,
     "metadata": {},
     "output_type": "execute_result"
    }
   ],
   "source": [
    "type(student)"
   ]
  },
  {
   "cell_type": "code",
   "execution_count": 6,
   "metadata": {},
   "outputs": [],
   "source": [
    "obj1=student()"
   ]
  },
  {
   "cell_type": "code",
   "execution_count": 7,
   "metadata": {},
   "outputs": [
    {
     "data": {
      "text/plain": [
       "__main__.student"
      ]
     },
     "execution_count": 7,
     "metadata": {},
     "output_type": "execute_result"
    }
   ],
   "source": [
    "type(obj1)"
   ]
  },
  {
   "cell_type": "code",
   "execution_count": 11,
   "metadata": {},
   "outputs": [
    {
     "data": {
      "text/plain": [
       "<__main__.student at 0x19871404438>"
      ]
     },
     "execution_count": 11,
     "metadata": {},
     "output_type": "execute_result"
    }
   ],
   "source": [
    "obj1"
   ]
  },
  {
   "cell_type": "code",
   "execution_count": 20,
   "metadata": {},
   "outputs": [
    {
     "name": "stdout",
     "output_type": "stream",
     "text": [
      "\"===========================================Class Initialization===============================\"\n"
     ]
    }
   ],
   "source": [
    "echo \"===========================================Class Initialization===============================\""
   ]
  },
  {
   "cell_type": "code",
   "execution_count": 15,
   "metadata": {},
   "outputs": [],
   "source": [
    "class student:\n",
    "    def __init__(self):\n",
    "        print(\"Initialization called\")"
   ]
  },
  {
   "cell_type": "code",
   "execution_count": 16,
   "metadata": {},
   "outputs": [
    {
     "name": "stdout",
     "output_type": "stream",
     "text": [
      "Initialization called\n"
     ]
    }
   ],
   "source": [
    "obj1=student()"
   ]
  },
  {
   "cell_type": "code",
   "execution_count": 2,
   "metadata": {},
   "outputs": [],
   "source": [
    "class student:\n",
    "    def __init__(boo): #anything can be used here. it's not mandatory to use 'self' here.\n",
    "        print(\"Initialization called\")"
   ]
  },
  {
   "cell_type": "code",
   "execution_count": 3,
   "metadata": {},
   "outputs": [
    {
     "name": "stdout",
     "output_type": "stream",
     "text": [
      "Initialization called\n"
     ]
    }
   ],
   "source": [
    "obj1=student()"
   ]
  },
  {
   "cell_type": "code",
   "execution_count": 4,
   "metadata": {},
   "outputs": [],
   "source": [
    "class Student:\n",
    "    def __init__(self, name):\n",
    "        self.name=name\n",
    "        self.mail=name+\"@xyz.com\""
   ]
  },
  {
   "cell_type": "code",
   "execution_count": 6,
   "metadata": {},
   "outputs": [],
   "source": [
    "obj1=Student('Rajesh')"
   ]
  },
  {
   "cell_type": "code",
   "execution_count": 21,
   "metadata": {},
   "outputs": [
    {
     "data": {
      "text/plain": [
       "<__main__.Student at 0x1f22b8a8ac8>"
      ]
     },
     "execution_count": 21,
     "metadata": {},
     "output_type": "execute_result"
    }
   ],
   "source": [
    "obj1"
   ]
  },
  {
   "cell_type": "code",
   "execution_count": 22,
   "metadata": {},
   "outputs": [
    {
     "data": {
      "text/plain": [
       "'Rajesh'"
      ]
     },
     "execution_count": 22,
     "metadata": {},
     "output_type": "execute_result"
    }
   ],
   "source": [
    "obj1.name\n"
   ]
  },
  {
   "cell_type": "code",
   "execution_count": 23,
   "metadata": {},
   "outputs": [
    {
     "data": {
      "text/plain": [
       "'Rajesh@xyz.com'"
      ]
     },
     "execution_count": 23,
     "metadata": {},
     "output_type": "execute_result"
    }
   ],
   "source": [
    "obj1.mail"
   ]
  },
  {
   "cell_type": "code",
   "execution_count": 4,
   "metadata": {},
   "outputs": [],
   "source": [
    "class Student:\n",
    "    def __init__(self, first, last):\n",
    "        self.first=first\n",
    "        self.last=last\n",
    "        self.mail=first+'.'+last+'@xyz.com'\n",
    "    def fullname(self):\n",
    "        return \"{} {}\".format(self.first, self.last)\n",
    "    def uppername(self):\n",
    "        self.first=self.first.upper()\n",
    "        self.last=self.last.upper()"
   ]
  },
  {
   "cell_type": "code",
   "execution_count": 5,
   "metadata": {},
   "outputs": [],
   "source": [
    "s1=Student('Rajesh', 'P')"
   ]
  },
  {
   "cell_type": "code",
   "execution_count": 6,
   "metadata": {},
   "outputs": [
    {
     "data": {
      "text/plain": [
       "<__main__.Student at 0x2503b1e7cf8>"
      ]
     },
     "execution_count": 6,
     "metadata": {},
     "output_type": "execute_result"
    }
   ],
   "source": [
    "s1"
   ]
  },
  {
   "cell_type": "code",
   "execution_count": 7,
   "metadata": {},
   "outputs": [
    {
     "data": {
      "text/plain": [
       "'Rajesh P'"
      ]
     },
     "execution_count": 7,
     "metadata": {},
     "output_type": "execute_result"
    }
   ],
   "source": [
    "s1.fullname()"
   ]
  },
  {
   "cell_type": "code",
   "execution_count": 8,
   "metadata": {},
   "outputs": [
    {
     "data": {
      "text/plain": [
       "'Rajesh.P@xyz.com'"
      ]
     },
     "execution_count": 8,
     "metadata": {},
     "output_type": "execute_result"
    }
   ],
   "source": [
    "s1.mail"
   ]
  },
  {
   "cell_type": "code",
   "execution_count": 9,
   "metadata": {},
   "outputs": [],
   "source": [
    "s1.uppername()"
   ]
  },
  {
   "cell_type": "code",
   "execution_count": 10,
   "metadata": {},
   "outputs": [
    {
     "data": {
      "text/plain": [
       "'RAJESH P'"
      ]
     },
     "execution_count": 10,
     "metadata": {},
     "output_type": "execute_result"
    }
   ],
   "source": [
    "s1.fullname()"
   ]
  },
  {
   "cell_type": "code",
   "execution_count": 11,
   "metadata": {},
   "outputs": [
    {
     "name": "stdout",
     "output_type": "stream",
     "text": [
      "\"===========================================Class Variables===============================\"\n"
     ]
    }
   ],
   "source": [
    "echo \"===========================================Class Variables===============================\""
   ]
  },
  {
   "cell_type": "code",
   "execution_count": 12,
   "metadata": {},
   "outputs": [],
   "source": [
    "class Competition:\n",
    "    raise_amount=1.04  #Class Variable\n",
    "    def __init__(self,name,amount):\n",
    "        self.name=name\n",
    "        self.amount=amount\n",
    "    def raise_price(self):\n",
    "        self.amount=self.amount*raise_amount"
   ]
  },
  {
   "cell_type": "code",
   "execution_count": 13,
   "metadata": {},
   "outputs": [],
   "source": [
    "debate=Competition('Debate',500)"
   ]
  },
  {
   "cell_type": "code",
   "execution_count": 14,
   "metadata": {},
   "outputs": [
    {
     "data": {
      "text/plain": [
       "('Debate', 500)"
      ]
     },
     "execution_count": 14,
     "metadata": {},
     "output_type": "execute_result"
    }
   ],
   "source": [
    "debate.name, debate.amount"
   ]
  },
  {
   "cell_type": "code",
   "execution_count": 20,
   "metadata": {},
   "outputs": [
    {
     "ename": "NameError",
     "evalue": "name 'raise_amount' is not defined",
     "output_type": "error",
     "traceback": [
      "\u001b[1;31m---------------------------------------------------------------------------\u001b[0m",
      "\u001b[1;31mNameError\u001b[0m                                 Traceback (most recent call last)",
      "\u001b[1;32m<ipython-input-20-94b3694361e4>\u001b[0m in \u001b[0;36m<module>\u001b[1;34m\u001b[0m\n\u001b[1;32m----> 1\u001b[1;33m \u001b[0mdebate\u001b[0m\u001b[1;33m.\u001b[0m\u001b[0mraise_price\u001b[0m\u001b[1;33m(\u001b[0m\u001b[1;33m)\u001b[0m\u001b[1;33m\u001b[0m\u001b[1;33m\u001b[0m\u001b[0m\n\u001b[0m",
      "\u001b[1;32m<ipython-input-16-7afc991942ed>\u001b[0m in \u001b[0;36mraise_price\u001b[1;34m(self)\u001b[0m\n\u001b[0;32m      5\u001b[0m         \u001b[0mself\u001b[0m\u001b[1;33m.\u001b[0m\u001b[0mamount\u001b[0m\u001b[1;33m=\u001b[0m\u001b[0mamount\u001b[0m\u001b[1;33m\u001b[0m\u001b[1;33m\u001b[0m\u001b[0m\n\u001b[0;32m      6\u001b[0m     \u001b[1;32mdef\u001b[0m \u001b[0mraise_price\u001b[0m\u001b[1;33m(\u001b[0m\u001b[0mself\u001b[0m\u001b[1;33m)\u001b[0m\u001b[1;33m:\u001b[0m\u001b[1;33m\u001b[0m\u001b[1;33m\u001b[0m\u001b[0m\n\u001b[1;32m----> 7\u001b[1;33m         \u001b[0mself\u001b[0m\u001b[1;33m.\u001b[0m\u001b[0mamount\u001b[0m\u001b[1;33m=\u001b[0m\u001b[0mself\u001b[0m\u001b[1;33m.\u001b[0m\u001b[0mamount\u001b[0m\u001b[1;33m*\u001b[0m\u001b[0mraise_amount\u001b[0m\u001b[1;33m\u001b[0m\u001b[1;33m\u001b[0m\u001b[0m\n\u001b[0m",
      "\u001b[1;31mNameError\u001b[0m: name 'raise_amount' is not defined"
     ]
    }
   ],
   "source": [
    "debate.raise_price()"
   ]
  },
  {
   "cell_type": "code",
   "execution_count": 21,
   "metadata": {},
   "outputs": [
    {
     "data": {
      "text/plain": [
       "1.04"
      ]
     },
     "execution_count": 21,
     "metadata": {},
     "output_type": "execute_result"
    }
   ],
   "source": [
    "debate.raise_amount"
   ]
  },
  {
   "cell_type": "code",
   "execution_count": 22,
   "metadata": {},
   "outputs": [
    {
     "data": {
      "text/plain": [
       "1.04"
      ]
     },
     "execution_count": 22,
     "metadata": {},
     "output_type": "execute_result"
    }
   ],
   "source": [
    "Competition.raise_amount"
   ]
  },
  {
   "cell_type": "code",
   "execution_count": 23,
   "metadata": {},
   "outputs": [
    {
     "ename": "AttributeError",
     "evalue": "type object 'Competition' has no attribute 'name'",
     "output_type": "error",
     "traceback": [
      "\u001b[1;31m---------------------------------------------------------------------------\u001b[0m",
      "\u001b[1;31mAttributeError\u001b[0m                            Traceback (most recent call last)",
      "\u001b[1;32m<ipython-input-23-c6511562cc2d>\u001b[0m in \u001b[0;36m<module>\u001b[1;34m\u001b[0m\n\u001b[1;32m----> 1\u001b[1;33m \u001b[0mCompetition\u001b[0m\u001b[1;33m.\u001b[0m\u001b[0mname\u001b[0m\u001b[1;33m\u001b[0m\u001b[1;33m\u001b[0m\u001b[0m\n\u001b[0m",
      "\u001b[1;31mAttributeError\u001b[0m: type object 'Competition' has no attribute 'name'"
     ]
    }
   ],
   "source": [
    "Competition.name"
   ]
  },
  {
   "cell_type": "code",
   "execution_count": 24,
   "metadata": {},
   "outputs": [
    {
     "ename": "AttributeError",
     "evalue": "type object 'Competition' has no attribute 'amount'",
     "output_type": "error",
     "traceback": [
      "\u001b[1;31m---------------------------------------------------------------------------\u001b[0m",
      "\u001b[1;31mAttributeError\u001b[0m                            Traceback (most recent call last)",
      "\u001b[1;32m<ipython-input-24-3fee7b1da974>\u001b[0m in \u001b[0;36m<module>\u001b[1;34m\u001b[0m\n\u001b[1;32m----> 1\u001b[1;33m \u001b[0mCompetition\u001b[0m\u001b[1;33m.\u001b[0m\u001b[0mamount\u001b[0m\u001b[1;33m\u001b[0m\u001b[1;33m\u001b[0m\u001b[0m\n\u001b[0m",
      "\u001b[1;31mAttributeError\u001b[0m: type object 'Competition' has no attribute 'amount'"
     ]
    }
   ],
   "source": [
    "Competition.amount"
   ]
  },
  {
   "cell_type": "code",
   "execution_count": 15,
   "metadata": {},
   "outputs": [],
   "source": [
    "class Competition:\n",
    "    raise_amount=1.04\n",
    "    def __init__(self,name,amount):\n",
    "        self.name=name\n",
    "        self.amount=amount\n",
    "    def raise_price(self):\n",
    "        self.amount=self.amount*Competition.raise_amount"
   ]
  },
  {
   "cell_type": "code",
   "execution_count": 16,
   "metadata": {},
   "outputs": [],
   "source": [
    "debate=Competition('Debate',500)"
   ]
  },
  {
   "cell_type": "code",
   "execution_count": 17,
   "metadata": {},
   "outputs": [
    {
     "data": {
      "text/plain": [
       "500"
      ]
     },
     "execution_count": 17,
     "metadata": {},
     "output_type": "execute_result"
    }
   ],
   "source": [
    "debate.amount"
   ]
  },
  {
   "cell_type": "code",
   "execution_count": 18,
   "metadata": {},
   "outputs": [
    {
     "data": {
      "text/plain": [
       "520.0"
      ]
     },
     "execution_count": 18,
     "metadata": {},
     "output_type": "execute_result"
    }
   ],
   "source": [
    "debate.raise_price()\n",
    "debate.amount"
   ]
  },
  {
   "cell_type": "code",
   "execution_count": 19,
   "metadata": {},
   "outputs": [
    {
     "data": {
      "text/plain": [
       "1.04"
      ]
     },
     "execution_count": 19,
     "metadata": {},
     "output_type": "execute_result"
    }
   ],
   "source": [
    "debate.raise_amount"
   ]
  },
  {
   "cell_type": "code",
   "execution_count": 30,
   "metadata": {},
   "outputs": [
    {
     "data": {
      "text/plain": [
       "1.04"
      ]
     },
     "execution_count": 30,
     "metadata": {},
     "output_type": "execute_result"
    }
   ],
   "source": [
    "Competition.raise_amount"
   ]
  },
  {
   "cell_type": "code",
   "execution_count": 31,
   "metadata": {},
   "outputs": [
    {
     "ename": "AttributeError",
     "evalue": "type object 'Competition' has no attribute 'name'",
     "output_type": "error",
     "traceback": [
      "\u001b[1;31m---------------------------------------------------------------------------\u001b[0m",
      "\u001b[1;31mAttributeError\u001b[0m                            Traceback (most recent call last)",
      "\u001b[1;32m<ipython-input-31-c6511562cc2d>\u001b[0m in \u001b[0;36m<module>\u001b[1;34m\u001b[0m\n\u001b[1;32m----> 1\u001b[1;33m \u001b[0mCompetition\u001b[0m\u001b[1;33m.\u001b[0m\u001b[0mname\u001b[0m\u001b[1;33m\u001b[0m\u001b[1;33m\u001b[0m\u001b[0m\n\u001b[0m",
      "\u001b[1;31mAttributeError\u001b[0m: type object 'Competition' has no attribute 'name'"
     ]
    }
   ],
   "source": [
    "Competition.name"
   ]
  },
  {
   "cell_type": "code",
   "execution_count": 33,
   "metadata": {},
   "outputs": [
    {
     "name": "stdout",
     "output_type": "stream",
     "text": [
      "\"===========================================Class Variables Share Memory===============================\"\n"
     ]
    }
   ],
   "source": [
    "echo \"===========================================Class Variables Share Memory===============================\""
   ]
  },
  {
   "cell_type": "code",
   "execution_count": 34,
   "metadata": {},
   "outputs": [],
   "source": [
    "class Competition:\n",
    "    participants = []\n",
    "    def __init__(self, name, prize):\n",
    "        self.name=name\n",
    "        self.prize=prize"
   ]
  },
  {
   "cell_type": "code",
   "execution_count": 35,
   "metadata": {},
   "outputs": [
    {
     "data": {
      "text/plain": [
       "[]"
      ]
     },
     "execution_count": 35,
     "metadata": {},
     "output_type": "execute_result"
    }
   ],
   "source": [
    "Competition.participants"
   ]
  },
  {
   "cell_type": "code",
   "execution_count": 36,
   "metadata": {},
   "outputs": [],
   "source": [
    "debate=Competition('Debate',4500)"
   ]
  },
  {
   "cell_type": "code",
   "execution_count": 37,
   "metadata": {},
   "outputs": [
    {
     "data": {
      "text/plain": [
       "[]"
      ]
     },
     "execution_count": 37,
     "metadata": {},
     "output_type": "execute_result"
    }
   ],
   "source": [
    "debate.participants"
   ]
  },
  {
   "cell_type": "code",
   "execution_count": 38,
   "metadata": {},
   "outputs": [
    {
     "data": {
      "text/plain": [
       "'Debate'"
      ]
     },
     "execution_count": 38,
     "metadata": {},
     "output_type": "execute_result"
    }
   ],
   "source": [
    "debate.name"
   ]
  },
  {
   "cell_type": "code",
   "execution_count": 39,
   "metadata": {},
   "outputs": [
    {
     "data": {
      "text/plain": [
       "4500"
      ]
     },
     "execution_count": 39,
     "metadata": {},
     "output_type": "execute_result"
    }
   ],
   "source": [
    "debate.prize"
   ]
  },
  {
   "cell_type": "code",
   "execution_count": 40,
   "metadata": {},
   "outputs": [],
   "source": [
    "debate.participants.append('Rajesh')"
   ]
  },
  {
   "cell_type": "code",
   "execution_count": 41,
   "metadata": {},
   "outputs": [
    {
     "data": {
      "text/plain": [
       "['Rajesh']"
      ]
     },
     "execution_count": 41,
     "metadata": {},
     "output_type": "execute_result"
    }
   ],
   "source": [
    "debate.participants"
   ]
  },
  {
   "cell_type": "code",
   "execution_count": 42,
   "metadata": {},
   "outputs": [],
   "source": [
    "essay=Competition('Essay',3500)"
   ]
  },
  {
   "cell_type": "code",
   "execution_count": 43,
   "metadata": {},
   "outputs": [
    {
     "data": {
      "text/plain": [
       "['Rajesh']"
      ]
     },
     "execution_count": 43,
     "metadata": {},
     "output_type": "execute_result"
    }
   ],
   "source": [
    "essay.participants"
   ]
  },
  {
   "cell_type": "code",
   "execution_count": 44,
   "metadata": {},
   "outputs": [],
   "source": [
    "essay.participants.append('Shiv')"
   ]
  },
  {
   "cell_type": "code",
   "execution_count": 45,
   "metadata": {},
   "outputs": [
    {
     "data": {
      "text/plain": [
       "['Rajesh', 'Shiv']"
      ]
     },
     "execution_count": 45,
     "metadata": {},
     "output_type": "execute_result"
    }
   ],
   "source": [
    "essay.participants"
   ]
  },
  {
   "cell_type": "code",
   "execution_count": 46,
   "metadata": {},
   "outputs": [
    {
     "data": {
      "text/plain": [
       "['Rajesh', 'Shiv']"
      ]
     },
     "execution_count": 46,
     "metadata": {},
     "output_type": "execute_result"
    }
   ],
   "source": [
    "debate.participants"
   ]
  },
  {
   "cell_type": "code",
   "execution_count": 47,
   "metadata": {},
   "outputs": [
    {
     "name": "stdout",
     "output_type": "stream",
     "text": [
      "\"===========================================Instance Variables Individual Memory===============================\"\n"
     ]
    }
   ],
   "source": [
    "echo \"===========================================Instance Variables Individual Memory===============================\""
   ]
  },
  {
   "cell_type": "code",
   "execution_count": 48,
   "metadata": {},
   "outputs": [],
   "source": [
    "class Competition:\n",
    "    def __init__(self, name, prize):\n",
    "        self.name=name\n",
    "        self.prize=prize\n",
    "        self.participants=[]"
   ]
  },
  {
   "cell_type": "code",
   "execution_count": 69,
   "metadata": {},
   "outputs": [
    {
     "ename": "AttributeError",
     "evalue": "type object 'Competition' has no attribute 'participants'",
     "output_type": "error",
     "traceback": [
      "\u001b[1;31m---------------------------------------------------------------------------\u001b[0m",
      "\u001b[1;31mAttributeError\u001b[0m                            Traceback (most recent call last)",
      "\u001b[1;32m<ipython-input-69-ea531b615844>\u001b[0m in \u001b[0;36m<module>\u001b[1;34m\u001b[0m\n\u001b[1;32m----> 1\u001b[1;33m \u001b[0mCompetition\u001b[0m\u001b[1;33m.\u001b[0m\u001b[0mparticipants\u001b[0m\u001b[1;33m\u001b[0m\u001b[1;33m\u001b[0m\u001b[0m\n\u001b[0m",
      "\u001b[1;31mAttributeError\u001b[0m: type object 'Competition' has no attribute 'participants'"
     ]
    }
   ],
   "source": [
    "Competition.participants"
   ]
  },
  {
   "cell_type": "code",
   "execution_count": 70,
   "metadata": {},
   "outputs": [],
   "source": [
    "debate=Competition('Debate',4500)"
   ]
  },
  {
   "cell_type": "code",
   "execution_count": 71,
   "metadata": {},
   "outputs": [
    {
     "data": {
      "text/plain": [
       "[]"
      ]
     },
     "execution_count": 71,
     "metadata": {},
     "output_type": "execute_result"
    }
   ],
   "source": [
    "debate.participants"
   ]
  },
  {
   "cell_type": "code",
   "execution_count": 72,
   "metadata": {},
   "outputs": [
    {
     "data": {
      "text/plain": [
       "'Debate'"
      ]
     },
     "execution_count": 72,
     "metadata": {},
     "output_type": "execute_result"
    }
   ],
   "source": [
    "debate.name"
   ]
  },
  {
   "cell_type": "code",
   "execution_count": 73,
   "metadata": {},
   "outputs": [
    {
     "data": {
      "text/plain": [
       "4500"
      ]
     },
     "execution_count": 73,
     "metadata": {},
     "output_type": "execute_result"
    }
   ],
   "source": [
    "debate.prize"
   ]
  },
  {
   "cell_type": "code",
   "execution_count": 74,
   "metadata": {},
   "outputs": [],
   "source": [
    "debate.participants.append('Rajesh')"
   ]
  },
  {
   "cell_type": "code",
   "execution_count": 75,
   "metadata": {},
   "outputs": [
    {
     "data": {
      "text/plain": [
       "['Rajesh']"
      ]
     },
     "execution_count": 75,
     "metadata": {},
     "output_type": "execute_result"
    }
   ],
   "source": [
    "debate.participants"
   ]
  },
  {
   "cell_type": "code",
   "execution_count": 76,
   "metadata": {},
   "outputs": [],
   "source": [
    "essay=Competition('Essay',3500)"
   ]
  },
  {
   "cell_type": "code",
   "execution_count": 77,
   "metadata": {},
   "outputs": [
    {
     "data": {
      "text/plain": [
       "[]"
      ]
     },
     "execution_count": 77,
     "metadata": {},
     "output_type": "execute_result"
    }
   ],
   "source": [
    "essay.participants"
   ]
  },
  {
   "cell_type": "code",
   "execution_count": 78,
   "metadata": {},
   "outputs": [],
   "source": [
    "essay.participants.append('Shiv')"
   ]
  },
  {
   "cell_type": "code",
   "execution_count": 79,
   "metadata": {},
   "outputs": [
    {
     "data": {
      "text/plain": [
       "['Shiv']"
      ]
     },
     "execution_count": 79,
     "metadata": {},
     "output_type": "execute_result"
    }
   ],
   "source": [
    "essay.participants"
   ]
  },
  {
   "cell_type": "code",
   "execution_count": 80,
   "metadata": {},
   "outputs": [
    {
     "data": {
      "text/plain": [
       "['Rajesh']"
      ]
     },
     "execution_count": 80,
     "metadata": {},
     "output_type": "execute_result"
    }
   ],
   "source": [
    "debate.participants"
   ]
  },
  {
   "cell_type": "code",
   "execution_count": 81,
   "metadata": {},
   "outputs": [
    {
     "name": "stdout",
     "output_type": "stream",
     "text": [
      "\"===========================================Getters and Setters===============================\"\n"
     ]
    }
   ],
   "source": [
    "echo \"===========================================Getters and Setters===============================\""
   ]
  },
  {
   "cell_type": "code",
   "execution_count": 20,
   "metadata": {},
   "outputs": [],
   "source": [
    "class Dog:\n",
    "    def __init__(self, name, breed):\n",
    "        self.name=name\n",
    "        self.breed=breed\n",
    "    def print_details(self):\n",
    "        print(f\"Name of the Dog is: {self.name}. Breed is: {self.breed}\")"
   ]
  },
  {
   "cell_type": "code",
   "execution_count": 21,
   "metadata": {},
   "outputs": [],
   "source": [
    "d1=Dog('Puppy', 'Breed A')"
   ]
  },
  {
   "cell_type": "code",
   "execution_count": 22,
   "metadata": {},
   "outputs": [
    {
     "name": "stdout",
     "output_type": "stream",
     "text": [
      "Name of the Dog is: Puppy. Breed is: Breed A\n"
     ]
    }
   ],
   "source": [
    "d1.print_details()"
   ]
  },
  {
   "cell_type": "code",
   "execution_count": 23,
   "metadata": {},
   "outputs": [
    {
     "name": "stdout",
     "output_type": "stream",
     "text": [
      "Name of the Dog is: Johnny. Breed is: Breed A\n"
     ]
    }
   ],
   "source": [
    "d1.name=\"Johnny\"\n",
    "d1.print_details()"
   ]
  },
  {
   "cell_type": "markdown",
   "metadata": {},
   "source": [
    " "
   ]
  },
  {
   "cell_type": "code",
   "execution_count": 24,
   "metadata": {},
   "outputs": [],
   "source": [
    "d1.breed=\"Breed B\""
   ]
  },
  {
   "cell_type": "code",
   "execution_count": 25,
   "metadata": {},
   "outputs": [
    {
     "name": "stdout",
     "output_type": "stream",
     "text": [
      "Name of the Dog is: Johnny. Breed is: Breed B\n"
     ]
    }
   ],
   "source": [
    "d1.print_details()"
   ]
  },
  {
   "cell_type": "code",
   "execution_count": 18,
   "metadata": {},
   "outputs": [
    {
     "data": {
      "text/plain": [
       "mappingproxy({'__module__': '__main__',\n",
       "              '__init__': <function __main__.Dog.__init__(self, name, breed)>,\n",
       "              'print_details': <function __main__.Dog.print_details(self)>,\n",
       "              '__dict__': <attribute '__dict__' of 'Dog' objects>,\n",
       "              '__weakref__': <attribute '__weakref__' of 'Dog' objects>,\n",
       "              '__doc__': None})"
      ]
     },
     "execution_count": 18,
     "metadata": {},
     "output_type": "execute_result"
    }
   ],
   "source": [
    "Dog.__dict__"
   ]
  },
  {
   "cell_type": "code",
   "execution_count": 19,
   "metadata": {},
   "outputs": [
    {
     "data": {
      "text/plain": [
       "<attribute '__dict__' of 'Dog' objects>"
      ]
     },
     "execution_count": 19,
     "metadata": {},
     "output_type": "execute_result"
    }
   ],
   "source": [
    "Dog.__dict__['__dict__']"
   ]
  },
  {
   "cell_type": "code",
   "execution_count": 20,
   "metadata": {},
   "outputs": [],
   "source": [
    "Dog.__dict__['__doc__']"
   ]
  },
  {
   "cell_type": "code",
   "execution_count": 21,
   "metadata": {},
   "outputs": [
    {
     "data": {
      "text/plain": [
       "{'name': 'Johnny', 'breed': 'Breed B'}"
      ]
     },
     "execution_count": 21,
     "metadata": {},
     "output_type": "execute_result"
    }
   ],
   "source": [
    "d1.__dict__"
   ]
  },
  {
   "cell_type": "code",
   "execution_count": 22,
   "metadata": {},
   "outputs": [],
   "source": [
    "class Dog:\n",
    "    def __init__(self, name, breed):\n",
    "        self.__name=name\n",
    "        self.__breed=breed\n",
    "    def print_details(self):\n",
    "        print(\"Name of the Dog is: {}. Breed is: {}\".format(self.__name, self.__breed))"
   ]
  },
  {
   "cell_type": "code",
   "execution_count": 23,
   "metadata": {},
   "outputs": [],
   "source": [
    "d1=Dog('Puppy', 'Breed A')"
   ]
  },
  {
   "cell_type": "code",
   "execution_count": 24,
   "metadata": {},
   "outputs": [
    {
     "name": "stdout",
     "output_type": "stream",
     "text": [
      "Name of the Dog is: Puppy. Breed is: Breed A\n"
     ]
    }
   ],
   "source": [
    "d1.print_details()"
   ]
  },
  {
   "cell_type": "code",
   "execution_count": 25,
   "metadata": {},
   "outputs": [
    {
     "data": {
      "text/plain": [
       "{'_Dog__name': 'Puppy', '_Dog__breed': 'Breed A'}"
      ]
     },
     "execution_count": 25,
     "metadata": {},
     "output_type": "execute_result"
    }
   ],
   "source": [
    "d1.__dict__"
   ]
  },
  {
   "cell_type": "code",
   "execution_count": 26,
   "metadata": {},
   "outputs": [],
   "source": [
    "d1.__name=\"Johnny\""
   ]
  },
  {
   "cell_type": "code",
   "execution_count": 27,
   "metadata": {},
   "outputs": [
    {
     "name": "stdout",
     "output_type": "stream",
     "text": [
      "Name of the Dog is: Puppy. Breed is: Breed A\n"
     ]
    }
   ],
   "source": [
    "d1.print_details()"
   ]
  },
  {
   "cell_type": "code",
   "execution_count": 28,
   "metadata": {},
   "outputs": [
    {
     "data": {
      "text/plain": [
       "{'_Dog__name': 'Puppy', '_Dog__breed': 'Breed A', '__name': 'Johnny'}"
      ]
     },
     "execution_count": 28,
     "metadata": {},
     "output_type": "execute_result"
    }
   ],
   "source": [
    "d1.__dict__"
   ]
  },
  {
   "cell_type": "code",
   "execution_count": 29,
   "metadata": {},
   "outputs": [
    {
     "data": {
      "text/plain": [
       "'Puppy'"
      ]
     },
     "execution_count": 29,
     "metadata": {},
     "output_type": "execute_result"
    }
   ],
   "source": [
    "d1._Dog__name"
   ]
  },
  {
   "cell_type": "code",
   "execution_count": 30,
   "metadata": {},
   "outputs": [],
   "source": [
    "d1._Dog__name=\"Rena\""
   ]
  },
  {
   "cell_type": "code",
   "execution_count": 31,
   "metadata": {},
   "outputs": [
    {
     "name": "stdout",
     "output_type": "stream",
     "text": [
      "Name of the Dog is: Rena. Breed is: Breed A\n"
     ]
    }
   ],
   "source": [
    "d1.print_details()"
   ]
  },
  {
   "cell_type": "code",
   "execution_count": 32,
   "metadata": {},
   "outputs": [
    {
     "data": {
      "text/plain": [
       "{'_Dog__name': 'Rena', '_Dog__breed': 'Breed A', '__name': 'Johnny'}"
      ]
     },
     "execution_count": 32,
     "metadata": {},
     "output_type": "execute_result"
    }
   ],
   "source": [
    "d1.__dict__"
   ]
  },
  {
   "cell_type": "code",
   "execution_count": 41,
   "metadata": {},
   "outputs": [],
   "source": [
    "class Dog:\n",
    "    def __init__(self, name, breed):\n",
    "        self.__name=name\n",
    "        self.__breed=breed\n",
    "    def get_name(self):\n",
    "        return self.__name\n",
    "    def get_breed(self):\n",
    "        return self.__breed\n",
    "    def change_name(self,name):\n",
    "        self.__name=name\n",
    "    def change_breed(self,breed):\n",
    "        self.__breed=breed\n",
    "    def print_details(self):\n",
    "        print(\"My name is: {}. My breed is: {}\".format(self.__name,self.__breed))"
   ]
  },
  {
   "cell_type": "code",
   "execution_count": 50,
   "metadata": {},
   "outputs": [],
   "source": [
    "d1=Dog('Oba', 'Puppy')"
   ]
  },
  {
   "cell_type": "code",
   "execution_count": 43,
   "metadata": {},
   "outputs": [
    {
     "name": "stdout",
     "output_type": "stream",
     "text": [
      "My name is: Oba. My breed is: Puppy\n"
     ]
    }
   ],
   "source": [
    "d1.print_details()"
   ]
  },
  {
   "cell_type": "code",
   "execution_count": 44,
   "metadata": {},
   "outputs": [
    {
     "data": {
      "text/plain": [
       "'Oba'"
      ]
     },
     "execution_count": 44,
     "metadata": {},
     "output_type": "execute_result"
    }
   ],
   "source": [
    "d1.get_name()"
   ]
  },
  {
   "cell_type": "code",
   "execution_count": 45,
   "metadata": {},
   "outputs": [
    {
     "data": {
      "text/plain": [
       "'Puppy'"
      ]
     },
     "execution_count": 45,
     "metadata": {},
     "output_type": "execute_result"
    }
   ],
   "source": [
    "d1.get_breed()"
   ]
  },
  {
   "cell_type": "code",
   "execution_count": 47,
   "metadata": {},
   "outputs": [],
   "source": [
    "d1.change_name('July')"
   ]
  },
  {
   "cell_type": "code",
   "execution_count": 48,
   "metadata": {},
   "outputs": [
    {
     "name": "stdout",
     "output_type": "stream",
     "text": [
      "My name is: July. My breed is: Puppy\n"
     ]
    }
   ],
   "source": [
    "d1.print_details()"
   ]
  },
  {
   "cell_type": "code",
   "execution_count": 59,
   "metadata": {},
   "outputs": [],
   "source": [
    "class Dog:\n",
    "    def __init__(self, name, breed):\n",
    "        self.__name=name\n",
    "        self.__breed=breed\n",
    "        self.__tricks=[]\n",
    "    def get_name(self):\n",
    "        return self.__name\n",
    "    def get_breed(self):\n",
    "        return self.__breed\n",
    "    def change_name(self,name):\n",
    "        self.__name=name\n",
    "    def change_breed(self,breed):\n",
    "        self.__breed=breed\n",
    "    def change_name_and_breed(self,name,breed):\n",
    "        self.change_name(name)\n",
    "        self.change_breed(breed)\n",
    "    def add_trick(self,trick):\n",
    "        self.__tricks.append(trick)\n",
    "    def print_details(self):\n",
    "        print(\"My name is: {}. My breed is: {}. I can do tricks: {}\".format(self.__name,self.__breed, self.__tricks))"
   ]
  },
  {
   "cell_type": "code",
   "execution_count": 60,
   "metadata": {},
   "outputs": [],
   "source": [
    "d1=Dog('Oba', 'Puppy')"
   ]
  },
  {
   "cell_type": "code",
   "execution_count": 61,
   "metadata": {},
   "outputs": [
    {
     "name": "stdout",
     "output_type": "stream",
     "text": [
      "My name is: Oba. My breed is: Puppy. I can do tricks: []\n"
     ]
    }
   ],
   "source": [
    "d1.print_details()"
   ]
  },
  {
   "cell_type": "code",
   "execution_count": 62,
   "metadata": {},
   "outputs": [],
   "source": [
    "d1.add_trick('jump')"
   ]
  },
  {
   "cell_type": "code",
   "execution_count": 63,
   "metadata": {},
   "outputs": [
    {
     "name": "stdout",
     "output_type": "stream",
     "text": [
      "My name is: Oba. My breed is: Puppy. I can do tricks: ['jump']\n"
     ]
    }
   ],
   "source": [
    "d1.print_details()"
   ]
  },
  {
   "cell_type": "code",
   "execution_count": 64,
   "metadata": {},
   "outputs": [
    {
     "name": "stdout",
     "output_type": "stream",
     "text": [
      "My name is: Johnny. My breed is: Breed A. I can do tricks: ['jump', 'run']\n"
     ]
    }
   ],
   "source": [
    "d1.change_name_and_breed('Johnny','Breed A')\n",
    "d1.add_trick('run')\n",
    "d1.print_details()"
   ]
  },
  {
   "cell_type": "code",
   "execution_count": 66,
   "metadata": {},
   "outputs": [
    {
     "name": "stdout",
     "output_type": "stream",
     "text": [
      "\"=================================Getters and Setters Example of Student Class=============================\"\n"
     ]
    }
   ],
   "source": [
    "echo \"=================================Getters and Setters Example of Student Class=============================\""
   ]
  },
  {
   "cell_type": "code",
   "execution_count": 86,
   "metadata": {},
   "outputs": [],
   "source": [
    "class Student:\n",
    "    def __init__(self, name, gpa):\n",
    "        self.__name=name\n",
    "        self.__gpa=gpa\n",
    "        self.__clubs=set()\n",
    "        self.__active=True\n",
    "    def change_name(self,name):\n",
    "        self.__name=name\n",
    "    def change_gpa(self,gpa):\n",
    "        self.__gpa=gpa\n",
    "    def add_club(self,club):\n",
    "        self.__clubs.add(club)\n",
    "    def remove_club(self,club):\n",
    "        self.__clubs.remove(club)\n",
    "    def change_active(self,status):\n",
    "        self.__active=status\n",
    "    def print_details(self):\n",
    "        print(\"===============================================\")\n",
    "        print(\"Name of the Student is: {}\".format(self.__name))\n",
    "        print(\"GPA: {}.\\nClubs Joined: {}.\\nIs student Active?: {}\".format(self.__gpa,self.__clubs,self.__active))\n",
    "        print(\"===============================================\")"
   ]
  },
  {
   "cell_type": "code",
   "execution_count": 74,
   "metadata": {},
   "outputs": [
    {
     "name": "stdout",
     "output_type": "stream",
     "text": [
      "Name of the Student is: Raj\n",
      "GPA: 9.9.\n",
      "Clubs Joined: set().\n",
      "Is student Active?: True\n"
     ]
    }
   ],
   "source": [
    "s1=Student('Raj',9.9)\n",
    "s1.print_details()"
   ]
  },
  {
   "cell_type": "code",
   "execution_count": 77,
   "metadata": {},
   "outputs": [
    {
     "name": "stdout",
     "output_type": "stream",
     "text": [
      "Name of the Student is: Raj\n",
      "GPA: 9.9.\n",
      "Clubs Joined: {'Yoga', 'Swimming', 'Cycling'}.\n",
      "Is student Active?: True\n"
     ]
    }
   ],
   "source": [
    "s1.add_club('Swimming')\n",
    "s1.add_club('Cycling')\n",
    "s1.add_club('Swimming')\n",
    "s1.add_club('Yoga')\n",
    "s1.print_details()"
   ]
  },
  {
   "cell_type": "code",
   "execution_count": 78,
   "metadata": {},
   "outputs": [
    {
     "name": "stdout",
     "output_type": "stream",
     "text": [
      "Name of the Student is: Raj\n",
      "GPA: 9.9.\n",
      "Clubs Joined: {'Swimming', 'Cycling'}.\n",
      "Is student Active?: True\n"
     ]
    }
   ],
   "source": [
    "s1.remove_club('Yoga')\n",
    "s1.print_details()"
   ]
  },
  {
   "cell_type": "code",
   "execution_count": 79,
   "metadata": {},
   "outputs": [],
   "source": [
    "student_details=[{\"name\":\"Shiv\",\"gpa\":8.9,\"club\":\"Chess\",\"active\":True},\n",
    "                 {\"name\":\"Keshav\",\"gpa\":7.9,\"club\":\"Volly ball\",\"active\":True},\n",
    "                 {\"name\":\"Ram\",\"gpa\":6.9,\"club\":\"Tennis\",\"active\":True},\n",
    "                 {\"name\":\"Venu\",\"gpa\":8.4,\"club\":\"Guitar\",\"active\":False}]"
   ]
  },
  {
   "cell_type": "code",
   "execution_count": 87,
   "metadata": {},
   "outputs": [],
   "source": [
    "def get_student_details(student_details):\n",
    "    for student in student_details:\n",
    "        if \"name\" in student and \"gpa\" in student:\n",
    "            s=Student(student[\"name\"],student[\"gpa\"])\n",
    "        \n",
    "        if \"club\" in student:\n",
    "            s.add_club(student[\"club\"])\n",
    "        if \"active\" in student:\n",
    "            s.change_active(student[\"active\"])\n",
    "        s.print_details()"
   ]
  },
  {
   "cell_type": "code",
   "execution_count": 89,
   "metadata": {},
   "outputs": [
    {
     "name": "stdout",
     "output_type": "stream",
     "text": [
      "===============================================\n",
      "Name of the Student is: Shiv\n",
      "GPA: 8.9.\n",
      "Clubs Joined: {'Chess'}.\n",
      "Is student Active?: True\n",
      "===============================================\n",
      "===============================================\n",
      "Name of the Student is: Keshav\n",
      "GPA: 7.9.\n",
      "Clubs Joined: {'Volly ball'}.\n",
      "Is student Active?: True\n",
      "===============================================\n",
      "===============================================\n",
      "Name of the Student is: Ram\n",
      "GPA: 6.9.\n",
      "Clubs Joined: {'Tennis'}.\n",
      "Is student Active?: True\n",
      "===============================================\n",
      "===============================================\n",
      "Name of the Student is: Venu\n",
      "GPA: 8.4.\n",
      "Clubs Joined: {'Guitar'}.\n",
      "Is student Active?: False\n",
      "===============================================\n"
     ]
    }
   ],
   "source": [
    "get_student_details(student_details)"
   ]
  },
  {
   "cell_type": "code",
   "execution_count": 9,
   "metadata": {},
   "outputs": [
    {
     "name": "stdout",
     "output_type": "stream",
     "text": [
      "=================================Python Classes & Inheritance: Working with Inheritance in Python=================================\n"
     ]
    }
   ],
   "source": [
    "print(\"=================================Python Classes & Inheritance: Working with Inheritance in Python=================================\")"
   ]
  },
  {
   "cell_type": "code",
   "execution_count": 12,
   "metadata": {},
   "outputs": [],
   "source": [
    "#All the below declaratsions are same for class.\n",
    "class Shape:\n",
    "    pass\n",
    "\n",
    "class Shape():\n",
    "    pass\n",
    "\n",
    "class Shape(object):\n",
    "    pass"
   ]
  },
  {
   "cell_type": "code",
   "execution_count": 2,
   "metadata": {},
   "outputs": [],
   "source": [
    "class Shape:\n",
    "    def __init__(self, shape_type, color = 'Red'):\n",
    "        self.__type = shape_type\n",
    "        self.__color = color\n",
    "    def get_type(self):\n",
    "        return self.__type\n",
    "    def get_color(self):\n",
    "        return self.__color    "
   ]
  },
  {
   "cell_type": "code",
   "execution_count": 20,
   "metadata": {},
   "outputs": [
    {
     "name": "stdout",
     "output_type": "stream",
     "text": [
      "Circle\n",
      "Red\n"
     ]
    }
   ],
   "source": [
    "circle = Shape('Circle')\n",
    "print(circle.get_type())\n",
    "print(circle.get_color())"
   ]
  },
  {
   "cell_type": "code",
   "execution_count": 21,
   "metadata": {},
   "outputs": [],
   "source": [
    "class Circle(Shape):  #Shape - Base/Parent class.     Circle - Sub/Derived/Child class.\n",
    "    pass"
   ]
  },
  {
   "cell_type": "code",
   "execution_count": 22,
   "metadata": {},
   "outputs": [
    {
     "ename": "TypeError",
     "evalue": "__init__() missing 1 required positional argument: 'shape_type'",
     "output_type": "error",
     "traceback": [
      "\u001b[1;31m---------------------------------------------------------------------------\u001b[0m",
      "\u001b[1;31mTypeError\u001b[0m                                 Traceback (most recent call last)",
      "\u001b[1;32m<ipython-input-22-44096b99874a>\u001b[0m in \u001b[0;36m<module>\u001b[1;34m\u001b[0m\n\u001b[1;32m----> 1\u001b[1;33m \u001b[0mcircle\u001b[0m \u001b[1;33m=\u001b[0m \u001b[0mCircle\u001b[0m\u001b[1;33m(\u001b[0m\u001b[1;33m)\u001b[0m\u001b[1;33m\u001b[0m\u001b[1;33m\u001b[0m\u001b[0m\n\u001b[0m",
      "\u001b[1;31mTypeError\u001b[0m: __init__() missing 1 required positional argument: 'shape_type'"
     ]
    }
   ],
   "source": [
    "circle = Circle()"
   ]
  },
  {
   "cell_type": "code",
   "execution_count": 23,
   "metadata": {},
   "outputs": [],
   "source": [
    "circle = Circle('circle')"
   ]
  },
  {
   "cell_type": "code",
   "execution_count": 31,
   "metadata": {},
   "outputs": [
    {
     "data": {
      "text/plain": [
       "('circle', 'Red')"
      ]
     },
     "execution_count": 31,
     "metadata": {},
     "output_type": "execute_result"
    }
   ],
   "source": [
    "circle.get_type(), circle.get_color()"
   ]
  },
  {
   "cell_type": "code",
   "execution_count": 27,
   "metadata": {},
   "outputs": [],
   "source": [
    "class Circle(Shape):\n",
    "    def __init__(self):\n",
    "        Shape.__init__(self, 'circle')"
   ]
  },
  {
   "cell_type": "code",
   "execution_count": 29,
   "metadata": {},
   "outputs": [],
   "source": [
    "circle = Circle()"
   ]
  },
  {
   "cell_type": "code",
   "execution_count": 30,
   "metadata": {},
   "outputs": [
    {
     "data": {
      "text/plain": [
       "('circle', 'Red')"
      ]
     },
     "execution_count": 30,
     "metadata": {},
     "output_type": "execute_result"
    }
   ],
   "source": [
    "circle.get_type(), circle.get_color()"
   ]
  },
  {
   "cell_type": "code",
   "execution_count": 35,
   "metadata": {},
   "outputs": [],
   "source": [
    "class Circle(Shape):\n",
    "    def __init__(self, color = 'Green'):\n",
    "        Shape.__init__(self, 'circle', color)"
   ]
  },
  {
   "cell_type": "code",
   "execution_count": 36,
   "metadata": {},
   "outputs": [],
   "source": [
    "circle = Circle()"
   ]
  },
  {
   "cell_type": "code",
   "execution_count": 37,
   "metadata": {},
   "outputs": [
    {
     "data": {
      "text/plain": [
       "('circle', 'Green')"
      ]
     },
     "execution_count": 37,
     "metadata": {},
     "output_type": "execute_result"
    }
   ],
   "source": [
    "circle.get_type(), circle.get_color()"
   ]
  },
  {
   "cell_type": "code",
   "execution_count": 38,
   "metadata": {},
   "outputs": [],
   "source": [
    "circle = Circle('Yellow')"
   ]
  },
  {
   "cell_type": "code",
   "execution_count": 39,
   "metadata": {},
   "outputs": [
    {
     "data": {
      "text/plain": [
       "('circle', 'Yellow')"
      ]
     },
     "execution_count": 39,
     "metadata": {},
     "output_type": "execute_result"
    }
   ],
   "source": [
    "circle.get_type(), circle.get_color()"
   ]
  },
  {
   "cell_type": "code",
   "execution_count": 3,
   "metadata": {},
   "outputs": [],
   "source": [
    "import math\n",
    "\n",
    "class Circle(Shape):\n",
    "    def __init__(self, radius):\n",
    "        Shape.__init__(self, 'circle')\n",
    "        \n",
    "        self.__radius = radius\n",
    "        \n",
    "    def get_area(self):\n",
    "        return math.pi * self.__radius * self.__radius\n",
    "    \n",
    "    def get_perimeter(self):\n",
    "        return 2 * math.pi * self.__radius\n"
   ]
  },
  {
   "cell_type": "code",
   "execution_count": 4,
   "metadata": {},
   "outputs": [
    {
     "data": {
      "text/plain": [
       "(314.1592653589793, 62.83185307179586)"
      ]
     },
     "execution_count": 4,
     "metadata": {},
     "output_type": "execute_result"
    }
   ],
   "source": [
    "circle = Circle(10)\n",
    "circle.get_area(), circle.get_perimeter()"
   ]
  },
  {
   "cell_type": "code",
   "execution_count": 33,
   "metadata": {},
   "outputs": [
    {
     "name": "stdout",
     "output_type": "stream",
     "text": [
      "In [33] used 0.0039 MiB RAM in 0.10s, peaked 0.00 MiB above current, total RAM usage 99.26 MiB\n"
     ]
    }
   ],
   "source": [
    "import math\n",
    "\n",
    "class Square(Shape):\n",
    "    def __init__(self, side):\n",
    "        Shape.__init__(self, 'square')\n",
    "        \n",
    "        self.__side = side\n",
    "        \n",
    "    def get_area(self):\n",
    "        return self.__side * self.__side\n",
    "    \n",
    "    def get_perimeter(self):\n",
    "        return 4 * self.__side"
   ]
  },
  {
   "cell_type": "code",
   "execution_count": 34,
   "metadata": {},
   "outputs": [
    {
     "data": {
      "text/plain": [
       "(49, 28)"
      ]
     },
     "execution_count": 34,
     "metadata": {},
     "output_type": "execute_result"
    },
    {
     "name": "stdout",
     "output_type": "stream",
     "text": [
      "In [34] used 0.0000 MiB RAM in 0.11s, peaked 0.00 MiB above current, total RAM usage 99.26 MiB\n"
     ]
    }
   ],
   "source": [
    "square = Square(7)\n",
    "square.get_area(), square.get_perimeter()"
   ]
  },
  {
   "cell_type": "code",
   "execution_count": 16,
   "metadata": {},
   "outputs": [
    {
     "name": "stdout",
     "output_type": "stream",
     "text": [
      "In [16] used -0.2461 MiB RAM in 0.11s, peaked 0.00 MiB above current, total RAM usage 99.26 MiB\n"
     ]
    }
   ],
   "source": [
    "import ipython_memory_usage.ipython_memory_usage as imu\n",
    "imu.start_watching_memory()"
   ]
  },
  {
   "cell_type": "code",
   "execution_count": 32,
   "metadata": {},
   "outputs": [
    {
     "name": "stdout",
     "output_type": "stream",
     "text": [
      "rajesh\n",
      "P\n",
      "In [32] used 0.0000 MiB RAM in 0.10s, peaked 0.00 MiB above current, total RAM usage 99.26 MiB\n"
     ]
    }
   ],
   "source": [
    "class A:\n",
    "    def __init__(self, name, identifier):\n",
    "        self.name = name\n",
    "        self.identifier = identifier\n",
    "    def get_name(self):\n",
    "        return self.name\n",
    "    def get_identifier(self):\n",
    "        return self.identifier\n",
    "a = A('rajesh', 'P')\n",
    "print(a.get_name())\n",
    "print(a.get_identifier())"
   ]
  },
  {
   "cell_type": "code",
   "execution_count": 27,
   "metadata": {},
   "outputs": [
    {
     "name": "stdout",
     "output_type": "stream",
     "text": [
      "rajesh\n",
      "P\n",
      "In [27] used 0.0000 MiB RAM in 0.11s, peaked 0.00 MiB above current, total RAM usage 99.26 MiB\n"
     ]
    }
   ],
   "source": [
    "class A:\n",
    "    __slots__ = ['__name', '__identifier']   #__slots__ is used to reduce the RAM usage.\n",
    "    def __init__(self, name, identifier):\n",
    "        self.__name = name\n",
    "        self.__identifier = identifier\n",
    "    def get_name(self):\n",
    "        return self.__name\n",
    "    def get_identifier(self):\n",
    "        return self.__identifier\n",
    "a = A('rajesh', 'P')\n",
    "print(a.get_name())\n",
    "print(a.get_identifier())"
   ]
  },
  {
   "cell_type": "code",
   "execution_count": 60,
   "metadata": {},
   "outputs": [
    {
     "name": "stdout",
     "output_type": "stream",
     "text": [
      "In [60] used 0.0000 MiB RAM in 0.10s, peaked 0.00 MiB above current, total RAM usage 104.80 MiB\n"
     ]
    }
   ],
   "source": [
    "class Competition:\n",
    "    __raise_amount = 1.10\n",
    "    \n",
    "    def __init__(self, name, prize):\n",
    "        self.__name = name\n",
    "        self.__prize = prize\n",
    "    \n",
    "    def get_name(self):\n",
    "        return self.__name\n",
    "    \n",
    "    def get_prize(self):\n",
    "        return self.__prize\n",
    "    \n",
    "    def raise_prize(self):\n",
    "        self.__prize = self.__prize * self.__raise_amount"
   ]
  },
  {
   "cell_type": "code",
   "execution_count": 61,
   "metadata": {},
   "outputs": [
    {
     "data": {
      "text/plain": [
       "('Chess', 1000, None, 1100.0)"
      ]
     },
     "execution_count": 61,
     "metadata": {},
     "output_type": "execute_result"
    },
    {
     "name": "stdout",
     "output_type": "stream",
     "text": [
      "In [61] used 0.0000 MiB RAM in 0.10s, peaked 0.00 MiB above current, total RAM usage 104.80 MiB\n"
     ]
    }
   ],
   "source": [
    "chess = Competition('Chess', 1000)\n",
    "chess.get_name(), chess.get_prize(), chess.raise_prize(), chess.get_prize()"
   ]
  },
  {
   "cell_type": "code",
   "execution_count": 62,
   "metadata": {},
   "outputs": [
    {
     "name": "stdout",
     "output_type": "stream",
     "text": [
      "In [62] used 0.0000 MiB RAM in 0.10s, peaked 0.00 MiB above current, total RAM usage 104.80 MiB\n"
     ]
    }
   ],
   "source": [
    "class Cycling(Competition):\n",
    "    def __init__(self, name, prize, country):\n",
    "        super().__init__(name, prize)\n",
    "        \n",
    "        self.__country = country\n",
    "        \n",
    "    def get_country(self):\n",
    "        return self.__country"
   ]
  },
  {
   "cell_type": "code",
   "execution_count": 65,
   "metadata": {},
   "outputs": [
    {
     "data": {
      "text/plain": [
       "('cycling', 1200, None, 1320.0, 'India')"
      ]
     },
     "execution_count": 65,
     "metadata": {},
     "output_type": "execute_result"
    },
    {
     "name": "stdout",
     "output_type": "stream",
     "text": [
      "In [65] used 0.0000 MiB RAM in 0.10s, peaked 0.00 MiB above current, total RAM usage 104.80 MiB\n"
     ]
    }
   ],
   "source": [
    "cycling = Cycling('cycling', 1200, 'India')\n",
    "cycling.get_name(), cycling.get_prize(), cycling.raise_prize(), cycling.get_prize(), cycling.get_country()"
   ]
  },
  {
   "cell_type": "code",
   "execution_count": 66,
   "metadata": {},
   "outputs": [
    {
     "data": {
      "text/plain": [
       "True"
      ]
     },
     "execution_count": 66,
     "metadata": {},
     "output_type": "execute_result"
    },
    {
     "name": "stdout",
     "output_type": "stream",
     "text": [
      "In [66] used 0.0000 MiB RAM in 0.10s, peaked 0.00 MiB above current, total RAM usage 104.80 MiB\n"
     ]
    }
   ],
   "source": [
    "issubclass(Cycling, Competition)"
   ]
  },
  {
   "cell_type": "code",
   "execution_count": 11,
   "metadata": {},
   "outputs": [
    {
     "name": "stdout",
     "output_type": "stream",
     "text": [
      "****************************************************************************************************\n",
      "*                                Multiple & Multi-Level Inheritance                                *\n",
      "****************************************************************************************************\n"
     ]
    }
   ],
   "source": [
    "print(\"*\"*100)\n",
    "print(\"*\",\" \"*30,\"Multiple & Multi-Level Inheritance\",\" \"*30,\"*\")\n",
    "print(\"*\"*100)"
   ]
  },
  {
   "cell_type": "code",
   "execution_count": 70,
   "metadata": {},
   "outputs": [
    {
     "name": "stdout",
     "output_type": "stream",
     "text": [
      "Help on class Child1 in module __main__:\n",
      "\n",
      "class Child1(Father, Mother)\n",
      " |  Method resolution order:\n",
      " |      Child1\n",
      " |      Father\n",
      " |      Mother\n",
      " |      builtins.object\n",
      " |  \n",
      " |  Data descriptors inherited from Father:\n",
      " |  \n",
      " |  __dict__\n",
      " |      dictionary for instance variables (if defined)\n",
      " |  \n",
      " |  __weakref__\n",
      " |      list of weak references to the object (if defined)\n",
      "\n",
      "Help on class Child2 in module __main__:\n",
      "\n",
      "class Child2(Mother, Father)\n",
      " |  Method resolution order:\n",
      " |      Child2\n",
      " |      Mother\n",
      " |      Father\n",
      " |      builtins.object\n",
      " |  \n",
      " |  Data descriptors inherited from Mother:\n",
      " |  \n",
      " |  __dict__\n",
      " |      dictionary for instance variables (if defined)\n",
      " |  \n",
      " |  __weakref__\n",
      " |      list of weak references to the object (if defined)\n",
      "\n",
      "In [70] used 0.0352 MiB RAM in 0.11s, peaked 0.00 MiB above current, total RAM usage 104.71 MiB\n"
     ]
    }
   ],
   "source": [
    "class Father:\n",
    "    pass\n",
    "\n",
    "class Mother:\n",
    "    pass\n",
    "\n",
    "class Child1(Father, Mother):\n",
    "    pass\n",
    "\n",
    "class Child2(Mother, Father):\n",
    "    pass\n",
    "\n",
    "help(Child1)\n",
    "help(Child2)"
   ]
  },
  {
   "cell_type": "code",
   "execution_count": 74,
   "metadata": {},
   "outputs": [
    {
     "name": "stdout",
     "output_type": "stream",
     "text": [
      "****************************************************************************************************\n",
      "Help on class Child in module __main__:\n",
      "\n",
      "class Child(Father, Mother)\n",
      " |  Method resolution order:\n",
      " |      Child\n",
      " |      Father\n",
      " |      Mother\n",
      " |      builtins.object\n",
      " |  \n",
      " |  Methods defined here:\n",
      " |  \n",
      " |  experiences(self)\n",
      " |  \n",
      " |  ----------------------------------------------------------------------\n",
      " |  Methods inherited from Father:\n",
      " |  \n",
      " |  height(self)\n",
      " |  \n",
      " |  ----------------------------------------------------------------------\n",
      " |  Data descriptors inherited from Father:\n",
      " |  \n",
      " |  __dict__\n",
      " |      dictionary for instance variables (if defined)\n",
      " |  \n",
      " |  __weakref__\n",
      " |      list of weak references to the object (if defined)\n",
      " |  \n",
      " |  ----------------------------------------------------------------------\n",
      " |  Methods inherited from Mother:\n",
      " |  \n",
      " |  intelligence(self)\n",
      "\n",
      "****************************************************************************************************\n",
      "I have inherited height from my Father.\n",
      "I have inherited intelligence from my Mother.\n",
      "All experiences are my own.\n",
      "In [74] used 0.0078 MiB RAM in 0.12s, peaked 0.00 MiB above current, total RAM usage 104.73 MiB\n"
     ]
    }
   ],
   "source": [
    "class Father:\n",
    "    def height(self):\n",
    "        print(\"I have inherited height from my Father.\")\n",
    "\n",
    "class Mother:\n",
    "    def intelligence(self):\n",
    "        print(\"I have inherited intelligence from my Mother.\")\n",
    "        \n",
    "class Child(Father, Mother): #Multiple Inheritance\n",
    "    def experiences(self):\n",
    "        print(\"All experiences are my own.\")\n",
    "\n",
    "print(\"*\"*100)\n",
    "help(Child)\n",
    "print(\"*\"*100)\n",
    "c = Child()\n",
    "c.height()\n",
    "c.intelligence()\n",
    "c.experiences()"
   ]
  },
  {
   "cell_type": "code",
   "execution_count": 79,
   "metadata": {},
   "outputs": [
    {
     "name": "stdout",
     "output_type": "stream",
     "text": [
      "Rajesh\n",
      "33\n",
      "10000000000\n"
     ]
    },
    {
     "data": {
      "text/plain": [
       "(None, None, None)"
      ]
     },
     "execution_count": 79,
     "metadata": {},
     "output_type": "execute_result"
    },
    {
     "name": "stdout",
     "output_type": "stream",
     "text": [
      "In [79] used 0.0000 MiB RAM in 0.11s, peaked 0.00 MiB above current, total RAM usage 104.82 MiB\n"
     ]
    }
   ],
   "source": [
    "class Employee:\n",
    "    def __init__(self, name, age):\n",
    "        self.__name = name\n",
    "        self.__age = age\n",
    "    def show_name(self):\n",
    "        print(self.__name)\n",
    "    def show_age(self):\n",
    "        print(self.__age)\n",
    "        \n",
    "class Salary:\n",
    "    def __init__(self, salary):\n",
    "        self.__salary = salary\n",
    "    def show_salary(self):\n",
    "        print(self.__salary)\n",
    "        \n",
    "class Database(Employee, Salary): #Multiple Inheritance\n",
    "    def __init__(self, name, age, salary):\n",
    "        Employee.__init__(self, name, age)\n",
    "        Salary.__init__(self, salary)\n",
    "        \n",
    "emp1 = Database('Rajesh', 33, 10000000000)\n",
    "emp1.show_name(), emp1.show_age(), emp1.show_salary()"
   ]
  },
  {
   "cell_type": "code",
   "execution_count": 81,
   "metadata": {},
   "outputs": [
    {
     "name": "stdout",
     "output_type": "stream",
     "text": [
      "****************************************************************************************************\n",
      "Help on class Child in module __main__:\n",
      "\n",
      "class Child(Parent)\n",
      " |  Method resolution order:\n",
      " |      Child\n",
      " |      Parent\n",
      " |      GrandParent\n",
      " |      builtins.object\n",
      " |  \n",
      " |  Methods defined here:\n",
      " |  \n",
      " |  experiences(self)\n",
      " |  \n",
      " |  ----------------------------------------------------------------------\n",
      " |  Methods inherited from Parent:\n",
      " |  \n",
      " |  intelligence(self)\n",
      " |  \n",
      " |  ----------------------------------------------------------------------\n",
      " |  Methods inherited from GrandParent:\n",
      " |  \n",
      " |  height(self)\n",
      " |  \n",
      " |  ----------------------------------------------------------------------\n",
      " |  Data descriptors inherited from GrandParent:\n",
      " |  \n",
      " |  __dict__\n",
      " |      dictionary for instance variables (if defined)\n",
      " |  \n",
      " |  __weakref__\n",
      " |      list of weak references to the object (if defined)\n",
      "\n",
      "****************************************************************************************************\n",
      "I have inherited my height from my GrandParent\n",
      "I have inherited intelligence from my Parent.\n",
      "All my experiences are my own.\n",
      "In [81] used 0.0000 MiB RAM in 0.13s, peaked 0.00 MiB above current, total RAM usage 104.82 MiB\n"
     ]
    }
   ],
   "source": [
    "class GrandParent:\n",
    "    def height(self):\n",
    "        print(\"I have inherited my height from my GrandParent\")\n",
    "        \n",
    "class Parent(GrandParent):\n",
    "    def intelligence(self):\n",
    "        print(\"I have inherited intelligence from my Parent.\")\n",
    "\n",
    "class Child(Parent):\n",
    "    def experiences(self):\n",
    "        print(\"All my experiences are my own.\")\n",
    "        \n",
    "print(\"*\"*100)\n",
    "help(Child)\n",
    "print(\"*\"*100)\n",
    "c = Child()\n",
    "c.height()\n",
    "c.intelligence()\n",
    "c.experiences()"
   ]
  },
  {
   "cell_type": "code",
   "execution_count": 5,
   "metadata": {},
   "outputs": [
    {
     "name": "stdout",
     "output_type": "stream",
     "text": [
      "****************************************************************************************************\n",
      "Help on class Child in module __main__:\n",
      "\n",
      "class Child(Parent)\n",
      " |  Child(city, lastname, firstname)\n",
      " |  \n",
      " |  Method resolution order:\n",
      " |      Child\n",
      " |      Parent\n",
      " |      GrandParent\n",
      " |      builtins.object\n",
      " |  \n",
      " |  Methods defined here:\n",
      " |  \n",
      " |  __init__(self, city, lastname, firstname)\n",
      " |      Initialize self.  See help(type(self)) for accurate signature.\n",
      " |  \n",
      " |  get_firstname(self)\n",
      " |  \n",
      " |  get_information(self)\n",
      " |  \n",
      " |  get_introduction(self)\n",
      " |  \n",
      " |  ----------------------------------------------------------------------\n",
      " |  Methods inherited from Parent:\n",
      " |  \n",
      " |  get_lastname(self)\n",
      " |  \n",
      " |  ----------------------------------------------------------------------\n",
      " |  Methods inherited from GrandParent:\n",
      " |  \n",
      " |  get_city(self)\n",
      " |  \n",
      " |  ----------------------------------------------------------------------\n",
      " |  Data descriptors inherited from GrandParent:\n",
      " |  \n",
      " |  __dict__\n",
      " |      dictionary for instance variables (if defined)\n",
      " |  \n",
      " |  __weakref__\n",
      " |      list of weak references to the object (if defined)\n",
      "\n",
      "****************************************************************************************************\n",
      "I am Rajesh P from Ongole\n",
      "I am Rajesh P from Ongole\n"
     ]
    }
   ],
   "source": [
    "class GrandParent:\n",
    "    def __init__(self, city):\n",
    "        self.__city = city\n",
    "    \n",
    "    def get_city(self):\n",
    "        return self.__city\n",
    "        \n",
    "class Parent(GrandParent):\n",
    "    def __init__(self, city, lastname):\n",
    "        GrandParent.__init__(self, city)\n",
    "        \n",
    "        self.__lastname = lastname\n",
    "        \n",
    "    def get_lastname(self):\n",
    "        return self.__lastname\n",
    "\n",
    "class Child(Parent):\n",
    "    def __init__(self, city, lastname, firstname):\n",
    "        Parent.__init__(self, city, lastname)\n",
    "        \n",
    "        self.__firstname = firstname\n",
    "        \n",
    "    def get_firstname(self):\n",
    "        return self.__firstname\n",
    "    \n",
    "    def get_introduction(self):\n",
    "        lastname = super().get_lastname()\n",
    "        city = super().get_city()\n",
    "        print(\"I am {} {} from {}\".format(self.__firstname,lastname,city))\n",
    "        \n",
    "    def get_information(self):\n",
    "        lastname = self.get_lastname()\n",
    "        city = self.get_city()\n",
    "        print(\"I am {} {} from {}\".format(self.__firstname,lastname,city))\n",
    "        \n",
    "print(\"*\"*100)\n",
    "help(Child)\n",
    "print(\"*\"*100)\n",
    "c = Child('Ongole', 'P', 'Rajesh')\n",
    "c.get_city(), c.get_lastname(), c.get_firstname()\n",
    "c.get_introduction()\n",
    "c.get_information()"
   ]
  },
  {
   "cell_type": "code",
   "execution_count": 13,
   "metadata": {},
   "outputs": [
    {
     "name": "stdout",
     "output_type": "stream",
     "text": [
      "****************************************************************************************************\n",
      "*                                          Polymorphism                                          *\n",
      "****************************************************************************************************\n"
     ]
    }
   ],
   "source": [
    "print(\"*\"*100)\n",
    "print(\"*\",\" \"*40,\"Polymorphism\",\" \"*40,\"*\")\n",
    "print(\"*\"*100)"
   ]
  },
  {
   "cell_type": "code",
   "execution_count": 20,
   "metadata": {},
   "outputs": [
    {
     "name": "stdout",
     "output_type": "stream",
     "text": [
      "They use auditory calls and visual cues.\n",
      "They use language to communicate.\n",
      "They use twenty-five distinct vocalizations to communicate.\n",
      "****************************************************************************************************\n",
      "They are knuckle-walkers, used to hang and swing from one tree to another\n",
      "They are bipeds.\n",
      "They are knuckle-walkers.\n"
     ]
    },
    {
     "data": {
      "text/plain": [
       "(None, None, None)"
      ]
     },
     "execution_count": 20,
     "metadata": {},
     "output_type": "execute_result"
    }
   ],
   "source": [
    "class Hominidae():\n",
    "    def communication(self):\n",
    "        print(\"They use auditory calls and visual cues.\")\n",
    "    \n",
    "    def walk(self):\n",
    "        print(\"They are knuckle-walkers, used to hang and swing from one tree to another\")\n",
    "        \n",
    "class Human(Hominidae):\n",
    "    def communication(self):\n",
    "        print(\"They use language to communicate.\")\n",
    "        \n",
    "    def walk(self):\n",
    "        print(\"They are bipeds.\")\n",
    "        \n",
    "class Gorrila(Hominidae):\n",
    "    def communication(self):\n",
    "        print(\"They use twenty-five distinct vocalizations to communicate.\")\n",
    "        \n",
    "    def walk(self):\n",
    "        print(\"They are knuckle-walkers.\")\n",
    "        \n",
    "hominidae_1 = Hominidae() \n",
    "human_1 = Human() \n",
    "gorrila_1 = Gorrila()\n",
    "\n",
    "hominidae_1.communication(), human_1.communication(), gorrila_1.communication()\n",
    "print(\"*\"*100)\n",
    "hominidae_1.walk(), human_1.walk(), gorrila_1.walk()"
   ]
  },
  {
   "cell_type": "code",
   "execution_count": 25,
   "metadata": {},
   "outputs": [
    {
     "name": "stdout",
     "output_type": "stream",
     "text": [
      "Amount deposited: 100\n",
      "Balance after depositing: 1600\n",
      "****************************************************************************************************\n",
      "Amount withdrawn: 300\n",
      "Balance after withdrawal: 1300\n",
      "****************************************************************************************************\n",
      "****************************************************************************************************\n",
      "Amount deposited: 100\n",
      "Balance after depositing: 2100\n",
      "****************************************************************************************************\n",
      "Please contact branch Manager.\n",
      "****************************************************************************************************\n",
      "Amount withdrawn: 300\n",
      "Balance after withdrawal: 1800\n",
      "****************************************************************************************************\n",
      "****************************************************************************************************\n",
      "Amount deposited: 105.0\n",
      "Balance after depositing: 1605.0\n",
      "****************************************************************************************************\n",
      "Amount withdrawn: 300\n",
      "Balance after withdrawal: 1305.0\n"
     ]
    }
   ],
   "source": [
    "class BankAccount:\n",
    "    def __init__(self, balance):\n",
    "        self.__balance = balance\n",
    "        \n",
    "    def deposit(self, value):\n",
    "        self.__balance = self.__balance + value\n",
    "        \n",
    "        print(\"Amount deposited: {}\".format(value))\n",
    "        print(\"Balance after depositing: {}\".format(self.__balance))\n",
    "        \n",
    "    def withdrawal(self, value):\n",
    "        self.__balance = self.__balance - value\n",
    "        \n",
    "        print(\"Amount withdrawn: {}\".format(value))\n",
    "        print(\"Balance after withdrawal: {}\".format(self.__balance))\n",
    "        \n",
    "\n",
    "class CurrentAccount(BankAccount):\n",
    "    def __init__(self, balance):\n",
    "        super().__init__(balance)\n",
    "        \n",
    "    def withdrawal(self, value):\n",
    "        if value>1000:\n",
    "            print(\"Please contact branch Manager.\")\n",
    "        else:\n",
    "            super().withdrawal(value)\n",
    "            \n",
    "\n",
    "class SavingsAccount(BankAccount):\n",
    "    def __init__(self, balance):\n",
    "        super().__init__(balance)\n",
    "        \n",
    "    def deposit(self, value):\n",
    "        value += 0.05 * value\n",
    "        \n",
    "        super().deposit(value)\n",
    "        \n",
    "        \n",
    "        \n",
    "acc1 = BankAccount(1500)\n",
    "acc1.deposit(100)\n",
    "print(\"*\"*100)\n",
    "acc1.withdrawal(300)\n",
    "print(\"*\"*100)\n",
    "print(\"*\"*100)\n",
    "acc2=CurrentAccount(2000)\n",
    "acc2.deposit(100)\n",
    "print(\"*\"*100)\n",
    "acc2.withdrawal(1200)\n",
    "print(\"*\"*100)\n",
    "acc2.withdrawal(300)\n",
    "print(\"*\"*100)\n",
    "print(\"*\"*100)\n",
    "acc3 = SavingsAccount(1500)\n",
    "acc3.deposit(100)\n",
    "print(\"*\"*100)\n",
    "acc3.withdrawal(300)"
   ]
  },
  {
   "cell_type": "code",
   "execution_count": 29,
   "metadata": {},
   "outputs": [
    {
     "name": "stdout",
     "output_type": "stream",
     "text": [
      "****************************************************************************************************\n",
      "*               Python Classes & Inheritance: Advanced Functionality Using Python Classes          *\n",
      "****************************************************************************************************\n"
     ]
    }
   ],
   "source": [
    "print(\"*\"*100)\n",
    "print(\"*               Python Classes & Inheritance: Advanced Functionality Using Python Classes          *\")\n",
    "print(\"*\"*100)"
   ]
  },
  {
   "cell_type": "code",
   "execution_count": 50,
   "metadata": {},
   "outputs": [
    {
     "name": "stdout",
     "output_type": "stream",
     "text": [
      "----------------------------------------------------------------------------------------------------\n",
      "*                  Usage of __repr__, __str__, __add__, __sub__, __mul__                        *\n",
      "----------------------------------------------------------------------------------------------------\n"
     ]
    }
   ],
   "source": [
    "print(\"-\"*100)\n",
    "print(\"*                  Usage of __repr__, __str__, __add__, __sub__, __mul__                        *\")\n",
    "print(\"-\"*100)"
   ]
  },
  {
   "cell_type": "code",
   "execution_count": 35,
   "metadata": {},
   "outputs": [],
   "source": [
    "class Competition:\n",
    "    def __init__(self, name, prize):\n",
    "        self.__name = name\n",
    "        self.__prize = prize\n",
    "cycling = Competition(\"cycling\", 1500)"
   ]
  },
  {
   "cell_type": "code",
   "execution_count": 36,
   "metadata": {},
   "outputs": [
    {
     "data": {
      "text/plain": [
       "<__main__.Competition at 0x1c79506ce48>"
      ]
     },
     "execution_count": 36,
     "metadata": {},
     "output_type": "execute_result"
    }
   ],
   "source": [
    "cycling"
   ]
  },
  {
   "cell_type": "code",
   "execution_count": 37,
   "metadata": {},
   "outputs": [
    {
     "name": "stdout",
     "output_type": "stream",
     "text": [
      "<__main__.Competition object at 0x000001C79506CE48>\n"
     ]
    }
   ],
   "source": [
    "print(cycling)  #Print will call __str__ by default"
   ]
  },
  {
   "cell_type": "code",
   "execution_count": 38,
   "metadata": {},
   "outputs": [],
   "source": [
    "class Competition:\n",
    "    def __init__(self, name, prize):\n",
    "        self.__name = name\n",
    "        self.__prize = prize\n",
    "        \n",
    "    def __repr__(self):\n",
    "        return \"__repr__ call: Competition Name is: {}, Prize is: {}\".format(self.__name, self.__prize)\n",
    "    \n",
    "    def __str__(self):\n",
    "        return \"__str__ call: Competition Name is: {}, Prize is: {}\".format(self.__name, self.__prize)\n",
    "\n",
    "\n",
    "archery = Competition(\"archery\", 2500)"
   ]
  },
  {
   "cell_type": "code",
   "execution_count": 39,
   "metadata": {},
   "outputs": [
    {
     "data": {
      "text/plain": [
       "__repr__ call: Competition Name is: archery, Prize is: 2500"
      ]
     },
     "execution_count": 39,
     "metadata": {},
     "output_type": "execute_result"
    }
   ],
   "source": [
    "archery"
   ]
  },
  {
   "cell_type": "code",
   "execution_count": 40,
   "metadata": {},
   "outputs": [
    {
     "name": "stdout",
     "output_type": "stream",
     "text": [
      "__str__ call: Competition Name is: archery, Prize is: 2500\n"
     ]
    }
   ],
   "source": [
    "print(archery)"
   ]
  },
  {
   "cell_type": "code",
   "execution_count": 42,
   "metadata": {},
   "outputs": [
    {
     "data": {
      "text/plain": [
       "'__repr__ call: Competition Name is: archery, Prize is: 2500'"
      ]
     },
     "execution_count": 42,
     "metadata": {},
     "output_type": "execute_result"
    }
   ],
   "source": [
    "archery.__repr__()"
   ]
  },
  {
   "cell_type": "code",
   "execution_count": 43,
   "metadata": {},
   "outputs": [
    {
     "data": {
      "text/plain": [
       "'__str__ call: Competition Name is: archery, Prize is: 2500'"
      ]
     },
     "execution_count": 43,
     "metadata": {},
     "output_type": "execute_result"
    }
   ],
   "source": [
    "str(archery)"
   ]
  },
  {
   "cell_type": "code",
   "execution_count": 44,
   "metadata": {},
   "outputs": [
    {
     "data": {
      "text/plain": [
       "'__repr__ call: Competition Name is: archery, Prize is: 2500'"
      ]
     },
     "execution_count": 44,
     "metadata": {},
     "output_type": "execute_result"
    }
   ],
   "source": [
    "repr(archery)"
   ]
  },
  {
   "cell_type": "code",
   "execution_count": 45,
   "metadata": {},
   "outputs": [
    {
     "name": "stdout",
     "output_type": "stream",
     "text": [
      "__str__ call: Competition Name is: archery, Prize is: 2500\n"
     ]
    }
   ],
   "source": [
    "print(str(archery))"
   ]
  },
  {
   "cell_type": "code",
   "execution_count": 46,
   "metadata": {},
   "outputs": [
    {
     "name": "stdout",
     "output_type": "stream",
     "text": [
      "__repr__ call: Competition Name is: archery, Prize is: 2500\n"
     ]
    }
   ],
   "source": [
    "print(repr(archery))"
   ]
  },
  {
   "cell_type": "code",
   "execution_count": 55,
   "metadata": {},
   "outputs": [
    {
     "ename": "TypeError",
     "evalue": "unsupported operand type(s) for +: 'Savings' and 'Savings'",
     "output_type": "error",
     "traceback": [
      "\u001b[1;31m---------------------------------------------------------------------------\u001b[0m",
      "\u001b[1;31mTypeError\u001b[0m                                 Traceback (most recent call last)",
      "\u001b[1;32m<ipython-input-55-15a935600102>\u001b[0m in \u001b[0;36m<module>\u001b[1;34m\u001b[0m\n\u001b[0;32m      5\u001b[0m \u001b[0ms1\u001b[0m \u001b[1;33m=\u001b[0m \u001b[0mSavings\u001b[0m\u001b[1;33m(\u001b[0m\u001b[1;36m1000\u001b[0m\u001b[1;33m)\u001b[0m\u001b[1;33m\u001b[0m\u001b[1;33m\u001b[0m\u001b[0m\n\u001b[0;32m      6\u001b[0m \u001b[0ms2\u001b[0m \u001b[1;33m=\u001b[0m \u001b[0mSavings\u001b[0m\u001b[1;33m(\u001b[0m\u001b[1;36m2500\u001b[0m\u001b[1;33m)\u001b[0m\u001b[1;33m\u001b[0m\u001b[1;33m\u001b[0m\u001b[0m\n\u001b[1;32m----> 7\u001b[1;33m \u001b[0mprint\u001b[0m\u001b[1;33m(\u001b[0m\u001b[0ms1\u001b[0m \u001b[1;33m+\u001b[0m \u001b[0ms2\u001b[0m\u001b[1;33m)\u001b[0m\u001b[1;33m,\u001b[0m \u001b[0mprint\u001b[0m\u001b[1;33m(\u001b[0m\u001b[0ms1\u001b[0m \u001b[1;33m-\u001b[0m \u001b[0ms2\u001b[0m\u001b[1;33m)\u001b[0m\u001b[1;33m\u001b[0m\u001b[1;33m\u001b[0m\u001b[0m\n\u001b[0m",
      "\u001b[1;31mTypeError\u001b[0m: unsupported operand type(s) for +: 'Savings' and 'Savings'"
     ]
    }
   ],
   "source": [
    "class Savings:\n",
    "    def __init__(self, amount):\n",
    "        self.__amount = amount\n",
    "        \n",
    "s1 = Savings(1000)\n",
    "s2 = Savings(2500)\n",
    "print(s1 + s2), print(s1 - s2)"
   ]
  },
  {
   "cell_type": "code",
   "execution_count": 59,
   "metadata": {},
   "outputs": [
    {
     "name": "stdout",
     "output_type": "stream",
     "text": [
      "3501.25\n",
      "-1500.25\n",
      "2502000.375\n"
     ]
    }
   ],
   "source": [
    "class Savings:\n",
    "    def __init__(self, amount):\n",
    "        self.__amount = amount\n",
    "        \n",
    "    def __add__(self, other_obj):\n",
    "        return self.__amount + other_obj.__amount\n",
    "    \n",
    "    def __sub__(self, other_obj):\n",
    "        return self.__amount - other_obj.__amount\n",
    "    \n",
    "    def __mul__(self, other_obj):\n",
    "        return self.__amount * other_obj.__amount\n",
    "        \n",
    "s1 = Savings(1000.50)\n",
    "s2 = Savings(2500.75)\n",
    "print(s1 + s2)  ##Equivalent to s1.__add__(s2)\n",
    "print(s1 - s2 )  ##Equivalent to s1.__sub__(s2)\n",
    "print(s1 * s2 )  ##Equivalent to s1.__mul__(s2)"
   ]
  },
  {
   "cell_type": "code",
   "execution_count": 60,
   "metadata": {},
   "outputs": [
    {
     "data": {
      "text/plain": [
       "3001.5"
      ]
     },
     "execution_count": 60,
     "metadata": {},
     "output_type": "execute_result"
    }
   ],
   "source": [
    "class Savings:\n",
    "    def __init__(self, amount):\n",
    "        self.__amount = amount\n",
    "            \n",
    "    def __mul__(self, other):\n",
    "        return self.__amount * other\n",
    "        \n",
    "s1 = Savings(1000.50)\n",
    "s1 * 3 ##Equivalent to s1.__mul__(3)"
   ]
  },
  {
   "cell_type": "code",
   "execution_count": 62,
   "metadata": {},
   "outputs": [
    {
     "ename": "TypeError",
     "evalue": "unsupported operand type(s) for *: 'int' and 'Savings'",
     "output_type": "error",
     "traceback": [
      "\u001b[1;31m---------------------------------------------------------------------------\u001b[0m",
      "\u001b[1;31mTypeError\u001b[0m                                 Traceback (most recent call last)",
      "\u001b[1;32m<ipython-input-62-648f3a390811>\u001b[0m in \u001b[0;36m<module>\u001b[1;34m\u001b[0m\n\u001b[1;32m----> 1\u001b[1;33m \u001b[1;36m3\u001b[0m \u001b[1;33m*\u001b[0m \u001b[0ms1\u001b[0m  \u001b[1;31m##Equivalent to 3.__mul__(s1)\u001b[0m\u001b[1;33m\u001b[0m\u001b[1;33m\u001b[0m\u001b[0m\n\u001b[0m",
      "\u001b[1;31mTypeError\u001b[0m: unsupported operand type(s) for *: 'int' and 'Savings'"
     ]
    }
   ],
   "source": [
    "3 * s1  ##Equivalent to 3.__mul__(s1)"
   ]
  },
  {
   "cell_type": "code",
   "execution_count": 68,
   "metadata": {},
   "outputs": [
    {
     "name": "stdout",
     "output_type": "stream",
     "text": [
      "9\n",
      "1\n",
      "10000000000000000000000\n"
     ]
    }
   ],
   "source": [
    "class SpecialMethods:\n",
    "    def __init__(self, number):\n",
    "        self.__number = number\n",
    "        \n",
    "    def __floordiv__(self, other_obj):\n",
    "        return self.__number // other_obj.__number\n",
    "    \n",
    "    def __mod__(self, other_obj):\n",
    "        return self.__number % other_obj.__number\n",
    "    \n",
    "    def __pow__(self, other_obj):\n",
    "        return self.__number ** other_obj.__number\n",
    "    \n",
    "s1 = SpecialMethods(100)\n",
    "s2 = SpecialMethods(11)\n",
    "\n",
    "print(s1 // s2)\n",
    "print(s1 % s2)\n",
    "print(s1 ** s2)"
   ]
  },
  {
   "cell_type": "code",
   "execution_count": 89,
   "metadata": {},
   "outputs": [],
   "source": [
    "class Participants:\n",
    "    def __init__(self):\n",
    "        self.__participants = []\n",
    "        self.__index = 0\n",
    "        \n",
    "    def add_participant(self, name):\n",
    "        self.__participants.append(name)        \n",
    "        \n",
    "    def __len__(self):\n",
    "        return len(self.__participants)\n",
    "    \n",
    "    def __iter__(self):\n",
    "        self.__index__ = 0\n",
    "        return self\n",
    "    \n",
    "    def __next__(self):\n",
    "        if self.__index == len(self.__participants):\n",
    "            raise StopIteration\n",
    "            \n",
    "        p = self.__participants[self.__index]\n",
    "        \n",
    "        self.__index += 1\n",
    "        return p\n",
    "        \n",
    "        \n",
    "p1 = Participants()\n",
    "p1.add_participant('Rajesh')\n",
    "p1.add_participant('Shiv')\n",
    "p1.add_participant('Harsha')\n",
    "p1.add_participant('Shanmukh')\n",
    "p1.add_participant('Karthik')\n"
   ]
  },
  {
   "cell_type": "code",
   "execution_count": 87,
   "metadata": {},
   "outputs": [
    {
     "name": "stdout",
     "output_type": "stream",
     "text": [
      "Rajesh\n",
      "Shiv\n",
      "Harsha\n",
      "Shanmukh\n",
      "Karthik\n"
     ]
    }
   ],
   "source": [
    "for p in p1:\n",
    "    print(p)"
   ]
  },
  {
   "cell_type": "code",
   "execution_count": 90,
   "metadata": {},
   "outputs": [
    {
     "data": {
      "text/plain": [
       "'Rajesh'"
      ]
     },
     "execution_count": 90,
     "metadata": {},
     "output_type": "execute_result"
    }
   ],
   "source": [
    "iter(p1)\n",
    "next(p1)"
   ]
  },
  {
   "cell_type": "code",
   "execution_count": 101,
   "metadata": {},
   "outputs": [
    {
     "name": "stdout",
     "output_type": "stream",
     "text": [
      "Defining properties on classes.\n"
     ]
    }
   ],
   "source": [
    "print(\"Defining properties on classes.\")"
   ]
  },
  {
   "cell_type": "code",
   "execution_count": 96,
   "metadata": {},
   "outputs": [],
   "source": [
    "class PropertyExample:\n",
    "    def __init__(self):\n",
    "        self.__name = ''\n",
    "        \n",
    "    def get_name(self):\n",
    "        print(\"Getter Called\")\n",
    "        return self.__name\n",
    "    \n",
    "    def set_name(self, name):\n",
    "        print(\"Setter Called\")\n",
    "        self.__name = name\n",
    "        \n",
    "    def del_name(self):\n",
    "        print(\"Deleter Called\")\n",
    "        del self.__name\n",
    "        \n",
    "    name = property(get_name, set_name, del_name) ##Syntax: variable = property(get_variable, set_variable, del_variable, doc)\n",
    "    \n",
    "p1 = PropertyExample()"
   ]
  },
  {
   "cell_type": "code",
   "execution_count": 97,
   "metadata": {},
   "outputs": [
    {
     "name": "stdout",
     "output_type": "stream",
     "text": [
      "Setter Called\n"
     ]
    }
   ],
   "source": [
    "p1.name = 'Rajesh'"
   ]
  },
  {
   "cell_type": "code",
   "execution_count": 98,
   "metadata": {},
   "outputs": [
    {
     "name": "stdout",
     "output_type": "stream",
     "text": [
      "Getter Called\n"
     ]
    },
    {
     "data": {
      "text/plain": [
       "'Rajesh'"
      ]
     },
     "execution_count": 98,
     "metadata": {},
     "output_type": "execute_result"
    }
   ],
   "source": [
    "p1.name"
   ]
  },
  {
   "cell_type": "code",
   "execution_count": 99,
   "metadata": {},
   "outputs": [
    {
     "name": "stdout",
     "output_type": "stream",
     "text": [
      "Deleter Called\n"
     ]
    }
   ],
   "source": [
    "del p1.name"
   ]
  },
  {
   "cell_type": "code",
   "execution_count": 100,
   "metadata": {},
   "outputs": [
    {
     "name": "stdout",
     "output_type": "stream",
     "text": [
      "Getter Called\n"
     ]
    },
    {
     "ename": "AttributeError",
     "evalue": "'PropertyExample' object has no attribute '_PropertyExample__name'",
     "output_type": "error",
     "traceback": [
      "\u001b[1;31m---------------------------------------------------------------------------\u001b[0m",
      "\u001b[1;31mAttributeError\u001b[0m                            Traceback (most recent call last)",
      "\u001b[1;32m<ipython-input-100-6ad9ba857207>\u001b[0m in \u001b[0;36m<module>\u001b[1;34m\u001b[0m\n\u001b[1;32m----> 1\u001b[1;33m \u001b[0mp1\u001b[0m\u001b[1;33m.\u001b[0m\u001b[0mname\u001b[0m\u001b[1;33m\u001b[0m\u001b[1;33m\u001b[0m\u001b[0m\n\u001b[0m",
      "\u001b[1;32m<ipython-input-96-4a20b9a17e47>\u001b[0m in \u001b[0;36mget_name\u001b[1;34m(self)\u001b[0m\n\u001b[0;32m      5\u001b[0m     \u001b[1;32mdef\u001b[0m \u001b[0mget_name\u001b[0m\u001b[1;33m(\u001b[0m\u001b[0mself\u001b[0m\u001b[1;33m)\u001b[0m\u001b[1;33m:\u001b[0m\u001b[1;33m\u001b[0m\u001b[1;33m\u001b[0m\u001b[0m\n\u001b[0;32m      6\u001b[0m         \u001b[0mprint\u001b[0m\u001b[1;33m(\u001b[0m\u001b[1;34m\"Getter Called\"\u001b[0m\u001b[1;33m)\u001b[0m\u001b[1;33m\u001b[0m\u001b[1;33m\u001b[0m\u001b[0m\n\u001b[1;32m----> 7\u001b[1;33m         \u001b[1;32mreturn\u001b[0m \u001b[0mself\u001b[0m\u001b[1;33m.\u001b[0m\u001b[0m__name\u001b[0m\u001b[1;33m\u001b[0m\u001b[1;33m\u001b[0m\u001b[0m\n\u001b[0m\u001b[0;32m      8\u001b[0m \u001b[1;33m\u001b[0m\u001b[0m\n\u001b[0;32m      9\u001b[0m     \u001b[1;32mdef\u001b[0m \u001b[0mset_name\u001b[0m\u001b[1;33m(\u001b[0m\u001b[0mself\u001b[0m\u001b[1;33m,\u001b[0m \u001b[0mname\u001b[0m\u001b[1;33m)\u001b[0m\u001b[1;33m:\u001b[0m\u001b[1;33m\u001b[0m\u001b[1;33m\u001b[0m\u001b[0m\n",
      "\u001b[1;31mAttributeError\u001b[0m: 'PropertyExample' object has no attribute '_PropertyExample__name'"
     ]
    }
   ],
   "source": [
    "p1.name"
   ]
  },
  {
   "cell_type": "code",
   "execution_count": 102,
   "metadata": {},
   "outputs": [
    {
     "name": "stdout",
     "output_type": "stream",
     "text": [
      "Defining properties on classes with the help of Decorators.\n"
     ]
    }
   ],
   "source": [
    "print(\"Defining properties on classes with the help of Decorators.\")"
   ]
  },
  {
   "cell_type": "code",
   "execution_count": 133,
   "metadata": {},
   "outputs": [],
   "source": [
    "class PropertyExample:\n",
    "    def __init__(self, name, age):\n",
    "        self.__name = name\n",
    "        self.__age = age\n",
    "        \n",
    "    @property\n",
    "    def name(self):\n",
    "        print(\"name Getter Called\")\n",
    "        return self.__name\n",
    "    \n",
    "    @name.setter\n",
    "    def name(self, name):\n",
    "        print(\"name Setter Called\")\n",
    "        self.__name = name\n",
    "        \n",
    "    @name.deleter\n",
    "    def name(self):\n",
    "        print(\"name Deleter Called\")\n",
    "        del self.__name\n",
    "        \n",
    "    @property\n",
    "    def age(self):\n",
    "        print(\"age Getter Called\")\n",
    "        return self.__age\n",
    "    \n",
    "    @age.setter\n",
    "    def age(self, age):\n",
    "        print(\"age Setter Called\")\n",
    "        self.__age = age\n",
    "        \n",
    "    @age.deleter\n",
    "    def age(self):\n",
    "        print(\"age Deleter Called\")\n",
    "        del self.__age\n",
    "        \n",
    "    \n",
    "p1 = PropertyExample('Rajesh', 34)"
   ]
  },
  {
   "cell_type": "code",
   "execution_count": 134,
   "metadata": {},
   "outputs": [
    {
     "name": "stdout",
     "output_type": "stream",
     "text": [
      "name Setter Called\n",
      "age Setter Called\n"
     ]
    }
   ],
   "source": [
    "p1.name = 'RajeshP'\n",
    "p1.age = 35"
   ]
  },
  {
   "cell_type": "code",
   "execution_count": 135,
   "metadata": {},
   "outputs": [
    {
     "name": "stdout",
     "output_type": "stream",
     "text": [
      "name Getter Called\n",
      "age Getter Called\n"
     ]
    },
    {
     "data": {
      "text/plain": [
       "('RajeshP', 35)"
      ]
     },
     "execution_count": 135,
     "metadata": {},
     "output_type": "execute_result"
    }
   ],
   "source": [
    "p1.name, p1.age"
   ]
  },
  {
   "cell_type": "code",
   "execution_count": 136,
   "metadata": {},
   "outputs": [
    {
     "name": "stdout",
     "output_type": "stream",
     "text": [
      "name Deleter Called\n",
      "age Deleter Called\n"
     ]
    }
   ],
   "source": [
    "del p1.name, p1.age"
   ]
  },
  {
   "cell_type": "code",
   "execution_count": 138,
   "metadata": {},
   "outputs": [
    {
     "name": "stdout",
     "output_type": "stream",
     "text": [
      "name Getter Called\n"
     ]
    },
    {
     "ename": "AttributeError",
     "evalue": "'PropertyExample' object has no attribute '_PropertyExample__name'",
     "output_type": "error",
     "traceback": [
      "\u001b[1;31m---------------------------------------------------------------------------\u001b[0m",
      "\u001b[1;31mAttributeError\u001b[0m                            Traceback (most recent call last)",
      "\u001b[1;32m<ipython-input-138-9d490a08f1d9>\u001b[0m in \u001b[0;36m<module>\u001b[1;34m\u001b[0m\n\u001b[1;32m----> 1\u001b[1;33m \u001b[0mp1\u001b[0m\u001b[1;33m.\u001b[0m\u001b[0mname\u001b[0m\u001b[1;33m,\u001b[0m \u001b[0mp1\u001b[0m\u001b[1;33m.\u001b[0m\u001b[0mage\u001b[0m\u001b[1;33m\u001b[0m\u001b[1;33m\u001b[0m\u001b[0m\n\u001b[0m",
      "\u001b[1;32m<ipython-input-133-af402edfb86a>\u001b[0m in \u001b[0;36mname\u001b[1;34m(self)\u001b[0m\n\u001b[0;32m      7\u001b[0m     \u001b[1;32mdef\u001b[0m \u001b[0mname\u001b[0m\u001b[1;33m(\u001b[0m\u001b[0mself\u001b[0m\u001b[1;33m)\u001b[0m\u001b[1;33m:\u001b[0m\u001b[1;33m\u001b[0m\u001b[1;33m\u001b[0m\u001b[0m\n\u001b[0;32m      8\u001b[0m         \u001b[0mprint\u001b[0m\u001b[1;33m(\u001b[0m\u001b[1;34m\"name Getter Called\"\u001b[0m\u001b[1;33m)\u001b[0m\u001b[1;33m\u001b[0m\u001b[1;33m\u001b[0m\u001b[0m\n\u001b[1;32m----> 9\u001b[1;33m         \u001b[1;32mreturn\u001b[0m \u001b[0mself\u001b[0m\u001b[1;33m.\u001b[0m\u001b[0m__name\u001b[0m\u001b[1;33m\u001b[0m\u001b[1;33m\u001b[0m\u001b[0m\n\u001b[0m\u001b[0;32m     10\u001b[0m \u001b[1;33m\u001b[0m\u001b[0m\n\u001b[0;32m     11\u001b[0m     \u001b[1;33m@\u001b[0m\u001b[0mname\u001b[0m\u001b[1;33m.\u001b[0m\u001b[0msetter\u001b[0m\u001b[1;33m\u001b[0m\u001b[1;33m\u001b[0m\u001b[0m\n",
      "\u001b[1;31mAttributeError\u001b[0m: 'PropertyExample' object has no attribute '_PropertyExample__name'"
     ]
    }
   ],
   "source": [
    "p1.name, p1.age"
   ]
  },
  {
   "cell_type": "code",
   "execution_count": 139,
   "metadata": {},
   "outputs": [
    {
     "name": "stdout",
     "output_type": "stream",
     "text": [
      "Class Methods\n"
     ]
    }
   ],
   "source": [
    "print(\"Class Methods\")"
   ]
  },
  {
   "cell_type": "code",
   "execution_count": 157,
   "metadata": {},
   "outputs": [
    {
     "name": "stdout",
     "output_type": "stream",
     "text": [
      "1.05 1.05\n",
      "2.01 2.01\n",
      "Name of the competition is: Sprint. Prize amount is: 1000\n",
      "Name of the competition is: Sprint. Prize amount is: 2009.9999999999998\n"
     ]
    }
   ],
   "source": [
    "class Competition:\n",
    "    __raise_amount = 1.05\n",
    "    \n",
    "    def __init__(self, name, prize):\n",
    "        self.__name = name\n",
    "        self.__prize = prize\n",
    "        \n",
    "    def raise_prize(self):\n",
    "        self.__prize = self.__prize * self.__raise_amount\n",
    "        \n",
    "    def print_details(self):\n",
    "        print(\"Name of the competition is: {}. Prize amount is: {}\".format(self.__name, self.__prize))\n",
    "    \n",
    "    @classmethod\n",
    "    def set_raise_amount(cls, amount):\n",
    "        cls.__raise_amount = amount\n",
    "        \n",
    "    @classmethod\n",
    "    def get_raise_amount(cls):\n",
    "        return cls.__raise_amount\n",
    "    \n",
    "    @classmethod\n",
    "    def from_Str(cls, some_str):\n",
    "        name, prize = some_str.split('-')\n",
    "        \n",
    "        return cls(name, int(prize))\n",
    "    \n",
    "sprint = Competition('Sprint', 1000)\n",
    "print(sprint.get_raise_amount(), Competition.get_raise_amount())\n",
    "sprint.set_raise_amount(2.01)\n",
    "print(sprint.get_raise_amount(), Competition.get_raise_amount())\n",
    "sprint.print_details()\n",
    "sprint.raise_prize()\n",
    "sprint.print_details()"
   ]
  },
  {
   "cell_type": "code",
   "execution_count": 158,
   "metadata": {},
   "outputs": [
    {
     "name": "stdout",
     "output_type": "stream",
     "text": [
      "2.01 2.01\n",
      "2.01 2.01\n",
      "Name of the competition is: Archery. Prize amount is: 8000\n",
      "Name of the competition is: Archery. Prize amount is: 16079.999999999998\n"
     ]
    }
   ],
   "source": [
    "archery = Competition.from_Str('Archery-8000')\n",
    "\n",
    "print(archery.get_raise_amount(), Competition.get_raise_amount())\n",
    "archery.set_raise_amount(2.01)\n",
    "print(archery.get_raise_amount(), Competition.get_raise_amount())\n",
    "archery.print_details()\n",
    "archery.raise_prize()\n",
    "archery.print_details()"
   ]
  },
  {
   "cell_type": "code",
   "execution_count": 160,
   "metadata": {},
   "outputs": [
    {
     "name": "stdout",
     "output_type": "stream",
     "text": [
      "Static Methods\n"
     ]
    }
   ],
   "source": [
    "print(\"Static Methods\")"
   ]
  },
  {
   "cell_type": "code",
   "execution_count": 162,
   "metadata": {},
   "outputs": [
    {
     "name": "stdout",
     "output_type": "stream",
     "text": [
      "Area of a rectangle is:  12\n"
     ]
    }
   ],
   "source": [
    "#Style 1\n",
    "class Rectangle:\n",
    "    def area(l, b):\n",
    "        return l*b\n",
    "    \n",
    "Rectangle.area = staticmethod(Rectangle.area)\n",
    "print(\"Area of a rectangle is: \",Rectangle.area(3,4))"
   ]
  },
  {
   "cell_type": "code",
   "execution_count": 163,
   "metadata": {},
   "outputs": [
    {
     "name": "stdout",
     "output_type": "stream",
     "text": [
      "Area of a rectangle is:  12\n"
     ]
    }
   ],
   "source": [
    "#Style 2\n",
    "class Rectangle:\n",
    "    @staticmethod\n",
    "    def area(l, b):\n",
    "        return l*b\n",
    "    \n",
    "print(\"Area of a rectangle is: \",Rectangle.area(3,4))"
   ]
  },
  {
   "cell_type": "code",
   "execution_count": 164,
   "metadata": {},
   "outputs": [
    {
     "name": "stdout",
     "output_type": "stream",
     "text": [
      "AbstractBaseClasses\n"
     ]
    }
   ],
   "source": [
    "print(\"AbstractBaseClasses\") #These can't be instantiated. Means, we can't create objects for these."
   ]
  },
  {
   "cell_type": "code",
   "execution_count": 165,
   "metadata": {},
   "outputs": [],
   "source": [
    "from abc import ABC, abstractmethod"
   ]
  },
  {
   "cell_type": "code",
   "execution_count": 167,
   "metadata": {},
   "outputs": [
    {
     "name": "stdout",
     "output_type": "stream",
     "text": [
      "They show complex behaviors\n"
     ]
    },
    {
     "data": {
      "text/plain": [
       "(None, None, None)"
      ]
     },
     "execution_count": 167,
     "metadata": {},
     "output_type": "execute_result"
    }
   ],
   "source": [
    "class Hominidae:\n",
    "    def walk(self):\n",
    "        pass\n",
    "    def diet(self):\n",
    "        pass\n",
    "    def behavior(self):\n",
    "        print(\"They show complex behaviors\")\n",
    "        \n",
    "human = Hominidae()\n",
    "human.walk(), human.diet(), human.behavior()"
   ]
  },
  {
   "cell_type": "code",
   "execution_count": 168,
   "metadata": {},
   "outputs": [
    {
     "name": "stdout",
     "output_type": "stream",
     "text": [
      "Above one is base class which doesn't has much implementation and no need to instantiate it. So, we use AbstractBaseClasses to restrict the instantiation.\n"
     ]
    }
   ],
   "source": [
    "print(\"Above one is base class which doesn't has much implementation and no need to instantiate it. So, we use AbstractBaseClasses to restrict the instantiation.\")"
   ]
  },
  {
   "cell_type": "code",
   "execution_count": 170,
   "metadata": {},
   "outputs": [
    {
     "ename": "TypeError",
     "evalue": "Can't instantiate abstract class Hominidae with abstract methods walk",
     "output_type": "error",
     "traceback": [
      "\u001b[1;31m---------------------------------------------------------------------------\u001b[0m",
      "\u001b[1;31mTypeError\u001b[0m                                 Traceback (most recent call last)",
      "\u001b[1;32m<ipython-input-170-1821ab40d1a6>\u001b[0m in \u001b[0;36m<module>\u001b[1;34m\u001b[0m\n\u001b[0;32m      8\u001b[0m         \u001b[0mprint\u001b[0m\u001b[1;33m(\u001b[0m\u001b[1;34m\"They show complex behaviors\"\u001b[0m\u001b[1;33m)\u001b[0m\u001b[1;33m\u001b[0m\u001b[1;33m\u001b[0m\u001b[0m\n\u001b[0;32m      9\u001b[0m \u001b[1;33m\u001b[0m\u001b[0m\n\u001b[1;32m---> 10\u001b[1;33m \u001b[0mhuman\u001b[0m \u001b[1;33m=\u001b[0m \u001b[0mHominidae\u001b[0m\u001b[1;33m(\u001b[0m\u001b[1;33m)\u001b[0m\u001b[1;33m\u001b[0m\u001b[1;33m\u001b[0m\u001b[0m\n\u001b[0m",
      "\u001b[1;31mTypeError\u001b[0m: Can't instantiate abstract class Hominidae with abstract methods walk"
     ]
    }
   ],
   "source": [
    "class Hominidae(ABC):\n",
    "    @abstractmethod\n",
    "    def walk(self):\n",
    "        pass\n",
    "    def diet(self):\n",
    "        pass\n",
    "    def behavior(self):\n",
    "        print(\"They show complex behaviors\")\n",
    "        \n",
    "human = Hominidae()\n"
   ]
  },
  {
   "cell_type": "code",
   "execution_count": 177,
   "metadata": {},
   "outputs": [
    {
     "ename": "TypeError",
     "evalue": "Can't instantiate abstract class Human with abstract methods walk",
     "output_type": "error",
     "traceback": [
      "\u001b[1;31m---------------------------------------------------------------------------\u001b[0m",
      "\u001b[1;31mTypeError\u001b[0m                                 Traceback (most recent call last)",
      "\u001b[1;32m<ipython-input-177-540edd368bf2>\u001b[0m in \u001b[0;36m<module>\u001b[1;34m\u001b[0m\n\u001b[0;32m     14\u001b[0m         \u001b[0mprint\u001b[0m\u001b[1;33m(\u001b[0m\u001b[1;34m\"They show complex behaviors\"\u001b[0m\u001b[1;33m)\u001b[0m\u001b[1;33m\u001b[0m\u001b[1;33m\u001b[0m\u001b[0m\n\u001b[0;32m     15\u001b[0m \u001b[1;33m\u001b[0m\u001b[0m\n\u001b[1;32m---> 16\u001b[1;33m \u001b[0mhuman\u001b[0m \u001b[1;33m=\u001b[0m \u001b[0mHuman\u001b[0m\u001b[1;33m(\u001b[0m\u001b[1;33m)\u001b[0m\u001b[1;33m\u001b[0m\u001b[1;33m\u001b[0m\u001b[0m\n\u001b[0m\u001b[0;32m     17\u001b[0m \u001b[0mhuman\u001b[0m\u001b[1;33m.\u001b[0m\u001b[0mwalk\u001b[0m\u001b[1;33m(\u001b[0m\u001b[1;33m)\u001b[0m\u001b[1;33m,\u001b[0m \u001b[0mhuman\u001b[0m\u001b[1;33m.\u001b[0m\u001b[0mdiet\u001b[0m\u001b[1;33m(\u001b[0m\u001b[1;33m)\u001b[0m\u001b[1;33m,\u001b[0m \u001b[0mhuman\u001b[0m\u001b[1;33m.\u001b[0m\u001b[0mbehavior\u001b[0m\u001b[1;33m(\u001b[0m\u001b[1;33m)\u001b[0m\u001b[1;33m\u001b[0m\u001b[1;33m\u001b[0m\u001b[0m\n",
      "\u001b[1;31mTypeError\u001b[0m: Can't instantiate abstract class Human with abstract methods walk"
     ]
    }
   ],
   "source": [
    "class Hominidae(ABC):\n",
    "    @abstractmethod\n",
    "    def walk(self):\n",
    "        pass\n",
    "    def diet(self):\n",
    "        pass\n",
    "    def behavior(self):\n",
    "        print(\"They show complex behaviors\")\n",
    "\n",
    "class Human(Hominidae):\n",
    "    def walk(self):\n",
    "        print(\"Use legs\")\n",
    "    def diet(self):\n",
    "        print(\"Eat all types of food.\")\n",
    "    def behavior(self):\n",
    "        print(\"They show complex behaviors\")\n",
    "\n",
    "human = Human()\n",
    "human.walk(), human.diet(), human.behavior()"
   ]
  },
  {
   "cell_type": "code",
   "execution_count": 179,
   "metadata": {},
   "outputs": [
    {
     "ename": "TypeError",
     "evalue": "Can't instantiate abstract class Human with abstract methods diet",
     "output_type": "error",
     "traceback": [
      "\u001b[1;31m---------------------------------------------------------------------------\u001b[0m",
      "\u001b[1;31mTypeError\u001b[0m                                 Traceback (most recent call last)",
      "\u001b[1;32m<ipython-input-179-03b850108a7b>\u001b[0m in \u001b[0;36m<module>\u001b[1;34m\u001b[0m\n\u001b[0;32m     15\u001b[0m         \u001b[0mprint\u001b[0m\u001b[1;33m(\u001b[0m\u001b[1;34m\"They show complex behaviors\"\u001b[0m\u001b[1;33m)\u001b[0m\u001b[1;33m\u001b[0m\u001b[1;33m\u001b[0m\u001b[0m\n\u001b[0;32m     16\u001b[0m \u001b[1;33m\u001b[0m\u001b[0m\n\u001b[1;32m---> 17\u001b[1;33m \u001b[0mhuman\u001b[0m \u001b[1;33m=\u001b[0m \u001b[0mHuman\u001b[0m\u001b[1;33m(\u001b[0m\u001b[1;33m)\u001b[0m\u001b[1;33m\u001b[0m\u001b[1;33m\u001b[0m\u001b[0m\n\u001b[0m\u001b[0;32m     18\u001b[0m \u001b[0mhuman\u001b[0m\u001b[1;33m.\u001b[0m\u001b[0mwalk\u001b[0m\u001b[1;33m(\u001b[0m\u001b[1;33m)\u001b[0m\u001b[1;33m,\u001b[0m \u001b[0mhuman\u001b[0m\u001b[1;33m.\u001b[0m\u001b[0mdiet\u001b[0m\u001b[1;33m(\u001b[0m\u001b[1;33m)\u001b[0m\u001b[1;33m,\u001b[0m \u001b[0mhuman\u001b[0m\u001b[1;33m.\u001b[0m\u001b[0mbehavior\u001b[0m\u001b[1;33m(\u001b[0m\u001b[1;33m)\u001b[0m\u001b[1;33m\u001b[0m\u001b[1;33m\u001b[0m\u001b[0m\n",
      "\u001b[1;31mTypeError\u001b[0m: Can't instantiate abstract class Human with abstract methods diet"
     ]
    }
   ],
   "source": [
    "class Hominidae(ABC):\n",
    "    @abstractmethod\n",
    "    def walk(self):\n",
    "        pass\n",
    "    @abstractmethod\n",
    "    def diet(self):\n",
    "        pass\n",
    "    def behavior(self):\n",
    "        print(\"They show complex behaviors\")\n",
    "\n",
    "class Human(Hominidae):\n",
    "    def walk(self):\n",
    "        print(\"Use legs\")\n",
    "    def behavior(self):\n",
    "        print(\"They show complex behaviors\")\n",
    "\n",
    "human = Human()\n",
    "human.walk(), human.diet(), human.behavior()"
   ]
  },
  {
   "cell_type": "code",
   "execution_count": 181,
   "metadata": {},
   "outputs": [
    {
     "ename": "TypeError",
     "evalue": "Can't instantiate abstract class Human with abstract methods walk",
     "output_type": "error",
     "traceback": [
      "\u001b[1;31m---------------------------------------------------------------------------\u001b[0m",
      "\u001b[1;31mTypeError\u001b[0m                                 Traceback (most recent call last)",
      "\u001b[1;32m<ipython-input-181-7d553129a62b>\u001b[0m in \u001b[0;36m<module>\u001b[1;34m\u001b[0m\n\u001b[0;32m     17\u001b[0m         \u001b[0mprint\u001b[0m\u001b[1;33m(\u001b[0m\u001b[1;34m\"They show complex behaviors\"\u001b[0m\u001b[1;33m)\u001b[0m\u001b[1;33m\u001b[0m\u001b[1;33m\u001b[0m\u001b[0m\n\u001b[0;32m     18\u001b[0m \u001b[1;33m\u001b[0m\u001b[0m\n\u001b[1;32m---> 19\u001b[1;33m \u001b[0mhuman\u001b[0m \u001b[1;33m=\u001b[0m \u001b[0mHuman\u001b[0m\u001b[1;33m(\u001b[0m\u001b[1;33m)\u001b[0m\u001b[1;33m\u001b[0m\u001b[1;33m\u001b[0m\u001b[0m\n\u001b[0m\u001b[0;32m     20\u001b[0m \u001b[0mhuman\u001b[0m\u001b[1;33m.\u001b[0m\u001b[0mwalk\u001b[0m\u001b[1;33m(\u001b[0m\u001b[1;33m)\u001b[0m\u001b[1;33m,\u001b[0m \u001b[0mhuman\u001b[0m\u001b[1;33m.\u001b[0m\u001b[0mdiet\u001b[0m\u001b[1;33m(\u001b[0m\u001b[1;33m)\u001b[0m\u001b[1;33m,\u001b[0m \u001b[0mhuman\u001b[0m\u001b[1;33m.\u001b[0m\u001b[0mbehavior\u001b[0m\u001b[1;33m(\u001b[0m\u001b[1;33m)\u001b[0m\u001b[1;33m\u001b[0m\u001b[1;33m\u001b[0m\u001b[0m\n",
      "\u001b[1;31mTypeError\u001b[0m: Can't instantiate abstract class Human with abstract methods walk"
     ]
    }
   ],
   "source": [
    "class Hominidae(ABC):\n",
    "    @abstractmethod\n",
    "    def walk(self):\n",
    "        pass\n",
    "    @abstractmethod\n",
    "    def diet(self):\n",
    "        pass\n",
    "    @abstractmethod\n",
    "    def behavior(self):\n",
    "        print(\"They show complex behaviors\")\n",
    "\n",
    "class Human(Hominidae):\n",
    "    \n",
    "    def diet(self):\n",
    "        print(\"Eat all types of food.\")\n",
    "    def behavior(self):\n",
    "        print(\"They show complex behaviors\")\n",
    "\n",
    "human = Human()\n",
    "human.walk(), human.diet(), human.behavior()"
   ]
  },
  {
   "cell_type": "code",
   "execution_count": null,
   "metadata": {},
   "outputs": [],
   "source": []
  }
 ],
 "metadata": {
  "kernelspec": {
   "display_name": "Python 3",
   "language": "python",
   "name": "python3"
  },
  "language_info": {
   "codemirror_mode": {
    "name": "ipython",
    "version": 3
   },
   "file_extension": ".py",
   "mimetype": "text/x-python",
   "name": "python",
   "nbconvert_exporter": "python",
   "pygments_lexer": "ipython3",
   "version": "3.7.1"
  }
 },
 "nbformat": 4,
 "nbformat_minor": 2
}
