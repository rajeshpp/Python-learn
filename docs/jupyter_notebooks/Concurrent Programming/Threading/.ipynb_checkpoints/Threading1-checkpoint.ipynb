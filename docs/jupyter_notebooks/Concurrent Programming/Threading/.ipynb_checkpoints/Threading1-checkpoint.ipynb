{
 "cells": [
  {
   "cell_type": "markdown",
   "metadata": {},
   "source": [
    "### Before learning about Threads we have to be familiar with multitasking. `Multitasking` is the process that refers to the ability of performing multiple tasks at the same time. There are two types of multitasking \n",
    "\n",
    "#### 1) Process based\n",
    "\n",
    "Multiple process running on the same system at the same time is called process based multitasking.\n",
    "`e.g:`If we surf the internet, play a song and upload a file at the same time than that is a process based multitasking\n",
    "\n",
    "#### 2) Thread based\n",
    "\n",
    "Thread based multitaskig refferes to a single task which is having multiple task in it, the smallest unit of thread based multi tasking is a `thread`.\n",
    "`e.g:` While surfing the net there are task inside it which is also happening simultaneously like sending request to the server, getting the response, opening a new tab etc. In this case the small sub tasks inside it are threads and it is a thread based multitasking.\n",
    "\n",
    "\n",
    "https://www.edureka.co/blog/what-is-mutithreading/#multitasking"
   ]
  },
  {
   "cell_type": "markdown",
   "metadata": {},
   "source": [
    "### Creating threads using the `threading` module"
   ]
  },
  {
   "cell_type": "markdown",
   "metadata": {},
   "source": [
    "#### import threading"
   ]
  },
  {
   "cell_type": "code",
   "execution_count": 3,
   "metadata": {},
   "outputs": [],
   "source": [
    "import threading"
   ]
  },
  {
   "cell_type": "markdown",
   "metadata": {},
   "source": [
    "#### The following are some function from the `threading` module, we have not created any thread yet, let us see how this functions will behave"
   ]
  },
  {
   "cell_type": "markdown",
   "metadata": {},
   "source": [
    "#### `active_count` returns the total number of active threads \n",
    "https://docs.python.org/3/library/threading.html#threading.active_count\n",
    "\n",
    "#### `current_thread()` returns the name of the current running thread\n",
    "https://docs.python.org/3/library/threading.html#threading.current_thread\n",
    "\n",
    "#### `enumerate()` returns  a list of all Thread objects currently alive. The list includes daemonic threads, dummy thread objects created by current_thread(), and the main thread. `Daemon thread` is a type of thread that does not block the main thread from exiting and continues to run in the background\n",
    "https://docs.python.org/3/library/threading.html#threading.enumerate"
   ]
  },
  {
   "cell_type": "code",
   "execution_count": 17,
   "metadata": {
    "collapsed": true
   },
   "outputs": [],
   "source": [
    "from pprint import pprint\n",
    "\n",
    "def new_func():\n",
    "    \n",
    "    pprint(threading.active_count())\n",
    "    print()\n",
    "    pprint(threading.enumerate())\n",
    "    print()\n",
    "    pprint(threading.current_thread())"
   ]
  },
  {
   "cell_type": "code",
   "execution_count": 18,
   "metadata": {},
   "outputs": [
    {
     "name": "stdout",
     "output_type": "stream",
     "text": [
      "5\n",
      "\n",
      "[<_MainThread(MainThread, started 4591109568)>,\n",
      " <Thread(Thread-2, started daemon 123145487736832)>,\n",
      " <Heartbeat(Thread-3, started daemon 123145492992000)>,\n",
      " <HistorySavingThread(IPythonHistorySavingThread, started 123145499320320)>,\n",
      " <ParentPollerUnix(Thread-1, started daemon 123145504575488)>]\n",
      "\n",
      "<_MainThread(MainThread, started 4591109568)>\n"
     ]
    }
   ],
   "source": [
    "new_func()"
   ]
  },
  {
   "cell_type": "markdown",
   "metadata": {},
   "source": [
    "#### `Output`: \n",
    "1) 5 = Number of active threads \n",
    "\n",
    "2)  List of the 5 threads those are running, There is one main thread and rest of the all are running in the background\n",
    "\n",
    "3) the current_thread which is executing the function is the main thread"
   ]
  },
  {
   "cell_type": "markdown",
   "metadata": {},
   "source": [
    "### Why we are getting this kind of output when there is not a single thread that has been created?\n",
    "Every code that runs in python is a thread, there are codes running in the background of this notebook, which are also threads, we only create additional threads so that we can divide the code into multiple threads for faster response"
   ]
  },
  {
   "cell_type": "markdown",
   "metadata": {},
   "source": [
    "### Threads can be created using three ways\n",
    "a) Creating thread with a function <br>\n",
    "b) Creating thread by extending the thread class <br>\n",
    "c) Creating thread without extending the thread class <br>\n",
    "https://www.edureka.co/blog/what-is-mutithreading/"
   ]
  },
  {
   "cell_type": "markdown",
   "metadata": {},
   "source": [
    "### a) Creating threads with a function"
   ]
  },
  {
   "cell_type": "markdown",
   "metadata": {},
   "source": [
    "#### `start()` it starts the thread object\n",
    "https://docs.python.org/3/library/threading.html#threading.Thread.start"
   ]
  },
  {
   "cell_type": "code",
   "execution_count": 64,
   "metadata": {
    "collapsed": true
   },
   "outputs": [],
   "source": [
    "def func():\n",
    "    print(\"Hello from func! \\n\")\n",
    "        "
   ]
  },
  {
   "cell_type": "markdown",
   "metadata": {},
   "source": [
    "#### Create and start a Thread object"
   ]
  },
  {
   "cell_type": "code",
   "execution_count": 65,
   "metadata": {
    "collapsed": true
   },
   "outputs": [],
   "source": [
    "x = threading.Thread()\n",
    "\n",
    "x.start()"
   ]
  },
  {
   "cell_type": "markdown",
   "metadata": {},
   "source": [
    "#### `output`: But we did not get any output, to get proper output we have to specify `target` argument while initiating the thread object\n",
    "A thread must be tied to a target function"
   ]
  },
  {
   "cell_type": "code",
   "execution_count": 66,
   "metadata": {},
   "outputs": [
    {
     "name": "stdout",
     "output_type": "stream",
     "text": [
      "Hello from func! \n",
      "\n"
     ]
    }
   ],
   "source": [
    "x = threading.Thread(target = func)\n",
    "\n",
    "x.start()"
   ]
  },
  {
   "cell_type": "markdown",
   "metadata": {},
   "source": [
    "#### Let's call `active_count()`, `enumerate()` and `current_thread` function, as previously there are 5 active threads so we are expecting 6 active threads "
   ]
  },
  {
   "cell_type": "code",
   "execution_count": 67,
   "metadata": {
    "collapsed": true
   },
   "outputs": [],
   "source": [
    "import time"
   ]
  },
  {
   "cell_type": "code",
   "execution_count": 71,
   "metadata": {
    "collapsed": true
   },
   "outputs": [],
   "source": [
    "def sleeping_func():\n",
    "    time.sleep(2)\n",
    "    print(\"\\nHello from sleeping_func!\")"
   ]
  },
  {
   "cell_type": "code",
   "execution_count": 72,
   "metadata": {},
   "outputs": [
    {
     "name": "stdout",
     "output_type": "stream",
     "text": [
      "6\n",
      "\n",
      "[<_MainThread(MainThread, started 4591109568)>,\n",
      " <Thread(Thread-2, started daemon 123145487736832)>,\n",
      " <Heartbeat(Thread-3, started daemon 123145492992000)>,\n",
      " <HistorySavingThread(IPythonHistorySavingThread, started 123145499320320)>,\n",
      " <ParentPollerUnix(Thread-1, started daemon 123145504575488)>,\n",
      " <Thread(Thread-39, started 123145509830656)>]\n",
      "\n",
      "<_MainThread(MainThread, started 4591109568)>\n",
      "\n",
      "Hello from sleeping_func!\n"
     ]
    }
   ],
   "source": [
    "x = threading.Thread(target = sleeping_func)\n",
    "\n",
    "x.start()\n",
    "\n",
    "pprint(threading.active_count())\n",
    "print()\n",
    "pprint(threading.enumerate())\n",
    "print()\n",
    "pprint(threading.current_thread())"
   ]
  },
  {
   "cell_type": "markdown",
   "metadata": {},
   "source": [
    "#### `output:` We can see that the active threads are now 6"
   ]
  },
  {
   "cell_type": "markdown",
   "metadata": {},
   "source": [
    "### Name can be assigned to the newly created thread by using the argument `name`"
   ]
  },
  {
   "cell_type": "code",
   "execution_count": 74,
   "metadata": {},
   "outputs": [
    {
     "name": "stdout",
     "output_type": "stream",
     "text": [
      "6\n",
      "\n",
      "[<_MainThread(MainThread, started 4591109568)>,\n",
      " <Thread(Thread-2, started daemon 123145487736832)>,\n",
      " <Heartbeat(Thread-3, started daemon 123145492992000)>,\n",
      " <HistorySavingThread(IPythonHistorySavingThread, started 123145499320320)>,\n",
      " <ParentPollerUnix(Thread-1, started daemon 123145504575488)>,\n",
      " <Thread(brand_new_thread, started 123145509830656)>]\n",
      "\n",
      "<_MainThread(MainThread, started 4591109568)>\n",
      "\n",
      "Hello from sleeping_func!\n"
     ]
    }
   ],
   "source": [
    "x = threading.Thread(target = sleeping_func, \n",
    "                     name = 'brand_new_thread')  \n",
    "\n",
    "x.start()\n",
    "\n",
    "pprint(threading.active_count())\n",
    "print()\n",
    "pprint(threading.enumerate())\n",
    "print()\n",
    "pprint(threading.current_thread())"
   ]
  },
  {
   "cell_type": "markdown",
   "metadata": {},
   "source": [
    "#### `output:` The newly created `Thread-12` is renamed as `brand_new_thread` "
   ]
  },
  {
   "cell_type": "markdown",
   "metadata": {},
   "source": [
    "#### Every process has a main thread which always get executed, in the following cell the `print(\"Executing by Main thread..\")` will be executed by the main thread"
   ]
  },
  {
   "cell_type": "code",
   "execution_count": 93,
   "metadata": {},
   "outputs": [
    {
     "name": "stdout",
     "output_type": "stream",
     "text": [
      "\n",
      "This is the Main thread..\n",
      "\n",
      "Hello from sleeping_func!\n"
     ]
    }
   ],
   "source": [
    "x = threading.Thread(target = sleeping_func)\n",
    "\n",
    "x.start() \n",
    "\n",
    "print(\"\\nThis is the Main thread..\")  "
   ]
  },
  {
   "cell_type": "markdown",
   "metadata": {},
   "source": [
    "#### `Output`: From the output it can be noticed that before the complete execution of the `func` function by the child thread the main thread is executed, to avoid that on the object of the `thread()` class, `join()` method is called.\n",
    "\n"
   ]
  },
  {
   "cell_type": "markdown",
   "metadata": {},
   "source": [
    "### `Join( )`\n",
    "\n",
    "When join( ) method is called on the child thread, it lets the child method completes the execution of the target function before the main thread is called.\n",
    "https://docs.python.org/3/library/threading.html#threading.Thread.join"
   ]
  },
  {
   "cell_type": "code",
   "execution_count": 94,
   "metadata": {},
   "outputs": [
    {
     "name": "stdout",
     "output_type": "stream",
     "text": [
      "\n",
      "Hello from sleeping_func!\n",
      "\n",
      "This is the Main thread..\n"
     ]
    }
   ],
   "source": [
    "x = threading.Thread(target = sleeping_func)\n",
    "\n",
    "x.start()\n",
    "\n",
    "x.join()\n",
    "\n",
    "print(\"\\nThis is the Main thread..\") "
   ]
  },
  {
   "cell_type": "markdown",
   "metadata": {},
   "source": [
    "#### `Output`: In the output, it can be noticed that the child thread is executing the `func()` function first than the main thread is executing the `print(\"Executing by Main thread..\")`"
   ]
  },
  {
   "cell_type": "markdown",
   "metadata": {},
   "source": [
    "### Starting the same child thread will lead to a `Runtime error`\n",
    "https://docs.python.org/3/library/threading.html#threading.Thread.start"
   ]
  },
  {
   "cell_type": "code",
   "execution_count": 95,
   "metadata": {},
   "outputs": [
    {
     "ename": "RuntimeError",
     "evalue": "threads can only be started once",
     "output_type": "error",
     "traceback": [
      "\u001b[0;31m---------------------------------------------------------------------------\u001b[0m",
      "\u001b[0;31mRuntimeError\u001b[0m                              Traceback (most recent call last)",
      "\u001b[0;32m<ipython-input-95-c9041fc3dc21>\u001b[0m in \u001b[0;36m<module>\u001b[0;34m()\u001b[0m\n\u001b[1;32m      2\u001b[0m \u001b[0;34m\u001b[0m\u001b[0m\n\u001b[1;32m      3\u001b[0m \u001b[0mx\u001b[0m\u001b[0;34m.\u001b[0m\u001b[0mstart\u001b[0m\u001b[0;34m(\u001b[0m\u001b[0;34m)\u001b[0m\u001b[0;34m\u001b[0m\u001b[0;34m\u001b[0m\u001b[0m\n\u001b[0;32m----> 4\u001b[0;31m \u001b[0mx\u001b[0m\u001b[0;34m.\u001b[0m\u001b[0mstart\u001b[0m\u001b[0;34m(\u001b[0m\u001b[0;34m)\u001b[0m\u001b[0;34m\u001b[0m\u001b[0;34m\u001b[0m\u001b[0m\n\u001b[0m\u001b[1;32m      5\u001b[0m \u001b[0;34m\u001b[0m\u001b[0m\n\u001b[1;32m      6\u001b[0m \u001b[0mx\u001b[0m\u001b[0;34m.\u001b[0m\u001b[0mjoin\u001b[0m\u001b[0;34m(\u001b[0m\u001b[0;34m)\u001b[0m\u001b[0;34m\u001b[0m\u001b[0;34m\u001b[0m\u001b[0m\n",
      "\u001b[0;32m~/anaconda3/lib/python3.6/threading.py\u001b[0m in \u001b[0;36mstart\u001b[0;34m(self)\u001b[0m\n\u001b[1;32m    840\u001b[0m \u001b[0;34m\u001b[0m\u001b[0m\n\u001b[1;32m    841\u001b[0m         \u001b[0;32mif\u001b[0m \u001b[0mself\u001b[0m\u001b[0;34m.\u001b[0m\u001b[0m_started\u001b[0m\u001b[0;34m.\u001b[0m\u001b[0mis_set\u001b[0m\u001b[0;34m(\u001b[0m\u001b[0;34m)\u001b[0m\u001b[0;34m:\u001b[0m\u001b[0;34m\u001b[0m\u001b[0;34m\u001b[0m\u001b[0m\n\u001b[0;32m--> 842\u001b[0;31m             \u001b[0;32mraise\u001b[0m \u001b[0mRuntimeError\u001b[0m\u001b[0;34m(\u001b[0m\u001b[0;34m\"threads can only be started once\"\u001b[0m\u001b[0;34m)\u001b[0m\u001b[0;34m\u001b[0m\u001b[0;34m\u001b[0m\u001b[0m\n\u001b[0m\u001b[1;32m    843\u001b[0m         \u001b[0;32mwith\u001b[0m \u001b[0m_active_limbo_lock\u001b[0m\u001b[0;34m:\u001b[0m\u001b[0;34m\u001b[0m\u001b[0;34m\u001b[0m\u001b[0m\n\u001b[1;32m    844\u001b[0m             \u001b[0m_limbo\u001b[0m\u001b[0;34m[\u001b[0m\u001b[0mself\u001b[0m\u001b[0;34m]\u001b[0m \u001b[0;34m=\u001b[0m \u001b[0mself\u001b[0m\u001b[0;34m\u001b[0m\u001b[0;34m\u001b[0m\u001b[0m\n",
      "\u001b[0;31mRuntimeError\u001b[0m: threads can only be started once"
     ]
    },
    {
     "name": "stdout",
     "output_type": "stream",
     "text": [
      "\n",
      "Hello from sleeping_func!\n"
     ]
    }
   ],
   "source": [
    "x = threading.Thread(target = sleeping_func)\n",
    "\n",
    "x.start()\n",
    "x.start()\n",
    "\n",
    "x.join()\n",
    "\n",
    "print(\"Executing by Main thread..\") "
   ]
  },
  {
   "cell_type": "markdown",
   "metadata": {},
   "source": [
    "### To Check the name of the threads that are related for the execution of the codes or the tasks `current_thread().getName()` function is called"
   ]
  },
  {
   "cell_type": "code",
   "execution_count": 96,
   "metadata": {},
   "outputs": [
    {
     "name": "stdout",
     "output_type": "stream",
     "text": [
      "\n",
      "Hello from sleeping_func! My name is Thread-61\n",
      "\n",
      "This is the Main thread. My name is MainThread\n"
     ]
    }
   ],
   "source": [
    "def func():\n",
    "    time.sleep(2)\n",
    "    print(\"\\nHello from func! My name is\", threading.current_thread().getName())\n",
    "        \n",
    "x = threading.Thread(target = func)\n",
    "\n",
    "x.start() \n",
    "x.join()\n",
    "\n",
    "print(\"\\nThis is the Main thread. My name is\", threading.current_thread().getName()) "
   ]
  },
  {
   "cell_type": "markdown",
   "metadata": {},
   "source": [
    "#### `output`: Here it can be seen that the `func()` function is executed by child thread and the `print()` function at the last is executed by main thread"
   ]
  },
  {
   "cell_type": "markdown",
   "metadata": {},
   "source": [
    "### Till the `start()` method is called, the control over execution of the codes stays with the main thread"
   ]
  },
  {
   "cell_type": "code",
   "execution_count": 98,
   "metadata": {},
   "outputs": [
    {
     "name": "stdout",
     "output_type": "stream",
     "text": [
      "MainThread\n",
      "\n",
      "Hello from sleeping_func! My name is Thread-63\n",
      "\n",
      "This is the Main thread. My name is MainThread\n"
     ]
    }
   ],
   "source": [
    "x = threading.Thread(target = func)\n",
    "\n",
    "print(threading.current_thread().getName())\n",
    "\n",
    "x.start() \n",
    "x.join() \n",
    "\n",
    "print(\"\\nThis is the Main thread. My name is\", threading.current_thread().getName()) "
   ]
  },
  {
   "cell_type": "markdown",
   "metadata": {},
   "source": [
    "#### Giving the `args` argument , this argument tuple is for the target invocation. Defaults to ().\n",
    "There is only one element inside the tuple, so one comma is given for python to understand that it's a tuple "
   ]
  },
  {
   "cell_type": "code",
   "execution_count": 4,
   "metadata": {},
   "outputs": [
    {
     "name": "stdout",
     "output_type": "stream",
     "text": [
      "The number 1 squares to 1.\n",
      "The number 2 squares to 4.\n",
      "The number 3 squares to 9.\n",
      "The number 4 squares to 16.\n"
     ]
    }
   ],
   "source": [
    "def calc_square(n):\n",
    "    result = n * n\n",
    "   \n",
    "    print(f\"The number {n} squares to {result}.\")\n",
    "    \n",
    "square_list = []\n",
    "num_list = [1, 2, 3, 4]\n",
    "    \n",
    "for n in num_list:\n",
    "    \n",
    "    thread = threading.Thread(target=calc_square, args=(n, )) \n",
    "    square_list.append(thread)\n",
    "                                                                  \n",
    "    thread.start()\n",
    "    thread.join()"
   ]
  },
  {
   "cell_type": "markdown",
   "metadata": {},
   "source": [
    "### 2) Creating threads using the Thread class or By extending thread class\n",
    "When extending the Thread class, the child class can override only two methods i.e. the __init__() method and the run() method. No other method can be overridden other than these two methods."
   ]
  },
  {
   "cell_type": "markdown",
   "metadata": {},
   "source": [
    "#### A sub class  has been created by inherting the `Thread` class of the `threading` module, the `run()` method is overwritten, now object of the extended class has created and `start()` and `join()` method is invoked on that object"
   ]
  },
  {
   "cell_type": "code",
   "execution_count": 104,
   "metadata": {},
   "outputs": [
    {
     "name": "stdout",
     "output_type": "stream",
     "text": [
      "\n",
      "Hello from func! My name is Thread-72\n",
      "Control returned to MainThread\n"
     ]
    }
   ],
   "source": [
    "class DerivedThread(threading.Thread):\n",
    "    \n",
    "    def run(self):                   \n",
    "        time.sleep(2)\n",
    "        print(\"\\nHello from func! My name is\", threading.current_thread().getName())\n",
    "\n",
    "obj = DerivedThread()\n",
    "\n",
    "obj.start()\n",
    "obj.join()\n",
    "\n",
    "print(\"Control returned to\", threading.current_thread().getName())"
   ]
  },
  {
   "cell_type": "markdown",
   "metadata": {},
   "source": [
    "#### `output`: We can see that by calling the `start()` and `join()` method on the on the object the child thread executed the `run()` method before the main thread excutes the `print()` function"
   ]
  },
  {
   "cell_type": "markdown",
   "metadata": {},
   "source": [
    "### 3) Creating theads without extending Thread Class"
   ]
  },
  {
   "cell_type": "code",
   "execution_count": 109,
   "metadata": {},
   "outputs": [
    {
     "name": "stdout",
     "output_type": "stream",
     "text": [
      "Printing from child thread: 7\n",
      "Printing from child thread: 6\n",
      "Printing from child thread: 11\n",
      "Printing from child thread: Hello\n",
      "Printing from child thread: 5.2\n",
      "Printing from child thread: Rose\n",
      "Control returned to MainThread\n"
     ]
    }
   ],
   "source": [
    "class RegularClass:\n",
    "    \n",
    "    def print_list(self):\n",
    "        mixed_list = [7, 6, 11, 'Hello', 5.2 , 'Rose']\n",
    "        \n",
    "        for x in mixed_list:\n",
    "            print(\"Printing from child thread:\", x)\n",
    "            time.sleep(1)\n",
    "\n",
    "obj = RegularClass()\n",
    "\n",
    "x = threading.Thread(target = obj.print_list)\n",
    "\n",
    "x.start()\n",
    "x.join()\n",
    "\n",
    "print('Control returned to', threading.current_thread().getName())"
   ]
  },
  {
   "cell_type": "markdown",
   "metadata": {},
   "source": [
    "### Advantages of multithreading ( mainly It inceases the performance by reducing the response time )\n",
    "1) Enhanched performance time by decreasing the development time <br>\n",
    "2) Simplified and streamlined program coding <br>\n",
    "3) Simultaneous and prallel occurance of tasks <br>\n",
    "4) Better use of CPU resource "
   ]
  },
  {
   "cell_type": "markdown",
   "metadata": {},
   "source": [
    "### Comparision of  sequential execution of code vs. execution with multi threading"
   ]
  },
  {
   "cell_type": "code",
   "execution_count": 111,
   "metadata": {},
   "outputs": [
    {
     "name": "stdout",
     "output_type": "stream",
     "text": [
      "Hello\n",
      "Hello\n",
      "Hello\n",
      "Hello\n",
      "Hello\n",
      "Hello\n",
      "World\n",
      "World\n",
      "World\n",
      "World\n",
      "World\n",
      "World\n",
      "Total time: 12.042705774307251\n"
     ]
    }
   ],
   "source": [
    "def greetings_1():\n",
    "        for i in range(6):\n",
    "            print(\"Hello\")\n",
    "            time.sleep(1)\n",
    "            \n",
    "def greetings_2():\n",
    "        for i in range(6):\n",
    "            print(\"World\")\n",
    "            time.sleep(1)\n",
    "            \n",
    "start_time = time.time()\n",
    "\n",
    "greetings_1()\n",
    "greetings_2()\n",
    "\n",
    "end_time = time.time()\n",
    "\n",
    "print(\"Total time:\", end_time-start_time)"
   ]
  },
  {
   "cell_type": "markdown",
   "metadata": {},
   "source": [
    "#### `output`: greetings_1( ) is executed first than the greetings_2( ), total time taken for the execution of the code is 10.03"
   ]
  },
  {
   "cell_type": "code",
   "execution_count": 112,
   "metadata": {},
   "outputs": [
    {
     "name": "stdout",
     "output_type": "stream",
     "text": [
      "Hello\n",
      "World\n",
      "Hello\n",
      "World\n",
      "Hello\n",
      "World\n",
      "Hello\n",
      "World\n",
      "Hello\n",
      "World\n",
      "Hello\n",
      "World\n",
      "Total time: 6.03757905960083\n"
     ]
    }
   ],
   "source": [
    "def greetings_1():\n",
    "        for i in range(6):\n",
    "            print(\"Hello\")\n",
    "            time.sleep(1) # to mimic the waiting in realtime production\n",
    "            \n",
    "def greetings_2():\n",
    "        for i in range(6):\n",
    "            print(\"World\")\n",
    "            time.sleep(1)\n",
    "            \n",
    "start_time = time.time()\n",
    "\n",
    "t1 = threading.Thread(target = greetings_1)\n",
    "t2 = threading.Thread(target = greetings_2) \n",
    "\n",
    "t1.start()\n",
    "t2.start()\n",
    "\n",
    "t1.join()\n",
    "t2.join()\n",
    "\n",
    "end_time = time.time()\n",
    "\n",
    "print(\"Total time:\", end_time-start_time)"
   ]
  },
  {
   "cell_type": "markdown",
   "metadata": {},
   "source": [
    "#### `output`: Here the output of both of the function is printing simultaneously as well as the total time taken for the execution is lesser then the sequential way of executing code, which can be very beneficial for a large code"
   ]
  },
  {
   "cell_type": "markdown",
   "metadata": {},
   "source": [
    "### The output may show up in an interleaved manner due to synchronisation issues, which we'll discuss in the future demos. The main takeaway from this demo is that multithreading execution takes less time than sequential execution of the code"
   ]
  },
  {
   "cell_type": "code",
   "execution_count": null,
   "metadata": {
    "collapsed": true
   },
   "outputs": [],
   "source": []
  },
  {
   "cell_type": "code",
   "execution_count": null,
   "metadata": {
    "collapsed": true
   },
   "outputs": [],
   "source": []
  },
  {
   "cell_type": "code",
   "execution_count": null,
   "metadata": {
    "collapsed": true
   },
   "outputs": [],
   "source": []
  },
  {
   "cell_type": "code",
   "execution_count": null,
   "metadata": {
    "collapsed": true
   },
   "outputs": [],
   "source": []
  },
  {
   "cell_type": "code",
   "execution_count": null,
   "metadata": {
    "collapsed": true
   },
   "outputs": [],
   "source": []
  },
  {
   "cell_type": "code",
   "execution_count": null,
   "metadata": {
    "collapsed": true
   },
   "outputs": [],
   "source": []
  },
  {
   "cell_type": "code",
   "execution_count": null,
   "metadata": {
    "collapsed": true
   },
   "outputs": [],
   "source": []
  },
  {
   "cell_type": "code",
   "execution_count": null,
   "metadata": {
    "collapsed": true
   },
   "outputs": [],
   "source": []
  },
  {
   "cell_type": "code",
   "execution_count": null,
   "metadata": {
    "collapsed": true
   },
   "outputs": [],
   "source": []
  },
  {
   "cell_type": "code",
   "execution_count": null,
   "metadata": {
    "collapsed": true
   },
   "outputs": [],
   "source": []
  },
  {
   "cell_type": "code",
   "execution_count": null,
   "metadata": {
    "collapsed": true
   },
   "outputs": [],
   "source": []
  },
  {
   "cell_type": "code",
   "execution_count": null,
   "metadata": {
    "collapsed": true
   },
   "outputs": [],
   "source": []
  },
  {
   "cell_type": "code",
   "execution_count": null,
   "metadata": {
    "collapsed": true
   },
   "outputs": [],
   "source": []
  },
  {
   "cell_type": "code",
   "execution_count": null,
   "metadata": {
    "collapsed": true
   },
   "outputs": [],
   "source": []
  },
  {
   "cell_type": "code",
   "execution_count": null,
   "metadata": {
    "collapsed": true
   },
   "outputs": [],
   "source": []
  },
  {
   "cell_type": "code",
   "execution_count": null,
   "metadata": {
    "collapsed": true
   },
   "outputs": [],
   "source": []
  },
  {
   "cell_type": "code",
   "execution_count": null,
   "metadata": {
    "collapsed": true
   },
   "outputs": [],
   "source": []
  },
  {
   "cell_type": "code",
   "execution_count": null,
   "metadata": {
    "collapsed": true
   },
   "outputs": [],
   "source": []
  },
  {
   "cell_type": "code",
   "execution_count": null,
   "metadata": {
    "collapsed": true
   },
   "outputs": [],
   "source": []
  },
  {
   "cell_type": "code",
   "execution_count": null,
   "metadata": {
    "collapsed": true
   },
   "outputs": [],
   "source": []
  },
  {
   "cell_type": "code",
   "execution_count": null,
   "metadata": {
    "collapsed": true
   },
   "outputs": [],
   "source": [
    "\n",
    "\n"
   ]
  }
 ],
 "metadata": {
  "kernelspec": {
   "display_name": "Python 3",
   "language": "python",
   "name": "python3"
  },
  "language_info": {
   "codemirror_mode": {
    "name": "ipython",
    "version": 3
   },
   "file_extension": ".py",
   "mimetype": "text/x-python",
   "name": "python",
   "nbconvert_exporter": "python",
   "pygments_lexer": "ipython3",
   "version": "3.7.1"
  }
 },
 "nbformat": 4,
 "nbformat_minor": 2
}
