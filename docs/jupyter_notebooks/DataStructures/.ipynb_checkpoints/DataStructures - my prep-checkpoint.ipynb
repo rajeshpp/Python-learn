{
 "cells": [
  {
   "cell_type": "markdown",
   "metadata": {},
   "source": [
    "====> Data Structures & Algorithms in Python: Fundamental Data Structures <===="
   ]
  },
  {
   "cell_type": "markdown",
   "metadata": {},
   "source": [
    "Measures of Performance:\n",
    "    1. Time: Number of Operations.\n",
    "    2. Space it takes.\n",
    "    3. Network bandwidth consumed by an algorithm."
   ]
  },
  {
   "cell_type": "markdown",
   "metadata": {},
   "source": [
    "====> Complexity is a measure of how resource requirements change as the size of the problem gets larger. <===="
   ]
  },
  {
   "cell_type": "markdown",
   "metadata": {},
   "source": [
    "Complexity of LinkedList Operations:\n",
    "    1. Adding a new element to the end of the list: O(N)\n",
    "    2. Adding an element at the beginning of the list: O(1)\n",
    "    3. Find an element O(N)\n",
    "    4. Delete First Element O(1)\n",
    "    5. Deleting random element O(N)\n",
    "    6. Reversing of a linked list O(N).\n",
    "    7. Getting the count of elements O(N), if no counter is maintained.\n",
    "    8. Getting the count of elements O(1), if counter is maintained."
   ]
  },
  {
   "cell_type": "markdown",
   "metadata": {},
   "source": [
    "Applications of Stack operations:\n",
    "    1. Undo Operations.\n",
    "    2. Back button in the browser.\n",
    "    3. Holding the memory for recursive calls in programming languages.\n",
    "    4. Translating infix notation for expressions to postfix.\n",
    "    \n",
    "Complexity of Stack Operations:\n",
    "    1. PUSH & POP Operations have O(1).\n",
    "    2. Getting the size of the Stack is O(1).\n",
    "    3. ISEMPTY & ISNULL have O(1).\n",
    "    4. Space Complexity is O(N)."
   ]
  },
  {
   "cell_type": "markdown",
   "metadata": {},
   "source": [
    "Applications of Queue operations:\n",
    "    1. Calls to customer service hotline.\n",
    "    2. Order processing at e-commerce website.\n",
    "    3. Queueing jobs to be printed.\n",
    "    \n",
    "Complexity of Queue Operations:\n",
    "    1. Enqueuing & Dequeuing Operations have an O(1).\n",
    "    2. ISEMPTY & ISNULL have O(1).\n",
    "    3. Space Complexity is O(N)."
   ]
  },
  {
   "cell_type": "code",
   "execution_count": 1,
   "metadata": {},
   "outputs": [
    {
     "name": "stdout",
     "output_type": "stream",
     "text": [
      "Linked Lists\n"
     ]
    }
   ],
   "source": [
    "print(\"Linked Lists\")"
   ]
  },
  {
   "cell_type": "code",
   "execution_count": 2,
   "metadata": {},
   "outputs": [],
   "source": [
    "class Node:\n",
    "    def __init__(self, dataval = None, nextval = None):\n",
    "        self.dataval = dataval\n",
    "        self.nextval = nextval\n",
    "        \n",
    "    def __repr__(self):\n",
    "        return repr(self.dataval)"
   ]
  },
  {
   "cell_type": "code",
   "execution_count": 6,
   "metadata": {},
   "outputs": [
    {
     "data": {
      "text/plain": [
       "3"
      ]
     },
     "execution_count": 6,
     "metadata": {},
     "output_type": "execute_result"
    }
   ],
   "source": [
    "n1 = Node(3,4)\n",
    "n1"
   ]
  },
  {
   "cell_type": "code",
   "execution_count": null,
   "metadata": {},
   "outputs": [],
   "source": []
  }
 ],
 "metadata": {
  "kernelspec": {
   "display_name": "Python 3",
   "language": "python",
   "name": "python3"
  },
  "language_info": {
   "codemirror_mode": {
    "name": "ipython",
    "version": 3
   },
   "file_extension": ".py",
   "mimetype": "text/x-python",
   "name": "python",
   "nbconvert_exporter": "python",
   "pygments_lexer": "ipython3",
   "version": "3.7.1"
  }
 },
 "nbformat": 4,
 "nbformat_minor": 2
}
