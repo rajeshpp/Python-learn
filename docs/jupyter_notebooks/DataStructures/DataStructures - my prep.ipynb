{
 "cells": [
  {
   "cell_type": "markdown",
   "metadata": {},
   "source": [
    "====> Data Structures & Algorithms in Python: Fundamental Data Structures <===="
   ]
  },
  {
   "cell_type": "markdown",
   "metadata": {},
   "source": [
    "Measures of Performance:\n",
    "    1. Time: Number of Operations.\n",
    "    2. Space it takes.\n",
    "    3. Network bandwidth consumed by an algorithm."
   ]
  },
  {
   "cell_type": "markdown",
   "metadata": {},
   "source": [
    "====> Complexity is a measure of how resource requirements change as the size of the problem gets larger. <===="
   ]
  },
  {
   "cell_type": "markdown",
   "metadata": {},
   "source": [
    "Complexity of LinkedList Operations:\n",
    "    1. Adding a new element to the end of the list: O(N)\n",
    "    2. Adding an element at the beginning of the list: O(1)\n",
    "    3. Find an element O(N)\n",
    "    4. Delete First Element O(1)\n",
    "    5. Deleting random element O(N)\n",
    "    6. Reversing of a linked list O(N).\n",
    "    7. Getting the count of elements O(N), if no counter is maintained.\n",
    "    8. Getting the count of elements O(1), if counter is maintained."
   ]
  },
  {
   "cell_type": "markdown",
   "metadata": {},
   "source": [
    "Applications of Stack operations:\n",
    "    1. Undo Operations.\n",
    "    2. Back button in the browser.\n",
    "    3. Holding the memory for recursive calls in programming languages.\n",
    "    4. Translating infix notation for expressions to postfix.\n",
    "    \n",
    "Complexity of Stack Operations:\n",
    "    1. PUSH & POP Operations have O(1).\n",
    "    2. Getting the size of the Stack is O(1).\n",
    "    3. ISEMPTY & ISNULL have O(1).\n",
    "    4. Space Complexity is O(N)."
   ]
  },
  {
   "cell_type": "markdown",
   "metadata": {},
   "source": [
    "Applications of Queue operations:\n",
    "    1. Calls to customer service hotline.\n",
    "    2. Order processing at e-commerce website.\n",
    "    3. Queueing jobs to be printed.\n",
    "    \n",
    "Complexity of Queue Operations:\n",
    "    1. Enqueuing & Dequeuing Operations have an O(1).\n",
    "    2. ISEMPTY & ISNULL have O(1).\n",
    "    3. Space Complexity is O(N)."
   ]
  },
  {
   "cell_type": "code",
   "execution_count": 1,
   "metadata": {},
   "outputs": [
    {
     "name": "stdout",
     "output_type": "stream",
     "text": [
      "Linked Lists\n"
     ]
    }
   ],
   "source": [
    "print(\"Linked Lists\")"
   ]
  },
  {
   "cell_type": "code",
   "execution_count": 2,
   "metadata": {},
   "outputs": [],
   "source": [
    "class Node:\n",
    "    def __init__(self, dataval = None, nextval = None):\n",
    "        self.dataval = dataval\n",
    "        self.nextval = nextval\n",
    "        \n",
    "    def __repr__(self):\n",
    "        return repr(self.dataval)"
   ]
  },
  {
   "cell_type": "code",
   "execution_count": 3,
   "metadata": {},
   "outputs": [
    {
     "data": {
      "text/plain": [
       "3"
      ]
     },
     "execution_count": 3,
     "metadata": {},
     "output_type": "execute_result"
    }
   ],
   "source": [
    "n1 = Node(3,4)\n",
    "n1"
   ]
  },
  {
   "cell_type": "markdown",
   "metadata": {},
   "source": [
    "#### Sorting Algorithms: 6\n",
    "##### Regular: \n",
    "    1. Selection Sort (Non-adaptive sorting algorithm)\n",
    "    2. Bubble Sort (Adaptive sorting algorithm)\n",
    "    3. Insertion Sort (Adaptive sorting algorithm)\n",
    "##### Divide & Conquer: \n",
    "    1. Shell Sort\n",
    "    2. Merge Sort (Non-adaptive sorting algorithm)\n",
    "    3. Quick Sort (Adaptive sorting algorithm)"
   ]
  },
  {
   "cell_type": "markdown",
   "metadata": {},
   "source": [
    "## Let's look at each of them now"
   ]
  },
  {
   "cell_type": "markdown",
   "metadata": {},
   "source": [
    "##### ===========================\n",
    "#### Selection Sort\n",
    "##### ==========================="
   ]
  },
  {
   "cell_type": "code",
   "execution_count": 5,
   "metadata": {},
   "outputs": [
    {
     "name": "stdout",
     "output_type": "stream",
     "text": [
      "Sorted at 0\n",
      "[2, 5, 4, 85, 3, 56, 9, 83, 234, 43, 768]\n",
      "Sorted at 1\n",
      "[2, 3, 4, 85, 5, 56, 9, 83, 234, 43, 768]\n",
      "Sorted at 2\n",
      "[2, 3, 4, 85, 5, 56, 9, 83, 234, 43, 768]\n",
      "Sorted at 3\n",
      "[2, 3, 4, 5, 85, 56, 9, 83, 234, 43, 768]\n",
      "Sorted at 4\n",
      "[2, 3, 4, 5, 9, 56, 85, 83, 234, 43, 768]\n",
      "Sorted at 5\n",
      "[2, 3, 4, 5, 9, 43, 85, 83, 234, 56, 768]\n",
      "Sorted at 6\n",
      "[2, 3, 4, 5, 9, 43, 56, 83, 234, 85, 768]\n",
      "Sorted at 7\n",
      "[2, 3, 4, 5, 9, 43, 56, 83, 234, 85, 768]\n",
      "Sorted at 8\n",
      "[2, 3, 4, 5, 9, 43, 56, 83, 85, 234, 768]\n",
      "Sorted at 9\n",
      "[2, 3, 4, 5, 9, 43, 56, 83, 85, 234, 768]\n",
      "Sorted at 10\n",
      "[2, 3, 4, 5, 9, 43, 56, 83, 85, 234, 768]\n",
      "Final Sorted List:\n",
      "[2, 3, 4, 5, 9, 43, 56, 83, 85, 234, 768]\n",
      "================================================================================\n",
      "Sorted at 0\n",
      "['Canada', 'USA', 'India', 'Singapore', 'Malaysia', 'Swiss']\n",
      "Sorted at 1\n",
      "['Canada', 'India', 'USA', 'Singapore', 'Malaysia', 'Swiss']\n",
      "Sorted at 2\n",
      "['Canada', 'India', 'Malaysia', 'Singapore', 'USA', 'Swiss']\n",
      "Sorted at 3\n",
      "['Canada', 'India', 'Malaysia', 'Singapore', 'USA', 'Swiss']\n",
      "Sorted at 4\n",
      "['Canada', 'India', 'Malaysia', 'Singapore', 'Swiss', 'USA']\n",
      "Sorted at 5\n",
      "['Canada', 'India', 'Malaysia', 'Singapore', 'Swiss', 'USA']\n",
      "Final Sorted List:\n",
      "['Canada', 'India', 'Malaysia', 'Singapore', 'Swiss', 'USA']\n"
     ]
    }
   ],
   "source": [
    "def print_list(num_list):\n",
    "    print(num_list)\n",
    "\n",
    "def selection_sort(original_list):\n",
    "    length = len(original_list)\n",
    "    for i in range(length):\n",
    "        min_elem_index = i\n",
    "        for j in range(i+1, length):\n",
    "            if original_list[min_elem_index] > original_list[j]:\n",
    "                min_elem_index = j\n",
    "        original_list[i], original_list[min_elem_index] = original_list[min_elem_index], original_list[i]\n",
    "        print(\"Sorted at\", i)\n",
    "        print_list(original_list)\n",
    "    \n",
    "    print(\"Final Sorted List:\")\n",
    "    print_list(original_list)\n",
    "\n",
    "some_list = [234,5,4,85,3,56,9,83,2,43,768]\n",
    "selection_sort(some_list)\n",
    "print(\"========\"*10)\n",
    "some_list = [\"India\", \"USA\", \"Canada\", \"Singapore\", \"Malaysia\", \"Swiss\"]\n",
    "selection_sort(some_list)"
   ]
  },
  {
   "cell_type": "markdown",
   "metadata": {},
   "source": [
    "##### ===========================\n",
    "#### Bubble Sort\n",
    "##### ==========================="
   ]
  },
  {
   "cell_type": "code",
   "execution_count": 4,
   "metadata": {},
   "outputs": [
    {
     "name": "stdout",
     "output_type": "stream",
     "text": [
      "List so far: [89, 5, 4, 85, 3, 56, 9, 83, 2, 43, 234, 768]\n",
      "List so far: [5, 4, 85, 3, 56, 9, 83, 2, 43, 89, 234, 768]\n",
      "List so far: [4, 5, 3, 56, 9, 83, 2, 43, 85, 89, 234, 768]\n",
      "List so far: [4, 3, 5, 9, 56, 2, 43, 83, 85, 89, 234, 768]\n",
      "List so far: [3, 4, 5, 9, 2, 43, 56, 83, 85, 89, 234, 768]\n",
      "List so far: [3, 4, 5, 2, 9, 43, 56, 83, 85, 89, 234, 768]\n",
      "List so far: [3, 4, 2, 5, 9, 43, 56, 83, 85, 89, 234, 768]\n",
      "List so far: [3, 2, 4, 5, 9, 43, 56, 83, 85, 89, 234, 768]\n",
      "List so far: [2, 3, 4, 5, 9, 43, 56, 83, 85, 89, 234, 768]\n",
      "List so far: [2, 3, 4, 5, 9, 43, 56, 83, 85, 89, 234, 768]\n",
      "List so far: [2, 3, 4, 5, 9, 43, 56, 83, 85, 89, 234, 768]\n",
      "Sorted List:  [2, 3, 4, 5, 9, 43, 56, 83, 85, 89, 234, 768]\n",
      "================================================================================\n",
      "List so far: ['India', 'Canada', 'Singapore', 'Malaysia', 'Swiss', 'USA']\n",
      "List so far: ['Canada', 'India', 'Malaysia', 'Singapore', 'Swiss', 'USA']\n",
      "List so far: ['Canada', 'India', 'Malaysia', 'Singapore', 'Swiss', 'USA']\n",
      "List so far: ['Canada', 'India', 'Malaysia', 'Singapore', 'Swiss', 'USA']\n",
      "List so far: ['Canada', 'India', 'Malaysia', 'Singapore', 'Swiss', 'USA']\n",
      "Sorted List:  ['Canada', 'India', 'Malaysia', 'Singapore', 'Swiss', 'USA']\n"
     ]
    }
   ],
   "source": [
    "def print_list(num_list):\n",
    "    print(num_list)\n",
    "\n",
    "def bubble_sort(original_list):\n",
    "    length = len(original_list)\n",
    "    \n",
    "    for i in range(length-1, 0, -1):\n",
    "        for j in range(i):\n",
    "            if original_list[j] > original_list[j+1]:\n",
    "                original_list[j], original_list[j+1] = original_list[j+1], original_list[j]\n",
    "        print(\"List so far:\", original_list)\n",
    "    \n",
    "    print('Sorted List: ',original_list)\n",
    "\n",
    "some_list = [89,234,5,4,85,3,56,9,83,2,43,768]\n",
    "bubble_sort(some_list)\n",
    "print(\"========\"*10)\n",
    "some_list = [\"India\", \"USA\", \"Canada\", \"Singapore\", \"Malaysia\", \"Swiss\"]\n",
    "bubble_sort(some_list)"
   ]
  },
  {
   "cell_type": "markdown",
   "metadata": {},
   "source": [
    "##### ===========================\n",
    "#### Insertion Sort\n",
    "##### ==========================="
   ]
  },
  {
   "cell_type": "code",
   "execution_count": 9,
   "metadata": {},
   "outputs": [
    {
     "name": "stdout",
     "output_type": "stream",
     "text": [
      "List so far:  [89, 234, 5, 4, 768, 85, 3, 56, 9, 83, 2, 43]\n",
      "List so far:  [5, 89, 234, 4, 768, 85, 3, 56, 9, 83, 2, 43]\n",
      "List so far:  [4, 5, 89, 234, 768, 85, 3, 56, 9, 83, 2, 43]\n",
      "List so far:  [4, 5, 89, 234, 768, 85, 3, 56, 9, 83, 2, 43]\n",
      "List so far:  [4, 5, 85, 89, 234, 768, 3, 56, 9, 83, 2, 43]\n",
      "List so far:  [3, 4, 5, 85, 89, 234, 768, 56, 9, 83, 2, 43]\n",
      "List so far:  [3, 4, 5, 56, 85, 89, 234, 768, 9, 83, 2, 43]\n",
      "List so far:  [3, 4, 5, 9, 56, 85, 89, 234, 768, 83, 2, 43]\n",
      "List so far:  [3, 4, 5, 9, 56, 83, 85, 89, 234, 768, 2, 43]\n",
      "List so far:  [2, 3, 4, 5, 9, 56, 83, 85, 89, 234, 768, 43]\n",
      "List so far:  [2, 3, 4, 5, 9, 43, 56, 83, 85, 89, 234, 768]\n",
      "Sorted List is:  [2, 3, 4, 5, 9, 43, 56, 83, 85, 89, 234, 768]\n",
      "================================================================================\n",
      "List so far:  ['India', 'USA', 'Canada', 'Singapore', 'Malaysia', 'Swiss']\n",
      "List so far:  ['Canada', 'India', 'USA', 'Singapore', 'Malaysia', 'Swiss']\n",
      "List so far:  ['Canada', 'India', 'Singapore', 'USA', 'Malaysia', 'Swiss']\n",
      "List so far:  ['Canada', 'India', 'Malaysia', 'Singapore', 'USA', 'Swiss']\n",
      "List so far:  ['Canada', 'India', 'Malaysia', 'Singapore', 'Swiss', 'USA']\n",
      "Sorted List is:  ['Canada', 'India', 'Malaysia', 'Singapore', 'Swiss', 'USA']\n"
     ]
    }
   ],
   "source": [
    "def print_list(num_list):\n",
    "    print(num_list)\n",
    "\n",
    "def insertion_sort(original_list):\n",
    "    length = len(original_list)\n",
    "    \n",
    "    for i in range(length-1):\n",
    "        for j in range(i+1, 0, -1):\n",
    "            if original_list[j] < original_list[j-1]:\n",
    "                original_list[j], original_list[j-1] = original_list[j-1], original_list[j]\n",
    "        print('List so far: ', original_list)\n",
    "    print(\"Sorted List is: \", original_list)\n",
    "\n",
    "some_list = [89,234,5,4,768,85,3,56,9,83,2,43]\n",
    "insertion_sort(some_list)\n",
    "print(\"========\"*10)\n",
    "some_list = [\"India\", \"USA\", \"Canada\", \"Singapore\", \"Malaysia\", \"Swiss\"]\n",
    "insertion_sort(some_list)"
   ]
  },
  {
   "cell_type": "code",
   "execution_count": null,
   "metadata": {},
   "outputs": [],
   "source": []
  }
 ],
 "metadata": {
  "kernelspec": {
   "display_name": "Python 3",
   "language": "python",
   "name": "python3"
  },
  "language_info": {
   "codemirror_mode": {
    "name": "ipython",
    "version": 3
   },
   "file_extension": ".py",
   "mimetype": "text/x-python",
   "name": "python",
   "nbconvert_exporter": "python",
   "pygments_lexer": "ipython3",
   "version": "3.7.1"
  }
 },
 "nbformat": 4,
 "nbformat_minor": 2
}
